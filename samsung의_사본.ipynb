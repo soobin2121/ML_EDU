{
  "nbformat": 4,
  "nbformat_minor": 0,
  "metadata": {
    "colab": {
      "name": "samsung의 사본",
      "provenance": [],
      "collapsed_sections": [],
      "authorship_tag": "ABX9TyMS4xjl8vPDK8dppKXDnuzs",
      "include_colab_link": true
    },
    "kernelspec": {
      "name": "python3",
      "display_name": "Python 3"
    }
  },
  "cells": [
    {
      "cell_type": "markdown",
      "metadata": {
        "id": "view-in-github",
        "colab_type": "text"
      },
      "source": [
        "<a href=\"https://colab.research.google.com/github/soobin2121/ML_EDU/blob/master/samsung%EC%9D%98_%EC%82%AC%EB%B3%B8.ipynb\" target=\"_parent\"><img src=\"https://colab.research.google.com/assets/colab-badge.svg\" alt=\"Open In Colab\"/></a>"
      ]
    },
    {
      "cell_type": "code",
      "metadata": {
        "id": "e5VTMk3mbdwi",
        "colab_type": "code",
        "colab": {}
      },
      "source": [
        "s%config InlineBackend.figure_format = 'retina'\n",
        "!apt -qq -y install fonts-nanum"
      ],
      "execution_count": null,
      "outputs": []
    },
    {
      "cell_type": "code",
      "metadata": {
        "id": "Liml57IxbqbS",
        "colab_type": "code",
        "colab": {}
      },
      "source": [
        "import matplotlib as mpl\n",
        "import matplotlib.pyplot as plt\n",
        "import matplotlib.font_manager as fm\n",
        "from pandas.plotting import register_matplotlib_converters"
      ],
      "execution_count": null,
      "outputs": []
    },
    {
      "cell_type": "code",
      "metadata": {
        "id": "7EpKhAKhb_ea",
        "colab_type": "code",
        "colab": {}
      },
      "source": [
        "fontpath = '/usr/share/fonts/truetype/nanum/NanumBarunGothic.ttf'\n",
        "font = fm.FontProperties(fname=fontpath, size=9)\n",
        "plt.rc('font', family='NanumBarunGothic')\n",
        "plt.rcParams[\"figure.figsize\"] = (20,10)\n",
        "register_matplotlib_converters()\n",
        "mpl.font_manager._rebuild()\n",
        "mpl.pyplot.rc('font', family='NanumGothic')\n",
        "fm._rebuild()"
      ],
      "execution_count": null,
      "outputs": []
    },
    {
      "cell_type": "code",
      "metadata": {
        "id": "uisTOP70czNK",
        "colab_type": "code",
        "colab": {}
      },
      "source": [
        "import matplotlib.pyplot as plt\n",
        "import matplotlib.dates as mdates\n",
        "import numpy as np\n",
        "import math\n",
        "from datetime import date, timedelta\n",
        "import warnings\n",
        "warnings.filterwarnings(\"ignore\")"
      ],
      "execution_count": null,
      "outputs": []
    },
    {
      "cell_type": "code",
      "metadata": {
        "id": "0MozLz4UaTN3",
        "colab_type": "code",
        "colab": {}
      },
      "source": [
        "%matplotlib inline\n",
        "import pandas as pd\n",
        "import pandas_profiling\n",
        "import numpy as np\n",
        "import matplotlib as mpl\n",
        "import matplotlib.pyplot as plt\n",
        "from matplotlib.pyplot import figure\n",
        "import seaborn as sns\n",
        "from IPython.core.display import display, HTML\n",
        "from pandas_profiling import ProfileReport"
      ],
      "execution_count": null,
      "outputs": []
    },
    {
      "cell_type": "code",
      "metadata": {
        "id": "a7Noyn41aW6R",
        "colab_type": "code",
        "colab": {
          "base_uri": "https://localhost:8080/",
          "height": 145
        },
        "outputId": "429766b5-e674-4d9e-8690-216149a93507"
      },
      "source": [
        "from google.colab import drive\n",
        "ROOT = \"/content/drive\" \n",
        "print(ROOT) \n",
        "drive.mount(ROOT)  "
      ],
      "execution_count": null,
      "outputs": [
        {
          "output_type": "stream",
          "text": [
            "/content/drive\n",
            "Go to this URL in a browser: https://accounts.google.com/o/oauth2/auth?client_id=947318989803-6bn6qk8qdgf4n4g3pfee6491hc0brc4i.apps.googleusercontent.com&redirect_uri=urn%3aietf%3awg%3aoauth%3a2.0%3aoob&scope=email%20https%3a%2f%2fwww.googleapis.com%2fauth%2fdocs.test%20https%3a%2f%2fwww.googleapis.com%2fauth%2fdrive%20https%3a%2f%2fwww.googleapis.com%2fauth%2fdrive.photos.readonly%20https%3a%2f%2fwww.googleapis.com%2fauth%2fpeopleapi.readonly&response_type=code\n",
            "\n",
            "Enter your authorization code:\n",
            "··········\n",
            "Mounted at /content/drive\n"
          ],
          "name": "stdout"
        }
      ]
    },
    {
      "cell_type": "code",
      "metadata": {
        "id": "8sFOjql3ae-6",
        "colab_type": "code",
        "colab": {
          "base_uri": "https://localhost:8080/",
          "height": 35
        },
        "outputId": "ac7889fa-f0b9-4c52-c7b2-eabc21ff7065"
      },
      "source": [
        "%cd drive/'My Drive'/'Colab Notebooks'/'samsung'"
      ],
      "execution_count": null,
      "outputs": [
        {
          "output_type": "stream",
          "text": [
            "/content/drive/My Drive/Colab Notebooks/samsung\n"
          ],
          "name": "stdout"
        }
      ]
    },
    {
      "cell_type": "code",
      "metadata": {
        "id": "6_23Y6xBah1j",
        "colab_type": "code",
        "colab": {
          "base_uri": "https://localhost:8080/",
          "height": 35
        },
        "outputId": "e1e83ffe-4fb1-4168-9255-ceaac1577ffe"
      },
      "source": [
        "%ls"
      ],
      "execution_count": null,
      "outputs": [
        {
          "output_type": "stream",
          "text": [
            "trend_w_demo.csv\n"
          ],
          "name": "stdout"
        }
      ]
    },
    {
      "cell_type": "code",
      "metadata": {
        "id": "cUMbXmTjdTNC",
        "colab_type": "code",
        "colab": {
          "base_uri": "https://localhost:8080/",
          "height": 204
        },
        "outputId": "5880a271-1838-42e1-b3aa-a5776b7f78bc"
      },
      "source": [
        "data = pd.read_csv(\"trend_w_demo.csv\", encoding='CP949')\n",
        "data.head()"
      ],
      "execution_count": null,
      "outputs": [
        {
          "output_type": "execute_result",
          "data": {
            "text/html": [
              "<div>\n",
              "<style scoped>\n",
              "    .dataframe tbody tr th:only-of-type {\n",
              "        vertical-align: middle;\n",
              "    }\n",
              "\n",
              "    .dataframe tbody tr th {\n",
              "        vertical-align: top;\n",
              "    }\n",
              "\n",
              "    .dataframe thead th {\n",
              "        text-align: right;\n",
              "    }\n",
              "</style>\n",
              "<table border=\"1\" class=\"dataframe\">\n",
              "  <thead>\n",
              "    <tr style=\"text-align: right;\">\n",
              "      <th></th>\n",
              "      <th>YM</th>\n",
              "      <th>Category</th>\n",
              "      <th>성별구분</th>\n",
              "      <th>연령대</th>\n",
              "      <th>기혼스코어</th>\n",
              "      <th>유아자녀스코어</th>\n",
              "      <th>초등학생자녀스코어</th>\n",
              "      <th>중고생자녀스코어</th>\n",
              "      <th>대학생자녀스코어</th>\n",
              "      <th>전업주부스코어</th>\n",
              "    </tr>\n",
              "  </thead>\n",
              "  <tbody>\n",
              "    <tr>\n",
              "      <th>0</th>\n",
              "      <td>202005</td>\n",
              "      <td>할인점</td>\n",
              "      <td>0</td>\n",
              "      <td>F</td>\n",
              "      <td>high</td>\n",
              "      <td>low</td>\n",
              "      <td>high</td>\n",
              "      <td>mid</td>\n",
              "      <td>low</td>\n",
              "      <td>low</td>\n",
              "    </tr>\n",
              "    <tr>\n",
              "      <th>1</th>\n",
              "      <td>202005</td>\n",
              "      <td>취미</td>\n",
              "      <td>0</td>\n",
              "      <td>B</td>\n",
              "      <td>high</td>\n",
              "      <td>low</td>\n",
              "      <td>mid</td>\n",
              "      <td>mid</td>\n",
              "      <td>low</td>\n",
              "      <td>low</td>\n",
              "    </tr>\n",
              "    <tr>\n",
              "      <th>2</th>\n",
              "      <td>202005</td>\n",
              "      <td>오픈마켓/소셜</td>\n",
              "      <td>1</td>\n",
              "      <td>D</td>\n",
              "      <td>mid</td>\n",
              "      <td>mid</td>\n",
              "      <td>mid</td>\n",
              "      <td>mid</td>\n",
              "      <td>low</td>\n",
              "      <td>mid</td>\n",
              "    </tr>\n",
              "    <tr>\n",
              "      <th>3</th>\n",
              "      <td>202005</td>\n",
              "      <td>뷰티</td>\n",
              "      <td>0</td>\n",
              "      <td>D</td>\n",
              "      <td>mid</td>\n",
              "      <td>mid</td>\n",
              "      <td>mid</td>\n",
              "      <td>mid</td>\n",
              "      <td>low</td>\n",
              "      <td>low</td>\n",
              "    </tr>\n",
              "    <tr>\n",
              "      <th>4</th>\n",
              "      <td>202005</td>\n",
              "      <td>오픈마켓/소셜</td>\n",
              "      <td>0</td>\n",
              "      <td>G</td>\n",
              "      <td>high</td>\n",
              "      <td>low</td>\n",
              "      <td>mid</td>\n",
              "      <td>mid</td>\n",
              "      <td>mid</td>\n",
              "      <td>low</td>\n",
              "    </tr>\n",
              "  </tbody>\n",
              "</table>\n",
              "</div>"
            ],
            "text/plain": [
              "       YM Category  성별구분 연령대 기혼스코어 유아자녀스코어 초등학생자녀스코어 중고생자녀스코어 대학생자녀스코어 전업주부스코어\n",
              "0  202005      할인점     0   F  high     low      high      mid      low     low\n",
              "1  202005       취미     0   B  high     low       mid      mid      low     low\n",
              "2  202005  오픈마켓/소셜     1   D   mid     mid       mid      mid      low     mid\n",
              "3  202005       뷰티     0   D   mid     mid       mid      mid      low     low\n",
              "4  202005  오픈마켓/소셜     0   G  high     low       mid      mid      mid     low"
            ]
          },
          "metadata": {
            "tags": []
          },
          "execution_count": 12
        }
      ]
    },
    {
      "cell_type": "code",
      "metadata": {
        "id": "zVSIg-8Zd3mD",
        "colab_type": "code",
        "colab": {
          "base_uri": "https://localhost:8080/",
          "height": 35
        },
        "outputId": "4e0b856f-ca97-43a8-9f98-b3672c0a41a6"
      },
      "source": [
        "data['YM'].unique()"
      ],
      "execution_count": null,
      "outputs": [
        {
          "output_type": "execute_result",
          "data": {
            "text/plain": [
              "array([202005, 202004, 201905, 201904])"
            ]
          },
          "metadata": {
            "tags": []
          },
          "execution_count": 13
        }
      ]
    },
    {
      "cell_type": "code",
      "metadata": {
        "id": "Xn_J_pnTfPi9",
        "colab_type": "code",
        "colab": {
          "base_uri": "https://localhost:8080/",
          "height": 53
        },
        "outputId": "5d8d6485-d5f8-463a-9322-c91123b39327"
      },
      "source": [
        "data['Category'].unique()"
      ],
      "execution_count": null,
      "outputs": [
        {
          "output_type": "execute_result",
          "data": {
            "text/plain": [
              "array(['할인점', '취미', '오픈마켓/소셜', '뷰티', '디저트', '전문몰', '항공/여행사', '종합몰',\n",
              "       '호텔/숙박', '면세점'], dtype=object)"
            ]
          },
          "metadata": {
            "tags": []
          },
          "execution_count": 14
        }
      ]
    },
    {
      "cell_type": "code",
      "metadata": {
        "id": "8EpB8oIGf4WN",
        "colab_type": "code",
        "colab": {
          "base_uri": "https://localhost:8080/",
          "height": 35
        },
        "outputId": "391af716-763e-4f70-8850-69b60bfa8bbf"
      },
      "source": [
        "data['기혼스코어'].unique()"
      ],
      "execution_count": null,
      "outputs": [
        {
          "output_type": "execute_result",
          "data": {
            "text/plain": [
              "array(['high', 'mid', 'low'], dtype=object)"
            ]
          },
          "metadata": {
            "tags": []
          },
          "execution_count": 15
        }
      ]
    },
    {
      "cell_type": "code",
      "metadata": {
        "id": "fYwuEH0RgjZ1",
        "colab_type": "code",
        "colab": {}
      },
      "source": [
        "#data[\"기혼스코어\"].replace({\"high\": 3, \"mid\": 2, \"low\":1}, inplace=True)\n",
        "#data[\"유아자녀스코어\"].replace({\"high\": 3, \"mid\": 2, \"low\":1}, inplace=True)\n",
        "#data[\"초등학생자녀스코어\"].replace({\"high\": 3, \"mid\": 2, \"low\":1}, inplace=True)\n",
        "#data[\"중고생자녀스코어\"].replace({\"high\": 3, \"mid\": 2, \"low\":1}, inplace=True)\n",
        "#data[\"대학생자녀스코어\"].replace({\"high\": 3, \"mid\": 2, \"low\":1}, inplace=True)\n",
        "#data[\"전업주부스코어\"].replace({\"high\": 3, \"mid\": 2, \"low\":1}, inplace=True)"
      ],
      "execution_count": null,
      "outputs": []
    },
    {
      "cell_type": "code",
      "metadata": {
        "id": "Uqj1-Fw4kEfI",
        "colab_type": "code",
        "colab": {
          "base_uri": "https://localhost:8080/",
          "height": 323
        },
        "outputId": "96921361-fccf-4208-c13a-222780d6c9d4"
      },
      "source": [
        "data.info()"
      ],
      "execution_count": null,
      "outputs": [
        {
          "output_type": "stream",
          "text": [
            "<class 'pandas.core.frame.DataFrame'>\n",
            "RangeIndex: 452038 entries, 0 to 452037\n",
            "Data columns (total 10 columns):\n",
            " #   Column     Non-Null Count   Dtype \n",
            "---  ------     --------------   ----- \n",
            " 0   YM         452038 non-null  int64 \n",
            " 1   Category   452038 non-null  object\n",
            " 2   성별구분       452038 non-null  int64 \n",
            " 3   연령대        452038 non-null  object\n",
            " 4   기혼스코어      452038 non-null  object\n",
            " 5   유아자녀스코어    452038 non-null  object\n",
            " 6   초등학생자녀스코어  452038 non-null  object\n",
            " 7   중고생자녀스코어   452038 non-null  object\n",
            " 8   대학생자녀스코어   452038 non-null  object\n",
            " 9   전업주부스코어    452038 non-null  object\n",
            "dtypes: int64(2), object(8)\n",
            "memory usage: 34.5+ MB\n"
          ],
          "name": "stdout"
        }
      ]
    },
    {
      "cell_type": "code",
      "metadata": {
        "id": "3ZUXgjF6nBeq",
        "colab_type": "code",
        "colab": {
          "base_uri": "https://localhost:8080/",
          "height": 143
        },
        "outputId": "47689220-7585-42a8-930b-36429967ecad"
      },
      "source": [
        "data1 = data.groupby(['Category']).count()['연령대'].sort_values(ascending=False)\n",
        "data1.head()"
      ],
      "execution_count": null,
      "outputs": [
        {
          "output_type": "execute_result",
          "data": {
            "text/plain": [
              "Category\n",
              "전문몰        126062\n",
              "디저트         89743\n",
              "할인점         84636\n",
              "오픈마켓/소셜     80742\n",
              "뷰티          20453\n",
              "Name: 연령대, dtype: int64"
            ]
          },
          "metadata": {
            "tags": []
          },
          "execution_count": 18
        }
      ]
    },
    {
      "cell_type": "code",
      "metadata": {
        "id": "zd39E5XKpBS4",
        "colab_type": "code",
        "colab": {
          "base_uri": "https://localhost:8080/",
          "height": 53
        },
        "outputId": "3b4d2382-aa5d-40ab-a382-45f45117d365"
      },
      "source": [
        "data1.plot(kind='barh', figsize=(15,5), title='카테고리 별 결제 순위')\n",
        "plt.show()"
      ],
      "execution_count": null,
      "outputs": [
        {
          "output_type": "stream",
          "text": [
            "findfont: Font family ['NanumGothic'] not found. Falling back to DejaVu Sans.\n",
            "findfont: Font family ['NanumGothic'] not found. Falling back to DejaVu Sans.\n"
          ],
          "name": "stderr"
        }
      ]
    },
    {
      "cell_type": "code",
      "metadata": {
        "id": "MRINkObUsNJi",
        "colab_type": "code",
        "colab": {
          "base_uri": "https://localhost:8080/",
          "height": 204
        },
        "outputId": "f9fd8674-60d8-4944-d3cd-4438a0c60eaa"
      },
      "source": [
        "data['성별구분']=data['성별구분'].replace([1],'여성')\n",
        "data['성별구분']=data['성별구분'].replace([0],'남성')\n",
        "data.head()"
      ],
      "execution_count": null,
      "outputs": [
        {
          "output_type": "execute_result",
          "data": {
            "text/html": [
              "<div>\n",
              "<style scoped>\n",
              "    .dataframe tbody tr th:only-of-type {\n",
              "        vertical-align: middle;\n",
              "    }\n",
              "\n",
              "    .dataframe tbody tr th {\n",
              "        vertical-align: top;\n",
              "    }\n",
              "\n",
              "    .dataframe thead th {\n",
              "        text-align: right;\n",
              "    }\n",
              "</style>\n",
              "<table border=\"1\" class=\"dataframe\">\n",
              "  <thead>\n",
              "    <tr style=\"text-align: right;\">\n",
              "      <th></th>\n",
              "      <th>YM</th>\n",
              "      <th>Category</th>\n",
              "      <th>성별구분</th>\n",
              "      <th>연령대</th>\n",
              "      <th>기혼스코어</th>\n",
              "      <th>유아자녀스코어</th>\n",
              "      <th>초등학생자녀스코어</th>\n",
              "      <th>중고생자녀스코어</th>\n",
              "      <th>대학생자녀스코어</th>\n",
              "      <th>전업주부스코어</th>\n",
              "    </tr>\n",
              "  </thead>\n",
              "  <tbody>\n",
              "    <tr>\n",
              "      <th>0</th>\n",
              "      <td>202005</td>\n",
              "      <td>할인점</td>\n",
              "      <td>남성</td>\n",
              "      <td>F</td>\n",
              "      <td>high</td>\n",
              "      <td>low</td>\n",
              "      <td>high</td>\n",
              "      <td>mid</td>\n",
              "      <td>low</td>\n",
              "      <td>low</td>\n",
              "    </tr>\n",
              "    <tr>\n",
              "      <th>1</th>\n",
              "      <td>202005</td>\n",
              "      <td>취미</td>\n",
              "      <td>남성</td>\n",
              "      <td>B</td>\n",
              "      <td>high</td>\n",
              "      <td>low</td>\n",
              "      <td>mid</td>\n",
              "      <td>mid</td>\n",
              "      <td>low</td>\n",
              "      <td>low</td>\n",
              "    </tr>\n",
              "    <tr>\n",
              "      <th>2</th>\n",
              "      <td>202005</td>\n",
              "      <td>오픈마켓/소셜</td>\n",
              "      <td>여성</td>\n",
              "      <td>D</td>\n",
              "      <td>mid</td>\n",
              "      <td>mid</td>\n",
              "      <td>mid</td>\n",
              "      <td>mid</td>\n",
              "      <td>low</td>\n",
              "      <td>mid</td>\n",
              "    </tr>\n",
              "    <tr>\n",
              "      <th>3</th>\n",
              "      <td>202005</td>\n",
              "      <td>뷰티</td>\n",
              "      <td>남성</td>\n",
              "      <td>D</td>\n",
              "      <td>mid</td>\n",
              "      <td>mid</td>\n",
              "      <td>mid</td>\n",
              "      <td>mid</td>\n",
              "      <td>low</td>\n",
              "      <td>low</td>\n",
              "    </tr>\n",
              "    <tr>\n",
              "      <th>4</th>\n",
              "      <td>202005</td>\n",
              "      <td>오픈마켓/소셜</td>\n",
              "      <td>남성</td>\n",
              "      <td>G</td>\n",
              "      <td>high</td>\n",
              "      <td>low</td>\n",
              "      <td>mid</td>\n",
              "      <td>mid</td>\n",
              "      <td>mid</td>\n",
              "      <td>low</td>\n",
              "    </tr>\n",
              "  </tbody>\n",
              "</table>\n",
              "</div>"
            ],
            "text/plain": [
              "       YM Category 성별구분 연령대 기혼스코어 유아자녀스코어 초등학생자녀스코어 중고생자녀스코어 대학생자녀스코어 전업주부스코어\n",
              "0  202005      할인점   남성   F  high     low      high      mid      low     low\n",
              "1  202005       취미   남성   B  high     low       mid      mid      low     low\n",
              "2  202005  오픈마켓/소셜   여성   D   mid     mid       mid      mid      low     mid\n",
              "3  202005       뷰티   남성   D   mid     mid       mid      mid      low     low\n",
              "4  202005  오픈마켓/소셜   남성   G  high     low       mid      mid      mid     low"
            ]
          },
          "metadata": {
            "tags": []
          },
          "execution_count": 20
        }
      ]
    },
    {
      "cell_type": "code",
      "metadata": {
        "id": "S056L87MsYpR",
        "colab_type": "code",
        "colab": {}
      },
      "source": [
        "data2= data[(data['YM']== 202004) | (data['YM']== 202005)]\n",
        "data3= data[(data['YM']== 201904) | (data['YM']== 201905)]"
      ],
      "execution_count": null,
      "outputs": []
    },
    {
      "cell_type": "code",
      "metadata": {
        "id": "KB4Jyewu0N9c",
        "colab_type": "code",
        "colab": {
          "base_uri": "https://localhost:8080/",
          "height": 89
        },
        "outputId": "bb0544b2-9798-40f2-d54f-978b52097358"
      },
      "source": [
        "housewife=data2['전업주부스코어'].value_counts()\n",
        "housewife"
      ],
      "execution_count": null,
      "outputs": [
        {
          "output_type": "execute_result",
          "data": {
            "text/plain": [
              "low     107847\n",
              "mid      93545\n",
              "high      9076\n",
              "Name: 전업주부스코어, dtype: int64"
            ]
          },
          "metadata": {
            "tags": []
          },
          "execution_count": 22
        }
      ]
    },
    {
      "cell_type": "code",
      "metadata": {
        "id": "CLxzvTFU0_IB",
        "colab_type": "code",
        "colab": {}
      },
      "source": [
        "%matplotlib inline"
      ],
      "execution_count": null,
      "outputs": []
    },
    {
      "cell_type": "code",
      "metadata": {
        "id": "r1qZO42-48-G",
        "colab_type": "code",
        "colab": {
          "base_uri": "https://localhost:8080/",
          "height": 336
        },
        "outputId": "eeff5fce-708b-4a08-870b-3ba044be4939"
      },
      "source": [
        "housewife=data2['전업주부스코어'].value_counts()\n",
        "housewife= housewife.plot(kind='barh',figsize=(15,5),color='lightcoral',title='2020년 전업주부스코어')\n",
        "plt.show()"
      ],
      "execution_count": null,
      "outputs": [
        {
          "output_type": "display_data",
          "data": {
            "image/png": "[encoded data removed]",
            "text/plain": [
              "<Figure size 1080x360 with 1 Axes>"
            ]
          },
          "metadata": {
            "tags": [],
            "needs_background": "light"
          }
        }
      ]
    },
    {
      "cell_type": "code",
      "metadata": {
        "id": "Bswo0AqP9_AS",
        "colab_type": "code",
        "colab": {
          "base_uri": "https://localhost:8080/",
          "height": 336
        },
        "outputId": "d548238a-6c52-43c0-f535-9fdfb0fa5591"
      },
      "source": [
        "housewife=data3['전업주부스코어'].value_counts()\n",
        "housewife= housewife.plot(kind='barh',figsize=(15,5), color='gold', title='2019년 전업주부스코어')"
      ],
      "execution_count": null,
      "outputs": [
        {
          "output_type": "display_data",
          "data": {
            "image/png": "[encoded data removed]",
            "text/plain": [
              "<Figure size 1080x360 with 1 Axes>"
            ]
          },
          "metadata": {
            "tags": [],
            "needs_background": "light"
          }
        }
      ]
    },
    {
      "cell_type": "code",
      "metadata": {
        "id": "ITTDV0aa_Iua",
        "colab_type": "code",
        "colab": {
          "base_uri": "https://localhost:8080/",
          "height": 336
        },
        "outputId": "141c3b59-1704-4f75-f0a9-ff3e66a88c50"
      },
      "source": [
        "school=data2['대학생자녀스코어'].value_counts()\n",
        "school= school.plot(kind='barh',figsize=(15,5), color='cadetblue',title='2020년 대학생자녀스코어')"
      ],
      "execution_count": null,
      "outputs": [
        {
          "output_type": "display_data",
          "data": {
            "image/png": "[encoded data removed]",
            "text/plain": [
              "<Figure size 1080x360 with 1 Axes>"
            ]
          },
          "metadata": {
            "tags": [],
            "needs_background": "light"
          }
        }
      ]
    },
    {
      "cell_type": "code",
      "metadata": {
        "id": "RORzBqVq_Q8v",
        "colab_type": "code",
        "colab": {
          "base_uri": "https://localhost:8080/",
          "height": 336
        },
        "outputId": "d7430e1e-f27e-4ea8-ac42-b4728ec0df9d"
      },
      "source": [
        "school=data3['대학생자녀스코어'].value_counts()\n",
        "school= school.plot(kind='barh',figsize=(15,5), color='plum',title='2019년 대학생자녀스코어')"
      ],
      "execution_count": null,
      "outputs": [
        {
          "output_type": "display_data",
          "data": {
            "image/png": "[encoded data removed]",
            "text/plain": [
              "<Figure size 1080x360 with 1 Axes>"
            ]
          },
          "metadata": {
            "tags": [],
            "needs_background": "light"
          }
        }
      ]
    },
    {
      "cell_type": "markdown",
      "metadata": {
        "id": "Qgl7EzNtSgEB",
        "colab_type": "text"
      },
      "source": [
        "\n",
        "1. 2019년 카테고리 별 결제 순위(성별로)\n",
        "2. 2020년 카테고리 별 결제 순위(성별로)\n",
        "3. 2019년 연령별 건수( 성별로)\n",
        "4. 2020년 연령별 건수(성별로)\n",
        "\n"
      ]
    },
    {
      "cell_type": "code",
      "metadata": {
        "id": "OefUhN_nTSqs",
        "colab_type": "code",
        "colab": {
          "base_uri": "https://localhost:8080/",
          "height": 204
        },
        "outputId": "81bbd46c-9712-4498-e347-26cb09ea5773"
      },
      "source": [
        "data['성별구분']=data['성별구분'].replace([0],'여성')\n",
        "data['성별구분']=data['성별구분'].replace([1],'남성')\n",
        "data.head()"
      ],
      "execution_count": null,
      "outputs": [
        {
          "output_type": "execute_result",
          "data": {
            "text/html": [
              "<div>\n",
              "<style scoped>\n",
              "    .dataframe tbody tr th:only-of-type {\n",
              "        vertical-align: middle;\n",
              "    }\n",
              "\n",
              "    .dataframe tbody tr th {\n",
              "        vertical-align: top;\n",
              "    }\n",
              "\n",
              "    .dataframe thead th {\n",
              "        text-align: right;\n",
              "    }\n",
              "</style>\n",
              "<table border=\"1\" class=\"dataframe\">\n",
              "  <thead>\n",
              "    <tr style=\"text-align: right;\">\n",
              "      <th></th>\n",
              "      <th>YM</th>\n",
              "      <th>Category</th>\n",
              "      <th>성별구분</th>\n",
              "      <th>연령대</th>\n",
              "      <th>기혼스코어</th>\n",
              "      <th>유아자녀스코어</th>\n",
              "      <th>초등학생자녀스코어</th>\n",
              "      <th>중고생자녀스코어</th>\n",
              "      <th>대학생자녀스코어</th>\n",
              "      <th>전업주부스코어</th>\n",
              "    </tr>\n",
              "  </thead>\n",
              "  <tbody>\n",
              "    <tr>\n",
              "      <th>0</th>\n",
              "      <td>202005</td>\n",
              "      <td>할인점</td>\n",
              "      <td>남성</td>\n",
              "      <td>F</td>\n",
              "      <td>high</td>\n",
              "      <td>low</td>\n",
              "      <td>high</td>\n",
              "      <td>mid</td>\n",
              "      <td>low</td>\n",
              "      <td>low</td>\n",
              "    </tr>\n",
              "    <tr>\n",
              "      <th>1</th>\n",
              "      <td>202005</td>\n",
              "      <td>취미</td>\n",
              "      <td>남성</td>\n",
              "      <td>B</td>\n",
              "      <td>high</td>\n",
              "      <td>low</td>\n",
              "      <td>mid</td>\n",
              "      <td>mid</td>\n",
              "      <td>low</td>\n",
              "      <td>low</td>\n",
              "    </tr>\n",
              "    <tr>\n",
              "      <th>2</th>\n",
              "      <td>202005</td>\n",
              "      <td>오픈마켓/소셜</td>\n",
              "      <td>여성</td>\n",
              "      <td>D</td>\n",
              "      <td>mid</td>\n",
              "      <td>mid</td>\n",
              "      <td>mid</td>\n",
              "      <td>mid</td>\n",
              "      <td>low</td>\n",
              "      <td>mid</td>\n",
              "    </tr>\n",
              "    <tr>\n",
              "      <th>3</th>\n",
              "      <td>202005</td>\n",
              "      <td>뷰티</td>\n",
              "      <td>남성</td>\n",
              "      <td>D</td>\n",
              "      <td>mid</td>\n",
              "      <td>mid</td>\n",
              "      <td>mid</td>\n",
              "      <td>mid</td>\n",
              "      <td>low</td>\n",
              "      <td>low</td>\n",
              "    </tr>\n",
              "    <tr>\n",
              "      <th>4</th>\n",
              "      <td>202005</td>\n",
              "      <td>오픈마켓/소셜</td>\n",
              "      <td>남성</td>\n",
              "      <td>G</td>\n",
              "      <td>high</td>\n",
              "      <td>low</td>\n",
              "      <td>mid</td>\n",
              "      <td>mid</td>\n",
              "      <td>mid</td>\n",
              "      <td>low</td>\n",
              "    </tr>\n",
              "  </tbody>\n",
              "</table>\n",
              "</div>"
            ],
            "text/plain": [
              "       YM Category 성별구분 연령대 기혼스코어 유아자녀스코어 초등학생자녀스코어 중고생자녀스코어 대학생자녀스코어 전업주부스코어\n",
              "0  202005      할인점   남성   F  high     low      high      mid      low     low\n",
              "1  202005       취미   남성   B  high     low       mid      mid      low     low\n",
              "2  202005  오픈마켓/소셜   여성   D   mid     mid       mid      mid      low     mid\n",
              "3  202005       뷰티   남성   D   mid     mid       mid      mid      low     low\n",
              "4  202005  오픈마켓/소셜   남성   G  high     low       mid      mid      mid     low"
            ]
          },
          "metadata": {
            "tags": []
          },
          "execution_count": 28
        }
      ]
    },
    {
      "cell_type": "code",
      "metadata": {
        "id": "E_v3RPh5luwJ",
        "colab_type": "code",
        "colab": {
          "base_uri": "https://localhost:8080/",
          "height": 71
        },
        "outputId": "181e7f68-b2b0-4645-a26f-75f46db232d2"
      },
      "source": [
        "data['성별구분'].value_counts()"
      ],
      "execution_count": null,
      "outputs": [
        {
          "output_type": "execute_result",
          "data": {
            "text/plain": [
              "여성    240336\n",
              "남성    211702\n",
              "Name: 성별구분, dtype: int64"
            ]
          },
          "metadata": {
            "tags": []
          },
          "execution_count": 29
        }
      ]
    },
    {
      "cell_type": "code",
      "metadata": {
        "id": "RBd-MQ5fn4yd",
        "colab_type": "code",
        "colab": {
          "base_uri": "https://localhost:8080/",
          "height": 215
        },
        "outputId": "37f42a09-ae39-480e-d1ff-aaac8d2ab442"
      },
      "source": [
        "data['Category'].value_counts()"
      ],
      "execution_count": null,
      "outputs": [
        {
          "output_type": "execute_result",
          "data": {
            "text/plain": [
              "전문몰        126062\n",
              "디저트         89743\n",
              "할인점         84636\n",
              "오픈마켓/소셜     80742\n",
              "뷰티          20453\n",
              "취미          18449\n",
              "종합몰         16119\n",
              "호텔/숙박        8005\n",
              "항공/여행사       5761\n",
              "면세점          2068\n",
              "Name: Category, dtype: int64"
            ]
          },
          "metadata": {
            "tags": []
          },
          "execution_count": 30
        }
      ]
    },
    {
      "cell_type": "code",
      "metadata": {
        "id": "bVtC_RNXlHGX",
        "colab_type": "code",
        "colab": {
          "base_uri": "https://localhost:8080/",
          "height": 390
        },
        "outputId": "05d0de68-7179-4271-cdcc-e7eaf0184c60"
      },
      "source": [
        "new_data= data.groupby(['Category','성별구분'])['연령대'].count().unstack('성별구분')\n",
        "new_data"
      ],
      "execution_count": null,
      "outputs": [
        {
          "output_type": "execute_result",
          "data": {
            "text/html": [
              "<div>\n",
              "<style scoped>\n",
              "    .dataframe tbody tr th:only-of-type {\n",
              "        vertical-align: middle;\n",
              "    }\n",
              "\n",
              "    .dataframe tbody tr th {\n",
              "        vertical-align: top;\n",
              "    }\n",
              "\n",
              "    .dataframe thead th {\n",
              "        text-align: right;\n",
              "    }\n",
              "</style>\n",
              "<table border=\"1\" class=\"dataframe\">\n",
              "  <thead>\n",
              "    <tr style=\"text-align: right;\">\n",
              "      <th>성별구분</th>\n",
              "      <th>남성</th>\n",
              "      <th>여성</th>\n",
              "    </tr>\n",
              "    <tr>\n",
              "      <th>Category</th>\n",
              "      <th></th>\n",
              "      <th></th>\n",
              "    </tr>\n",
              "  </thead>\n",
              "  <tbody>\n",
              "    <tr>\n",
              "      <th>디저트</th>\n",
              "      <td>42316</td>\n",
              "      <td>47427</td>\n",
              "    </tr>\n",
              "    <tr>\n",
              "      <th>면세점</th>\n",
              "      <td>1095</td>\n",
              "      <td>973</td>\n",
              "    </tr>\n",
              "    <tr>\n",
              "      <th>뷰티</th>\n",
              "      <td>6958</td>\n",
              "      <td>13495</td>\n",
              "    </tr>\n",
              "    <tr>\n",
              "      <th>오픈마켓/소셜</th>\n",
              "      <td>35480</td>\n",
              "      <td>45262</td>\n",
              "    </tr>\n",
              "    <tr>\n",
              "      <th>전문몰</th>\n",
              "      <td>60331</td>\n",
              "      <td>65731</td>\n",
              "    </tr>\n",
              "    <tr>\n",
              "      <th>종합몰</th>\n",
              "      <td>4960</td>\n",
              "      <td>11159</td>\n",
              "    </tr>\n",
              "    <tr>\n",
              "      <th>취미</th>\n",
              "      <td>11606</td>\n",
              "      <td>6843</td>\n",
              "    </tr>\n",
              "    <tr>\n",
              "      <th>할인점</th>\n",
              "      <td>40350</td>\n",
              "      <td>44286</td>\n",
              "    </tr>\n",
              "    <tr>\n",
              "      <th>항공/여행사</th>\n",
              "      <td>3165</td>\n",
              "      <td>2596</td>\n",
              "    </tr>\n",
              "    <tr>\n",
              "      <th>호텔/숙박</th>\n",
              "      <td>5441</td>\n",
              "      <td>2564</td>\n",
              "    </tr>\n",
              "  </tbody>\n",
              "</table>\n",
              "</div>"
            ],
            "text/plain": [
              "성별구분         남성     여성\n",
              "Category              \n",
              "디저트       42316  47427\n",
              "면세점        1095    973\n",
              "뷰티         6958  13495\n",
              "오픈마켓/소셜   35480  45262\n",
              "전문몰       60331  65731\n",
              "종합몰        4960  11159\n",
              "취미        11606   6843\n",
              "할인점       40350  44286\n",
              "항공/여행사     3165   2596\n",
              "호텔/숙박      5441   2564"
            ]
          },
          "metadata": {
            "tags": []
          },
          "execution_count": 31
        }
      ]
    },
    {
      "cell_type": "code",
      "metadata": {
        "id": "EZ4Xq74I_3vj",
        "colab_type": "code",
        "colab": {}
      },
      "source": [
        ""
      ],
      "execution_count": null,
      "outputs": []
    },
    {
      "cell_type": "code",
      "metadata": {
        "id": "j2buLhsMtxiM",
        "colab_type": "code",
        "colab": {
          "base_uri": "https://localhost:8080/",
          "height": 336
        },
        "outputId": "c560654f-bcdb-4335-84bb-d41bc1924f67"
      },
      "source": [
        "new_data= data3.groupby(['Category','성별구분'])['연령대'].count().unstack('성별구분')\n",
        "\n",
        "new_data= new_data.plot(kind='barh',figsize=(15,5), colormap='Paired',title='2019 결제순위')\n",
        "\n",
        "plt.show()"
      ],
      "execution_count": null,
      "outputs": [
        {
          "output_type": "display_data",
          "data": {
            "image/png": "[encoded data removed]",
            "text/plain": [
              "<Figure size 1080x360 with 1 Axes>"
            ]
          },
          "metadata": {
            "tags": [],
            "needs_background": "light"
          }
        }
      ]
    },
    {
      "cell_type": "code",
      "metadata": {
        "id": "eBjFIMGS4Tky",
        "colab_type": "code",
        "colab": {
          "base_uri": "https://localhost:8080/",
          "height": 336
        },
        "outputId": "bdce0c65-66e8-40ce-b4b7-9393109bd4db"
      },
      "source": [
        "new_data2= data2.groupby(['Category','성별구분'])['연령대'].count().unstack('성별구분')\n",
        "\n",
        "new_data= new_data2.plot(kind='barh',figsize=(15,5), colormap='Dark2',title='2020 결제순위')\n",
        "\n",
        "plt.show()"
      ],
      "execution_count": null,
      "outputs": [
        {
          "output_type": "display_data",
          "data": {
            "image/png": "[encoded data removed]",
            "text/plain": [
              "<Figure size 1080x360 with 1 Axes>"
            ]
          },
          "metadata": {
            "tags": [],
            "needs_background": "light"
          }
        }
      ]
    },
    {
      "cell_type": "code",
      "metadata": {
        "id": "27atym-d7sGa",
        "colab_type": "code",
        "colab": {
          "base_uri": "https://localhost:8080/",
          "height": 336
        },
        "outputId": "049e7f9a-875b-401b-fa0c-ff0db204760f"
      },
      "source": [
        "new_data3= data.groupby(['Category','성별구분'])['성별구분'].count().unstack('Category')\n",
        "\n",
        "new_data= new_data3.plot(kind='barh',figsize=(15,5), colormap='tab20b',stacked=True, title='성별 결제순위')"
      ],
      "execution_count": null,
      "outputs": [
        {
          "output_type": "display_data",
          "data": {
            "image/png": "[encoded data removed]",
            "text/plain": [
              "<Figure size 1080x360 with 1 Axes>"
            ]
          },
          "metadata": {
            "tags": [],
            "needs_background": "light"
          }
        }
      ]
    },
    {
      "cell_type": "code",
      "metadata": {
        "id": "WrREYgfW_GVb",
        "colab_type": "code",
        "colab": {}
      },
      "source": [
        "plt.rcParams['figure.figsize'] = [20, 10]\n",
        "from statsmodels.graphics.mosaicplot import mosaic"
      ],
      "execution_count": null,
      "outputs": []
    },
    {
      "cell_type": "code",
      "metadata": {
        "id": "-JJemKDX96dm",
        "colab_type": "code",
        "colab": {
          "base_uri": "https://localhost:8080/",
          "height": 648
        },
        "outputId": "ade79ba8-d1c3-423f-ff06-1965a25d77a0"
      },
      "source": [
        "mosaic(data.sort_values('Category'), ['Category', '성별구분'], gap=0.01) \n",
        "\n",
        "plt.title('Mosaic Chart of CardData', fontsize=20)\n",
        "    \n",
        "plt.show()"
      ],
      "execution_count": null,
      "outputs": [
        {
          "output_type": "stream",
          "text": [
            "findfont: Font family ['NanumGothic'] not found. Falling back to DejaVu Sans.\n",
            "findfont: Font family ['NanumGothic'] not found. Falling back to DejaVu Sans.\n"
          ],
          "name": "stderr"
        },
        {
          "output_type": "display_data",
          "data": {
            "image/png": "[encoded data removed]",
            "text/plain": [
              "<Figure size 1440x720 with 3 Axes>"
            ]
          },
          "metadata": {
            "tags": [],
            "needs_background": "light"
          }
        }
      ]
    },
    {
      "cell_type": "code",
      "metadata": {
        "id": "aXdsYGe-vPfP",
        "colab_type": "code",
        "colab": {
          "base_uri": "https://localhost:8080/",
          "height": 204
        },
        "outputId": "0a007edf-f4bb-423f-c092-c7c73d44a7fe"
      },
      "source": [
        "Ages={\"A\":\"40-44\",\"B\":\"35-39\",\"C\":\"25-29\",\"D\":\"30-44\",\"E\":\"20-24\",\"F\":\"45-49\",\"G\":\"50-54\",\"H\":\"55-59\"}\n",
        "data['Age']=data['연령대'].map(Ages)\n",
        "data.head()"
      ],
      "execution_count": null,
      "outputs": [
        {
          "output_type": "execute_result",
          "data": {
            "text/html": [
              "<div>\n",
              "<style scoped>\n",
              "    .dataframe tbody tr th:only-of-type {\n",
              "        vertical-align: middle;\n",
              "    }\n",
              "\n",
              "    .dataframe tbody tr th {\n",
              "        vertical-align: top;\n",
              "    }\n",
              "\n",
              "    .dataframe thead th {\n",
              "        text-align: right;\n",
              "    }\n",
              "</style>\n",
              "<table border=\"1\" class=\"dataframe\">\n",
              "  <thead>\n",
              "    <tr style=\"text-align: right;\">\n",
              "      <th></th>\n",
              "      <th>YM</th>\n",
              "      <th>Category</th>\n",
              "      <th>성별구분</th>\n",
              "      <th>연령대</th>\n",
              "      <th>기혼스코어</th>\n",
              "      <th>유아자녀스코어</th>\n",
              "      <th>초등학생자녀스코어</th>\n",
              "      <th>중고생자녀스코어</th>\n",
              "      <th>대학생자녀스코어</th>\n",
              "      <th>전업주부스코어</th>\n",
              "      <th>Age</th>\n",
              "    </tr>\n",
              "  </thead>\n",
              "  <tbody>\n",
              "    <tr>\n",
              "      <th>0</th>\n",
              "      <td>202005</td>\n",
              "      <td>할인점</td>\n",
              "      <td>남성</td>\n",
              "      <td>F</td>\n",
              "      <td>high</td>\n",
              "      <td>low</td>\n",
              "      <td>high</td>\n",
              "      <td>mid</td>\n",
              "      <td>low</td>\n",
              "      <td>low</td>\n",
              "      <td>45-49</td>\n",
              "    </tr>\n",
              "    <tr>\n",
              "      <th>1</th>\n",
              "      <td>202005</td>\n",
              "      <td>취미</td>\n",
              "      <td>남성</td>\n",
              "      <td>B</td>\n",
              "      <td>high</td>\n",
              "      <td>low</td>\n",
              "      <td>mid</td>\n",
              "      <td>mid</td>\n",
              "      <td>low</td>\n",
              "      <td>low</td>\n",
              "      <td>35-39</td>\n",
              "    </tr>\n",
              "    <tr>\n",
              "      <th>2</th>\n",
              "      <td>202005</td>\n",
              "      <td>오픈마켓/소셜</td>\n",
              "      <td>여성</td>\n",
              "      <td>D</td>\n",
              "      <td>mid</td>\n",
              "      <td>mid</td>\n",
              "      <td>mid</td>\n",
              "      <td>mid</td>\n",
              "      <td>low</td>\n",
              "      <td>mid</td>\n",
              "      <td>30-44</td>\n",
              "    </tr>\n",
              "    <tr>\n",
              "      <th>3</th>\n",
              "      <td>202005</td>\n",
              "      <td>뷰티</td>\n",
              "      <td>남성</td>\n",
              "      <td>D</td>\n",
              "      <td>mid</td>\n",
              "      <td>mid</td>\n",
              "      <td>mid</td>\n",
              "      <td>mid</td>\n",
              "      <td>low</td>\n",
              "      <td>low</td>\n",
              "      <td>30-44</td>\n",
              "    </tr>\n",
              "    <tr>\n",
              "      <th>4</th>\n",
              "      <td>202005</td>\n",
              "      <td>오픈마켓/소셜</td>\n",
              "      <td>남성</td>\n",
              "      <td>G</td>\n",
              "      <td>high</td>\n",
              "      <td>low</td>\n",
              "      <td>mid</td>\n",
              "      <td>mid</td>\n",
              "      <td>mid</td>\n",
              "      <td>low</td>\n",
              "      <td>50-54</td>\n",
              "    </tr>\n",
              "  </tbody>\n",
              "</table>\n",
              "</div>"
            ],
            "text/plain": [
              "       YM Category 성별구분 연령대 기혼스코어  ... 초등학생자녀스코어 중고생자녀스코어 대학생자녀스코어 전업주부스코어    Age\n",
              "0  202005      할인점   남성   F  high  ...      high      mid      low     low  45-49\n",
              "1  202005       취미   남성   B  high  ...       mid      mid      low     low  35-39\n",
              "2  202005  오픈마켓/소셜   여성   D   mid  ...       mid      mid      low     mid  30-44\n",
              "3  202005       뷰티   남성   D   mid  ...       mid      mid      low     low  30-44\n",
              "4  202005  오픈마켓/소셜   남성   G  high  ...       mid      mid      mid     low  50-54\n",
              "\n",
              "[5 rows x 11 columns]"
            ]
          },
          "metadata": {
            "tags": []
          },
          "execution_count": 37
        }
      ]
    },
    {
      "cell_type": "code",
      "metadata": {
        "id": "IRgN8o7e_bH8",
        "colab_type": "code",
        "colab": {
          "base_uri": "https://localhost:8080/",
          "height": 390
        },
        "outputId": "5478cf41-259a-4f6d-c872-25c1e8bf4ed0"
      },
      "source": [
        "new_data5 = data.groupby(['Category','Age'])['Age'].count().unstack('Age')\n",
        "new_data5"
      ],
      "execution_count": null,
      "outputs": [
        {
          "output_type": "execute_result",
          "data": {
            "text/html": [
              "<div>\n",
              "<style scoped>\n",
              "    .dataframe tbody tr th:only-of-type {\n",
              "        vertical-align: middle;\n",
              "    }\n",
              "\n",
              "    .dataframe tbody tr th {\n",
              "        vertical-align: top;\n",
              "    }\n",
              "\n",
              "    .dataframe thead th {\n",
              "        text-align: right;\n",
              "    }\n",
              "</style>\n",
              "<table border=\"1\" class=\"dataframe\">\n",
              "  <thead>\n",
              "    <tr style=\"text-align: right;\">\n",
              "      <th>Age</th>\n",
              "      <th>20-24</th>\n",
              "      <th>25-29</th>\n",
              "      <th>30-44</th>\n",
              "      <th>35-39</th>\n",
              "      <th>40-44</th>\n",
              "      <th>45-49</th>\n",
              "      <th>50-54</th>\n",
              "      <th>55-59</th>\n",
              "    </tr>\n",
              "    <tr>\n",
              "      <th>Category</th>\n",
              "      <th></th>\n",
              "      <th></th>\n",
              "      <th></th>\n",
              "      <th></th>\n",
              "      <th></th>\n",
              "      <th></th>\n",
              "      <th></th>\n",
              "      <th></th>\n",
              "    </tr>\n",
              "  </thead>\n",
              "  <tbody>\n",
              "    <tr>\n",
              "      <th>디저트</th>\n",
              "      <td>11251</td>\n",
              "      <td>10969</td>\n",
              "      <td>14606</td>\n",
              "      <td>6857</td>\n",
              "      <td>14086</td>\n",
              "      <td>14260</td>\n",
              "      <td>10656</td>\n",
              "      <td>7058</td>\n",
              "    </tr>\n",
              "    <tr>\n",
              "      <th>면세점</th>\n",
              "      <td>288</td>\n",
              "      <td>301</td>\n",
              "      <td>311</td>\n",
              "      <td>199</td>\n",
              "      <td>252</td>\n",
              "      <td>283</td>\n",
              "      <td>242</td>\n",
              "      <td>192</td>\n",
              "    </tr>\n",
              "    <tr>\n",
              "      <th>뷰티</th>\n",
              "      <td>4327</td>\n",
              "      <td>2767</td>\n",
              "      <td>2498</td>\n",
              "      <td>1519</td>\n",
              "      <td>2377</td>\n",
              "      <td>2921</td>\n",
              "      <td>2442</td>\n",
              "      <td>1602</td>\n",
              "    </tr>\n",
              "    <tr>\n",
              "      <th>오픈마켓/소셜</th>\n",
              "      <td>10569</td>\n",
              "      <td>11996</td>\n",
              "      <td>16564</td>\n",
              "      <td>4074</td>\n",
              "      <td>14565</td>\n",
              "      <td>12311</td>\n",
              "      <td>7265</td>\n",
              "      <td>3398</td>\n",
              "    </tr>\n",
              "    <tr>\n",
              "      <th>전문몰</th>\n",
              "      <td>15265</td>\n",
              "      <td>15985</td>\n",
              "      <td>21272</td>\n",
              "      <td>10055</td>\n",
              "      <td>20149</td>\n",
              "      <td>19831</td>\n",
              "      <td>14380</td>\n",
              "      <td>9125</td>\n",
              "    </tr>\n",
              "    <tr>\n",
              "      <th>종합몰</th>\n",
              "      <td>1541</td>\n",
              "      <td>2458</td>\n",
              "      <td>3862</td>\n",
              "      <td>665</td>\n",
              "      <td>3350</td>\n",
              "      <td>2419</td>\n",
              "      <td>1267</td>\n",
              "      <td>557</td>\n",
              "    </tr>\n",
              "    <tr>\n",
              "      <th>취미</th>\n",
              "      <td>3423</td>\n",
              "      <td>2048</td>\n",
              "      <td>2272</td>\n",
              "      <td>1739</td>\n",
              "      <td>2196</td>\n",
              "      <td>2682</td>\n",
              "      <td>2292</td>\n",
              "      <td>1797</td>\n",
              "    </tr>\n",
              "    <tr>\n",
              "      <th>할인점</th>\n",
              "      <td>5654</td>\n",
              "      <td>7899</td>\n",
              "      <td>12490</td>\n",
              "      <td>8865</td>\n",
              "      <td>12781</td>\n",
              "      <td>13591</td>\n",
              "      <td>11093</td>\n",
              "      <td>12263</td>\n",
              "    </tr>\n",
              "    <tr>\n",
              "      <th>항공/여행사</th>\n",
              "      <td>868</td>\n",
              "      <td>774</td>\n",
              "      <td>1006</td>\n",
              "      <td>464</td>\n",
              "      <td>799</td>\n",
              "      <td>771</td>\n",
              "      <td>653</td>\n",
              "      <td>426</td>\n",
              "    </tr>\n",
              "    <tr>\n",
              "      <th>호텔/숙박</th>\n",
              "      <td>1388</td>\n",
              "      <td>1073</td>\n",
              "      <td>1291</td>\n",
              "      <td>588</td>\n",
              "      <td>1085</td>\n",
              "      <td>1082</td>\n",
              "      <td>805</td>\n",
              "      <td>693</td>\n",
              "    </tr>\n",
              "  </tbody>\n",
              "</table>\n",
              "</div>"
            ],
            "text/plain": [
              "Age       20-24  25-29  30-44  35-39  40-44  45-49  50-54  55-59\n",
              "Category                                                        \n",
              "디저트       11251  10969  14606   6857  14086  14260  10656   7058\n",
              "면세점         288    301    311    199    252    283    242    192\n",
              "뷰티         4327   2767   2498   1519   2377   2921   2442   1602\n",
              "오픈마켓/소셜   10569  11996  16564   4074  14565  12311   7265   3398\n",
              "전문몰       15265  15985  21272  10055  20149  19831  14380   9125\n",
              "종합몰        1541   2458   3862    665   3350   2419   1267    557\n",
              "취미         3423   2048   2272   1739   2196   2682   2292   1797\n",
              "할인점        5654   7899  12490   8865  12781  13591  11093  12263\n",
              "항공/여행사      868    774   1006    464    799    771    653    426\n",
              "호텔/숙박      1388   1073   1291    588   1085   1082    805    693"
            ]
          },
          "metadata": {
            "tags": []
          },
          "execution_count": 38
        }
      ]
    },
    {
      "cell_type": "code",
      "metadata": {
        "id": "2sLXQ9kUDC6y",
        "colab_type": "code",
        "colab": {
          "base_uri": "https://localhost:8080/",
          "height": 204
        },
        "outputId": "e0e84a9a-7009-4257-a020-9594165d807d"
      },
      "source": [
        "data_2004= data[data['YM']==202004]\n",
        "data_2004.head()"
      ],
      "execution_count": null,
      "outputs": [
        {
          "output_type": "execute_result",
          "data": {
            "text/html": [
              "<div>\n",
              "<style scoped>\n",
              "    .dataframe tbody tr th:only-of-type {\n",
              "        vertical-align: middle;\n",
              "    }\n",
              "\n",
              "    .dataframe tbody tr th {\n",
              "        vertical-align: top;\n",
              "    }\n",
              "\n",
              "    .dataframe thead th {\n",
              "        text-align: right;\n",
              "    }\n",
              "</style>\n",
              "<table border=\"1\" class=\"dataframe\">\n",
              "  <thead>\n",
              "    <tr style=\"text-align: right;\">\n",
              "      <th></th>\n",
              "      <th>YM</th>\n",
              "      <th>Category</th>\n",
              "      <th>성별구분</th>\n",
              "      <th>연령대</th>\n",
              "      <th>기혼스코어</th>\n",
              "      <th>유아자녀스코어</th>\n",
              "      <th>초등학생자녀스코어</th>\n",
              "      <th>중고생자녀스코어</th>\n",
              "      <th>대학생자녀스코어</th>\n",
              "      <th>전업주부스코어</th>\n",
              "      <th>Age</th>\n",
              "    </tr>\n",
              "  </thead>\n",
              "  <tbody>\n",
              "    <tr>\n",
              "      <th>109094</th>\n",
              "      <td>202004</td>\n",
              "      <td>오픈마켓/소셜</td>\n",
              "      <td>여성</td>\n",
              "      <td>D</td>\n",
              "      <td>mid</td>\n",
              "      <td>mid</td>\n",
              "      <td>low</td>\n",
              "      <td>mid</td>\n",
              "      <td>low</td>\n",
              "      <td>low</td>\n",
              "      <td>30-44</td>\n",
              "    </tr>\n",
              "    <tr>\n",
              "      <th>109095</th>\n",
              "      <td>202004</td>\n",
              "      <td>디저트</td>\n",
              "      <td>여성</td>\n",
              "      <td>B</td>\n",
              "      <td>high</td>\n",
              "      <td>low</td>\n",
              "      <td>high</td>\n",
              "      <td>mid</td>\n",
              "      <td>mid</td>\n",
              "      <td>mid</td>\n",
              "      <td>35-39</td>\n",
              "    </tr>\n",
              "    <tr>\n",
              "      <th>109096</th>\n",
              "      <td>202004</td>\n",
              "      <td>전문몰</td>\n",
              "      <td>남성</td>\n",
              "      <td>E</td>\n",
              "      <td>low</td>\n",
              "      <td>low</td>\n",
              "      <td>low</td>\n",
              "      <td>low</td>\n",
              "      <td>low</td>\n",
              "      <td>low</td>\n",
              "      <td>20-24</td>\n",
              "    </tr>\n",
              "    <tr>\n",
              "      <th>109097</th>\n",
              "      <td>202004</td>\n",
              "      <td>전문몰</td>\n",
              "      <td>여성</td>\n",
              "      <td>D</td>\n",
              "      <td>mid</td>\n",
              "      <td>mid</td>\n",
              "      <td>mid</td>\n",
              "      <td>mid</td>\n",
              "      <td>low</td>\n",
              "      <td>mid</td>\n",
              "      <td>30-44</td>\n",
              "    </tr>\n",
              "    <tr>\n",
              "      <th>109098</th>\n",
              "      <td>202004</td>\n",
              "      <td>오픈마켓/소셜</td>\n",
              "      <td>여성</td>\n",
              "      <td>E</td>\n",
              "      <td>mid</td>\n",
              "      <td>high</td>\n",
              "      <td>low</td>\n",
              "      <td>low</td>\n",
              "      <td>low</td>\n",
              "      <td>mid</td>\n",
              "      <td>20-24</td>\n",
              "    </tr>\n",
              "  </tbody>\n",
              "</table>\n",
              "</div>"
            ],
            "text/plain": [
              "            YM Category 성별구분 연령대  ... 중고생자녀스코어 대학생자녀스코어 전업주부스코어    Age\n",
              "109094  202004  오픈마켓/소셜   여성   D  ...      mid      low     low  30-44\n",
              "109095  202004      디저트   여성   B  ...      mid      mid     mid  35-39\n",
              "109096  202004      전문몰   남성   E  ...      low      low     low  20-24\n",
              "109097  202004      전문몰   여성   D  ...      mid      low     mid  30-44\n",
              "109098  202004  오픈마켓/소셜   여성   E  ...      low      low     mid  20-24\n",
              "\n",
              "[5 rows x 11 columns]"
            ]
          },
          "metadata": {
            "tags": []
          },
          "execution_count": 39
        }
      ]
    },
    {
      "cell_type": "code",
      "metadata": {
        "id": "7tItNoimDcBI",
        "colab_type": "code",
        "colab": {
          "base_uri": "https://localhost:8080/",
          "height": 204
        },
        "outputId": "32ac44db-3b49-4828-bdba-013ba7cd4b61"
      },
      "source": [
        "data_2005= data[data['YM']==202005]\n",
        "data_2005.head()"
      ],
      "execution_count": null,
      "outputs": [
        {
          "output_type": "execute_result",
          "data": {
            "text/html": [
              "<div>\n",
              "<style scoped>\n",
              "    .dataframe tbody tr th:only-of-type {\n",
              "        vertical-align: middle;\n",
              "    }\n",
              "\n",
              "    .dataframe tbody tr th {\n",
              "        vertical-align: top;\n",
              "    }\n",
              "\n",
              "    .dataframe thead th {\n",
              "        text-align: right;\n",
              "    }\n",
              "</style>\n",
              "<table border=\"1\" class=\"dataframe\">\n",
              "  <thead>\n",
              "    <tr style=\"text-align: right;\">\n",
              "      <th></th>\n",
              "      <th>YM</th>\n",
              "      <th>Category</th>\n",
              "      <th>성별구분</th>\n",
              "      <th>연령대</th>\n",
              "      <th>기혼스코어</th>\n",
              "      <th>유아자녀스코어</th>\n",
              "      <th>초등학생자녀스코어</th>\n",
              "      <th>중고생자녀스코어</th>\n",
              "      <th>대학생자녀스코어</th>\n",
              "      <th>전업주부스코어</th>\n",
              "      <th>Age</th>\n",
              "    </tr>\n",
              "  </thead>\n",
              "  <tbody>\n",
              "    <tr>\n",
              "      <th>0</th>\n",
              "      <td>202005</td>\n",
              "      <td>할인점</td>\n",
              "      <td>남성</td>\n",
              "      <td>F</td>\n",
              "      <td>high</td>\n",
              "      <td>low</td>\n",
              "      <td>high</td>\n",
              "      <td>mid</td>\n",
              "      <td>low</td>\n",
              "      <td>low</td>\n",
              "      <td>45-49</td>\n",
              "    </tr>\n",
              "    <tr>\n",
              "      <th>1</th>\n",
              "      <td>202005</td>\n",
              "      <td>취미</td>\n",
              "      <td>남성</td>\n",
              "      <td>B</td>\n",
              "      <td>high</td>\n",
              "      <td>low</td>\n",
              "      <td>mid</td>\n",
              "      <td>mid</td>\n",
              "      <td>low</td>\n",
              "      <td>low</td>\n",
              "      <td>35-39</td>\n",
              "    </tr>\n",
              "    <tr>\n",
              "      <th>2</th>\n",
              "      <td>202005</td>\n",
              "      <td>오픈마켓/소셜</td>\n",
              "      <td>여성</td>\n",
              "      <td>D</td>\n",
              "      <td>mid</td>\n",
              "      <td>mid</td>\n",
              "      <td>mid</td>\n",
              "      <td>mid</td>\n",
              "      <td>low</td>\n",
              "      <td>mid</td>\n",
              "      <td>30-44</td>\n",
              "    </tr>\n",
              "    <tr>\n",
              "      <th>3</th>\n",
              "      <td>202005</td>\n",
              "      <td>뷰티</td>\n",
              "      <td>남성</td>\n",
              "      <td>D</td>\n",
              "      <td>mid</td>\n",
              "      <td>mid</td>\n",
              "      <td>mid</td>\n",
              "      <td>mid</td>\n",
              "      <td>low</td>\n",
              "      <td>low</td>\n",
              "      <td>30-44</td>\n",
              "    </tr>\n",
              "    <tr>\n",
              "      <th>4</th>\n",
              "      <td>202005</td>\n",
              "      <td>오픈마켓/소셜</td>\n",
              "      <td>남성</td>\n",
              "      <td>G</td>\n",
              "      <td>high</td>\n",
              "      <td>low</td>\n",
              "      <td>mid</td>\n",
              "      <td>mid</td>\n",
              "      <td>mid</td>\n",
              "      <td>low</td>\n",
              "      <td>50-54</td>\n",
              "    </tr>\n",
              "  </tbody>\n",
              "</table>\n",
              "</div>"
            ],
            "text/plain": [
              "       YM Category 성별구분 연령대 기혼스코어  ... 초등학생자녀스코어 중고생자녀스코어 대학생자녀스코어 전업주부스코어    Age\n",
              "0  202005      할인점   남성   F  high  ...      high      mid      low     low  45-49\n",
              "1  202005       취미   남성   B  high  ...       mid      mid      low     low  35-39\n",
              "2  202005  오픈마켓/소셜   여성   D   mid  ...       mid      mid      low     mid  30-44\n",
              "3  202005       뷰티   남성   D   mid  ...       mid      mid      low     low  30-44\n",
              "4  202005  오픈마켓/소셜   남성   G  high  ...       mid      mid      mid     low  50-54\n",
              "\n",
              "[5 rows x 11 columns]"
            ]
          },
          "metadata": {
            "tags": []
          },
          "execution_count": 40
        }
      ]
    },
    {
      "cell_type": "code",
      "metadata": {
        "id": "8YCt6X8xEy0F",
        "colab_type": "code",
        "colab": {
          "base_uri": "https://localhost:8080/",
          "height": 204
        },
        "outputId": "68a6be7d-4d32-497a-a77f-deca945bc4c7"
      },
      "source": [
        "data_1904= data[data['YM']==201904]\n",
        "data_1904.head()"
      ],
      "execution_count": null,
      "outputs": [
        {
          "output_type": "execute_result",
          "data": {
            "text/html": [
              "<div>\n",
              "<style scoped>\n",
              "    .dataframe tbody tr th:only-of-type {\n",
              "        vertical-align: middle;\n",
              "    }\n",
              "\n",
              "    .dataframe tbody tr th {\n",
              "        vertical-align: top;\n",
              "    }\n",
              "\n",
              "    .dataframe thead th {\n",
              "        text-align: right;\n",
              "    }\n",
              "</style>\n",
              "<table border=\"1\" class=\"dataframe\">\n",
              "  <thead>\n",
              "    <tr style=\"text-align: right;\">\n",
              "      <th></th>\n",
              "      <th>YM</th>\n",
              "      <th>Category</th>\n",
              "      <th>성별구분</th>\n",
              "      <th>연령대</th>\n",
              "      <th>기혼스코어</th>\n",
              "      <th>유아자녀스코어</th>\n",
              "      <th>초등학생자녀스코어</th>\n",
              "      <th>중고생자녀스코어</th>\n",
              "      <th>대학생자녀스코어</th>\n",
              "      <th>전업주부스코어</th>\n",
              "      <th>Age</th>\n",
              "    </tr>\n",
              "  </thead>\n",
              "  <tbody>\n",
              "    <tr>\n",
              "      <th>331919</th>\n",
              "      <td>201904</td>\n",
              "      <td>할인점</td>\n",
              "      <td>남성</td>\n",
              "      <td>H</td>\n",
              "      <td>high</td>\n",
              "      <td>low</td>\n",
              "      <td>low</td>\n",
              "      <td>low</td>\n",
              "      <td>low</td>\n",
              "      <td>low</td>\n",
              "      <td>55-59</td>\n",
              "    </tr>\n",
              "    <tr>\n",
              "      <th>331920</th>\n",
              "      <td>201904</td>\n",
              "      <td>할인점</td>\n",
              "      <td>남성</td>\n",
              "      <td>E</td>\n",
              "      <td>low</td>\n",
              "      <td>low</td>\n",
              "      <td>low</td>\n",
              "      <td>low</td>\n",
              "      <td>low</td>\n",
              "      <td>low</td>\n",
              "      <td>20-24</td>\n",
              "    </tr>\n",
              "    <tr>\n",
              "      <th>331921</th>\n",
              "      <td>201904</td>\n",
              "      <td>할인점</td>\n",
              "      <td>여성</td>\n",
              "      <td>A</td>\n",
              "      <td>high</td>\n",
              "      <td>low</td>\n",
              "      <td>mid</td>\n",
              "      <td>mid</td>\n",
              "      <td>low</td>\n",
              "      <td>mid</td>\n",
              "      <td>40-44</td>\n",
              "    </tr>\n",
              "    <tr>\n",
              "      <th>331922</th>\n",
              "      <td>201904</td>\n",
              "      <td>전문몰</td>\n",
              "      <td>여성</td>\n",
              "      <td>D</td>\n",
              "      <td>high</td>\n",
              "      <td>mid</td>\n",
              "      <td>high</td>\n",
              "      <td>mid</td>\n",
              "      <td>low</td>\n",
              "      <td>high</td>\n",
              "      <td>30-44</td>\n",
              "    </tr>\n",
              "    <tr>\n",
              "      <th>331923</th>\n",
              "      <td>201904</td>\n",
              "      <td>취미</td>\n",
              "      <td>남성</td>\n",
              "      <td>F</td>\n",
              "      <td>high</td>\n",
              "      <td>mid</td>\n",
              "      <td>high</td>\n",
              "      <td>mid</td>\n",
              "      <td>mid</td>\n",
              "      <td>low</td>\n",
              "      <td>45-49</td>\n",
              "    </tr>\n",
              "  </tbody>\n",
              "</table>\n",
              "</div>"
            ],
            "text/plain": [
              "            YM Category 성별구분 연령대  ... 중고생자녀스코어 대학생자녀스코어 전업주부스코어    Age\n",
              "331919  201904      할인점   남성   H  ...      low      low     low  55-59\n",
              "331920  201904      할인점   남성   E  ...      low      low     low  20-24\n",
              "331921  201904      할인점   여성   A  ...      mid      low     mid  40-44\n",
              "331922  201904      전문몰   여성   D  ...      mid      low    high  30-44\n",
              "331923  201904       취미   남성   F  ...      mid      mid     low  45-49\n",
              "\n",
              "[5 rows x 11 columns]"
            ]
          },
          "metadata": {
            "tags": []
          },
          "execution_count": 41
        }
      ]
    },
    {
      "cell_type": "code",
      "metadata": {
        "id": "jYr7_Ak8E9gA",
        "colab_type": "code",
        "colab": {
          "base_uri": "https://localhost:8080/",
          "height": 204
        },
        "outputId": "78ebe9c0-b0a0-424b-bcb7-3dd574a0e619"
      },
      "source": [
        "data_1905= data[data['YM']==201905]\n",
        "data_1905.head()"
      ],
      "execution_count": null,
      "outputs": [
        {
          "output_type": "execute_result",
          "data": {
            "text/html": [
              "<div>\n",
              "<style scoped>\n",
              "    .dataframe tbody tr th:only-of-type {\n",
              "        vertical-align: middle;\n",
              "    }\n",
              "\n",
              "    .dataframe tbody tr th {\n",
              "        vertical-align: top;\n",
              "    }\n",
              "\n",
              "    .dataframe thead th {\n",
              "        text-align: right;\n",
              "    }\n",
              "</style>\n",
              "<table border=\"1\" class=\"dataframe\">\n",
              "  <thead>\n",
              "    <tr style=\"text-align: right;\">\n",
              "      <th></th>\n",
              "      <th>YM</th>\n",
              "      <th>Category</th>\n",
              "      <th>성별구분</th>\n",
              "      <th>연령대</th>\n",
              "      <th>기혼스코어</th>\n",
              "      <th>유아자녀스코어</th>\n",
              "      <th>초등학생자녀스코어</th>\n",
              "      <th>중고생자녀스코어</th>\n",
              "      <th>대학생자녀스코어</th>\n",
              "      <th>전업주부스코어</th>\n",
              "      <th>Age</th>\n",
              "    </tr>\n",
              "  </thead>\n",
              "  <tbody>\n",
              "    <tr>\n",
              "      <th>210468</th>\n",
              "      <td>201905</td>\n",
              "      <td>전문몰</td>\n",
              "      <td>여성</td>\n",
              "      <td>E</td>\n",
              "      <td>low</td>\n",
              "      <td>low</td>\n",
              "      <td>low</td>\n",
              "      <td>low</td>\n",
              "      <td>low</td>\n",
              "      <td>mid</td>\n",
              "      <td>20-24</td>\n",
              "    </tr>\n",
              "    <tr>\n",
              "      <th>210469</th>\n",
              "      <td>201905</td>\n",
              "      <td>전문몰</td>\n",
              "      <td>여성</td>\n",
              "      <td>E</td>\n",
              "      <td>mid</td>\n",
              "      <td>mid</td>\n",
              "      <td>low</td>\n",
              "      <td>low</td>\n",
              "      <td>low</td>\n",
              "      <td>mid</td>\n",
              "      <td>20-24</td>\n",
              "    </tr>\n",
              "    <tr>\n",
              "      <th>210470</th>\n",
              "      <td>201905</td>\n",
              "      <td>할인점</td>\n",
              "      <td>여성</td>\n",
              "      <td>F</td>\n",
              "      <td>high</td>\n",
              "      <td>low</td>\n",
              "      <td>mid</td>\n",
              "      <td>mid</td>\n",
              "      <td>mid</td>\n",
              "      <td>mid</td>\n",
              "      <td>45-49</td>\n",
              "    </tr>\n",
              "    <tr>\n",
              "      <th>210471</th>\n",
              "      <td>201905</td>\n",
              "      <td>전문몰</td>\n",
              "      <td>남성</td>\n",
              "      <td>G</td>\n",
              "      <td>high</td>\n",
              "      <td>low</td>\n",
              "      <td>mid</td>\n",
              "      <td>mid</td>\n",
              "      <td>mid</td>\n",
              "      <td>low</td>\n",
              "      <td>50-54</td>\n",
              "    </tr>\n",
              "    <tr>\n",
              "      <th>210472</th>\n",
              "      <td>201905</td>\n",
              "      <td>전문몰</td>\n",
              "      <td>여성</td>\n",
              "      <td>H</td>\n",
              "      <td>high</td>\n",
              "      <td>low</td>\n",
              "      <td>low</td>\n",
              "      <td>low</td>\n",
              "      <td>mid</td>\n",
              "      <td>mid</td>\n",
              "      <td>55-59</td>\n",
              "    </tr>\n",
              "  </tbody>\n",
              "</table>\n",
              "</div>"
            ],
            "text/plain": [
              "            YM Category 성별구분 연령대  ... 중고생자녀스코어 대학생자녀스코어 전업주부스코어    Age\n",
              "210468  201905      전문몰   여성   E  ...      low      low     mid  20-24\n",
              "210469  201905      전문몰   여성   E  ...      low      low     mid  20-24\n",
              "210470  201905      할인점   여성   F  ...      mid      mid     mid  45-49\n",
              "210471  201905      전문몰   남성   G  ...      mid      mid     low  50-54\n",
              "210472  201905      전문몰   여성   H  ...      low      mid     mid  55-59\n",
              "\n",
              "[5 rows x 11 columns]"
            ]
          },
          "metadata": {
            "tags": []
          },
          "execution_count": 42
        }
      ]
    },
    {
      "cell_type": "code",
      "metadata": {
        "id": "8IxfvIb6Ciob",
        "colab_type": "code",
        "colab": {}
      },
      "source": [
        "new_data_2004 = data_2004.groupby(['Category','Age'])['Age'].count().unstack('Category')\n",
        "new_data_2005 = data_2005.groupby(['Category','Age'])['Age'].count().unstack('Category')"
      ],
      "execution_count": null,
      "outputs": []
    },
    {
      "cell_type": "code",
      "metadata": {
        "id": "Lg8b4SxeG8-z",
        "colab_type": "code",
        "colab": {
          "base_uri": "https://localhost:8080/",
          "height": 328
        },
        "outputId": "2a7a991f-0ad9-4c32-a79e-9c369c33f8f5"
      },
      "source": [
        "new_data_2004_cake = new_data_2004['디저트']\n",
        "new_data_2005_cake = new_data_2005['디저트']\n",
        "cake= pd.merge(new_data_2004_cake,new_data_2005_cake,how='outer',on='Age')\n",
        "cake"
      ],
      "execution_count": null,
      "outputs": [
        {
          "output_type": "execute_result",
          "data": {
            "text/html": [
              "<div>\n",
              "<style scoped>\n",
              "    .dataframe tbody tr th:only-of-type {\n",
              "        vertical-align: middle;\n",
              "    }\n",
              "\n",
              "    .dataframe tbody tr th {\n",
              "        vertical-align: top;\n",
              "    }\n",
              "\n",
              "    .dataframe thead th {\n",
              "        text-align: right;\n",
              "    }\n",
              "</style>\n",
              "<table border=\"1\" class=\"dataframe\">\n",
              "  <thead>\n",
              "    <tr style=\"text-align: right;\">\n",
              "      <th></th>\n",
              "      <th>디저트_x</th>\n",
              "      <th>디저트_y</th>\n",
              "    </tr>\n",
              "    <tr>\n",
              "      <th>Age</th>\n",
              "      <th></th>\n",
              "      <th></th>\n",
              "    </tr>\n",
              "  </thead>\n",
              "  <tbody>\n",
              "    <tr>\n",
              "      <th>20-24</th>\n",
              "      <td>2317.0</td>\n",
              "      <td>2571</td>\n",
              "    </tr>\n",
              "    <tr>\n",
              "      <th>25-29</th>\n",
              "      <td>2510.0</td>\n",
              "      <td>2777</td>\n",
              "    </tr>\n",
              "    <tr>\n",
              "      <th>30-44</th>\n",
              "      <td>3270.0</td>\n",
              "      <td>3601</td>\n",
              "    </tr>\n",
              "    <tr>\n",
              "      <th>35-39</th>\n",
              "      <td>1561.0</td>\n",
              "      <td>1858</td>\n",
              "    </tr>\n",
              "    <tr>\n",
              "      <th>40-44</th>\n",
              "      <td>3170.0</td>\n",
              "      <td>3591</td>\n",
              "    </tr>\n",
              "    <tr>\n",
              "      <th>45-49</th>\n",
              "      <td>3272.0</td>\n",
              "      <td>3543</td>\n",
              "    </tr>\n",
              "    <tr>\n",
              "      <th>50-54</th>\n",
              "      <td>2507.0</td>\n",
              "      <td>2854</td>\n",
              "    </tr>\n",
              "    <tr>\n",
              "      <th>55-59</th>\n",
              "      <td>1652.0</td>\n",
              "      <td>1951</td>\n",
              "    </tr>\n",
              "  </tbody>\n",
              "</table>\n",
              "</div>"
            ],
            "text/plain": [
              "        디저트_x  디저트_y\n",
              "Age                 \n",
              "20-24  2317.0   2571\n",
              "25-29  2510.0   2777\n",
              "30-44  3270.0   3601\n",
              "35-39  1561.0   1858\n",
              "40-44  3170.0   3591\n",
              "45-49  3272.0   3543\n",
              "50-54  2507.0   2854\n",
              "55-59  1652.0   1951"
            ]
          },
          "metadata": {
            "tags": []
          },
          "execution_count": 48
        }
      ]
    },
    {
      "cell_type": "code",
      "metadata": {
        "id": "nsIRaK4XY_0H",
        "colab_type": "code",
        "colab": {
          "base_uri": "https://localhost:8080/",
          "height": 340
        },
        "outputId": "923daff6-f111-4125-9ea0-a1bb3a3b7790"
      },
      "source": [
        "\n",
        "sns.catplot(x=\"\", kind=\"bar\", data=cake);"
      ],
      "execution_count": null,
      "outputs": [
        {
          "output_type": "error",
          "ename": "ValueError",
          "evalue": "ignored",
          "traceback": [
            "\u001b[0;31m---------------------------------------------------------------------------\u001b[0m",
            "\u001b[0;31mValueError\u001b[0m                                Traceback (most recent call last)",
            "\u001b[0;32m<ipython-input-46-e70cbbbf4659>\u001b[0m in \u001b[0;36m<module>\u001b[0;34m()\u001b[0m\n\u001b[1;32m      1\u001b[0m \u001b[0;34m\u001b[0m\u001b[0m\n\u001b[0;32m----> 2\u001b[0;31m \u001b[0msns\u001b[0m\u001b[0;34m.\u001b[0m\u001b[0mcatplot\u001b[0m\u001b[0;34m(\u001b[0m\u001b[0mx\u001b[0m\u001b[0;34m=\u001b[0m\u001b[0;34m\"Age\"\u001b[0m\u001b[0;34m,\u001b[0m \u001b[0mkind\u001b[0m\u001b[0;34m=\u001b[0m\u001b[0;34m\"bar\"\u001b[0m\u001b[0;34m,\u001b[0m \u001b[0mdata\u001b[0m\u001b[0;34m=\u001b[0m\u001b[0mcake\u001b[0m\u001b[0;34m)\u001b[0m\u001b[0;34m;\u001b[0m\u001b[0;34m\u001b[0m\u001b[0;34m\u001b[0m\u001b[0m\n\u001b[0m",
            "\u001b[0;32m/usr/local/lib/python3.6/dist-packages/seaborn/categorical.py\u001b[0m in \u001b[0;36mcatplot\u001b[0;34m(x, y, hue, data, row, col, col_wrap, estimator, ci, n_boot, units, seed, order, hue_order, row_order, col_order, kind, height, aspect, orient, color, palette, legend, legend_out, sharex, sharey, margin_titles, facet_kws, **kwargs)\u001b[0m\n\u001b[1;32m   3721\u001b[0m     \u001b[0;31m# facets to ensure representation of all data in the final plot\u001b[0m\u001b[0;34m\u001b[0m\u001b[0;34m\u001b[0m\u001b[0;34m\u001b[0m\u001b[0m\n\u001b[1;32m   3722\u001b[0m     \u001b[0mp\u001b[0m \u001b[0;34m=\u001b[0m \u001b[0m_CategoricalPlotter\u001b[0m\u001b[0;34m(\u001b[0m\u001b[0;34m)\u001b[0m\u001b[0;34m\u001b[0m\u001b[0;34m\u001b[0m\u001b[0m\n\u001b[0;32m-> 3723\u001b[0;31m     \u001b[0mp\u001b[0m\u001b[0;34m.\u001b[0m\u001b[0mestablish_variables\u001b[0m\u001b[0;34m(\u001b[0m\u001b[0mx_\u001b[0m\u001b[0;34m,\u001b[0m \u001b[0my_\u001b[0m\u001b[0;34m,\u001b[0m \u001b[0mhue\u001b[0m\u001b[0;34m,\u001b[0m \u001b[0mdata\u001b[0m\u001b[0;34m,\u001b[0m \u001b[0morient\u001b[0m\u001b[0;34m,\u001b[0m \u001b[0morder\u001b[0m\u001b[0;34m,\u001b[0m \u001b[0mhue_order\u001b[0m\u001b[0;34m)\u001b[0m\u001b[0;34m\u001b[0m\u001b[0;34m\u001b[0m\u001b[0m\n\u001b[0m\u001b[1;32m   3724\u001b[0m     \u001b[0morder\u001b[0m \u001b[0;34m=\u001b[0m \u001b[0mp\u001b[0m\u001b[0;34m.\u001b[0m\u001b[0mgroup_names\u001b[0m\u001b[0;34m\u001b[0m\u001b[0;34m\u001b[0m\u001b[0m\n\u001b[1;32m   3725\u001b[0m     \u001b[0mhue_order\u001b[0m \u001b[0;34m=\u001b[0m \u001b[0mp\u001b[0m\u001b[0;34m.\u001b[0m\u001b[0mhue_names\u001b[0m\u001b[0;34m\u001b[0m\u001b[0;34m\u001b[0m\u001b[0m\n",
            "\u001b[0;32m/usr/local/lib/python3.6/dist-packages/seaborn/categorical.py\u001b[0m in \u001b[0;36mestablish_variables\u001b[0;34m(self, x, y, hue, data, orient, order, hue_order, units)\u001b[0m\n\u001b[1;32m    150\u001b[0m                 \u001b[0;32mif\u001b[0m \u001b[0misinstance\u001b[0m\u001b[0;34m(\u001b[0m\u001b[0mvar\u001b[0m\u001b[0;34m,\u001b[0m \u001b[0mstr\u001b[0m\u001b[0;34m)\u001b[0m\u001b[0;34m:\u001b[0m\u001b[0;34m\u001b[0m\u001b[0;34m\u001b[0m\u001b[0m\n\u001b[1;32m    151\u001b[0m                     \u001b[0merr\u001b[0m \u001b[0;34m=\u001b[0m \u001b[0;34m\"Could not interpret input '{}'\"\u001b[0m\u001b[0;34m.\u001b[0m\u001b[0mformat\u001b[0m\u001b[0;34m(\u001b[0m\u001b[0mvar\u001b[0m\u001b[0;34m)\u001b[0m\u001b[0;34m\u001b[0m\u001b[0;34m\u001b[0m\u001b[0m\n\u001b[0;32m--> 152\u001b[0;31m                     \u001b[0;32mraise\u001b[0m \u001b[0mValueError\u001b[0m\u001b[0;34m(\u001b[0m\u001b[0merr\u001b[0m\u001b[0;34m)\u001b[0m\u001b[0;34m\u001b[0m\u001b[0;34m\u001b[0m\u001b[0m\n\u001b[0m\u001b[1;32m    153\u001b[0m \u001b[0;34m\u001b[0m\u001b[0m\n\u001b[1;32m    154\u001b[0m             \u001b[0;31m# Figure out the plotting orientation\u001b[0m\u001b[0;34m\u001b[0m\u001b[0;34m\u001b[0m\u001b[0;34m\u001b[0m\u001b[0m\n",
            "\u001b[0;31mValueError\u001b[0m: Could not interpret input 'Age'"
          ]
        }
      ]
    },
    {
      "cell_type": "code",
      "metadata": {
        "id": "V7wAh9hFDhPs",
        "colab_type": "code",
        "colab": {}
      },
      "source": [
        "new_data_2005 = data_2005.groupby(['Category','Age'])['Age'].count().unstack('Age')\n",
        "new_data_2005"
      ],
      "execution_count": null,
      "outputs": []
    },
    {
      "cell_type": "code",
      "metadata": {
        "id": "Ea3IDq10FFF9",
        "colab_type": "code",
        "colab": {}
      },
      "source": [
        "new_data_1904 = data_1904.groupby(['Category','Age'])['Age'].count().unstack('Age')\n",
        "new_data_1904"
      ],
      "execution_count": null,
      "outputs": []
    },
    {
      "cell_type": "code",
      "metadata": {
        "id": "2dsLacBvFLZk",
        "colab_type": "code",
        "colab": {}
      },
      "source": [
        "new_data_1905 = data_1905.groupby(['Category','Age'])['Age'].count().unstack('Age')\n",
        "new_data_1905"
      ],
      "execution_count": null,
      "outputs": []
    }
  ]
}