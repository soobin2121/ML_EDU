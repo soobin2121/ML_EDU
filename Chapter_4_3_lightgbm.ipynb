{
  "nbformat": 4,
  "nbformat_minor": 0,
  "metadata": {
    "colab": {
      "name": "Chapter_4_3_lightgbm.ipynb",
      "provenance": [],
      "collapsed_sections": [],
      "include_colab_link": true
    },
    "kernelspec": {
      "name": "python3",
      "display_name": "Python 3"
    }
  },
  "cells": [
    {
      "cell_type": "markdown",
      "metadata": {
        "id": "view-in-github",
        "colab_type": "text"
      },
      "source": [
        "<a href=\"https://colab.research.google.com/github/soobin2121/ML_EDU/blob/master/Chapter_4_3_lightgbm.ipynb\" target=\"_parent\"><img src=\"https://colab.research.google.com/assets/colab-badge.svg\" alt=\"Open In Colab\"/></a>"
      ]
    },
    {
      "cell_type": "markdown",
      "metadata": {
        "id": "Gc8a9DM17eRG",
        "colab_type": "text"
      },
      "source": [
        "---\n",
        "title: \"머신러닝 알고리즘 - LightGbm\"\n",
        "date: 2020-07-16T18:00:47+09:00\n",
        "tags:\n",
        "  - \"머신러닝\"\n",
        "  - \"Python\"\n",
        "  - \"Machine Learning\"\n",
        "categories:\n",
        "  - \"머신러닝\"\n",
        "  - \"Python\"\n",
        "  - \"Machine Learning\"\n",
        "menu: \n",
        "  kaggle:\n",
        "    name: 머신러닝 알고리즘 - LightGbm\n",
        "---\n"
      ]
    },
    {
      "cell_type": "markdown",
      "metadata": {
        "id": "Rd7OM2we7uKo",
        "colab_type": "text"
      },
      "source": [
        "## 개요\n",
        "- 주택가격을 예측하는 데 필요한 Kaggle 데이터를 불러와서 빅쿼리에 저장하는 실습 진행\n",
        "- 데이터를 불러와서 `LightGBM`를 활용하여 머신러닝을 만든다. "
      ]
    },
    {
      "cell_type": "markdown",
      "metadata": {
        "id": "qQD2mzjIbEpR",
        "colab_type": "text"
      },
      "source": [
        "## I. 사전 준비작업\n",
        "- `Kaggle API` 설치 및 연동해서 `GCP`에 데이터를 적재하는 것까지 진행한다. "
      ]
    },
    {
      "cell_type": "markdown",
      "metadata": {
        "id": "JOwrTEIFtHai",
        "colab_type": "text"
      },
      "source": [
        "### (1) Kaggle API 설치\n",
        "- 구글 코랩에서 `API`를 불러오려면 다음 소스코드를 실행한다. "
      ]
    },
    {
      "cell_type": "code",
      "metadata": {
        "id": "iE8dUgTntOva",
        "colab_type": "code",
        "colab": {
          "base_uri": "https://localhost:8080/",
          "height": 215
        },
        "outputId": "408f7a3f-236c-4907-f99b-4382d572f3a9"
      },
      "source": [
        "!pip install kaggle"
      ],
      "execution_count": 1,
      "outputs": [
        {
          "output_type": "stream",
          "text": [
            "Requirement already satisfied: kaggle in /usr/local/lib/python3.6/dist-packages (1.5.6)\n",
            "Requirement already satisfied: requests in /usr/local/lib/python3.6/dist-packages (from kaggle) (2.23.0)\n",
            "Requirement already satisfied: urllib3<1.25,>=1.21.1 in /usr/local/lib/python3.6/dist-packages (from kaggle) (1.24.3)\n",
            "Requirement already satisfied: six>=1.10 in /usr/local/lib/python3.6/dist-packages (from kaggle) (1.15.0)\n",
            "Requirement already satisfied: python-slugify in /usr/local/lib/python3.6/dist-packages (from kaggle) (4.0.1)\n",
            "Requirement already satisfied: certifi in /usr/local/lib/python3.6/dist-packages (from kaggle) (2020.6.20)\n",
            "Requirement already satisfied: tqdm in /usr/local/lib/python3.6/dist-packages (from kaggle) (4.41.1)\n",
            "Requirement already satisfied: python-dateutil in /usr/local/lib/python3.6/dist-packages (from kaggle) (2.8.1)\n",
            "Requirement already satisfied: chardet<4,>=3.0.2 in /usr/local/lib/python3.6/dist-packages (from requests->kaggle) (3.0.4)\n",
            "Requirement already satisfied: idna<3,>=2.5 in /usr/local/lib/python3.6/dist-packages (from requests->kaggle) (2.10)\n",
            "Requirement already satisfied: text-unidecode>=1.3 in /usr/local/lib/python3.6/dist-packages (from python-slugify->kaggle) (1.3)\n"
          ],
          "name": "stdout"
        }
      ]
    },
    {
      "cell_type": "markdown",
      "metadata": {
        "id": "EZlgcW7TtRkI",
        "colab_type": "text"
      },
      "source": [
        "### (2) Kaggle Token 다운로드\n",
        "- Kaggle에서 API Token을 다운로드 받는다.\n",
        "- [Kaggle]-[My Account]-[API]-[Create New API Token]을 누르면 `kaggle.json` 파일이 다운로드 된다.\n",
        "- 이 파일을 바탕화면에 옮긴 뒤, 아래 코드를 실행 시킨다."
      ]
    },
    {
      "cell_type": "code",
      "metadata": {
        "id": "nJwcVUBltedG",
        "colab_type": "code",
        "colab": {
          "resources": {
            "http://localhost:8080/nbextensions/google.colab/files.js": {
              "data": "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",
              "ok": true,
              "headers": [
                [
                  "content-type",
                  "application/javascript"
                ]
              ],
              "status": 200,
              "status_text": ""
            }
          },
          "base_uri": "https://localhost:8080/",
          "height": 418
        },
        "outputId": "a7f49469-c1bb-4ed1-9524-9cb2f958d9f4"
      },
      "source": [
        "from google.colab import files\n",
        "uploaded = files.upload()\n",
        "for fn in uploaded.keys():\n",
        "  print('uploaded file \"{name}\" with length {length} bytes'.format(\n",
        "      name=fn, length=len(uploaded[fn])))\n",
        "  \n",
        "# kaggle.json을 아래 폴더로 옮긴 뒤, file을 사용할 수 있도록 권한을 부여한다. \n",
        "!mkdir -p ~/.kaggle/ && mv kaggle.json ~/.kaggle/ && chmod 600 ~/.kaggle/kaggle.json"
      ],
      "execution_count": 5,
      "outputs": [
        {
          "output_type": "display_data",
          "data": {
            "text/html": [
              "\n",
              "     <input type=\"file\" id=\"files-440e1768-a31a-42b1-9296-e2ab07efd53a\" name=\"files[]\" multiple disabled\n",
              "        style=\"border:none\" />\n",
              "     <output id=\"result-440e1768-a31a-42b1-9296-e2ab07efd53a\">\n",
              "      Upload widget is only available when the cell has been executed in the\n",
              "      current browser session. Please rerun this cell to enable.\n",
              "      </output>\n",
              "      <script src=\"/nbextensions/google.colab/files.js\"></script> "
            ],
            "text/plain": [
              "<IPython.core.display.HTML object>"
            ]
          },
          "metadata": {
            "tags": []
          }
        },
        {
          "output_type": "error",
          "ename": "KeyboardInterrupt",
          "evalue": "ignored",
          "traceback": [
            "\u001b[0;31m---------------------------------------------------------------------------\u001b[0m",
            "\u001b[0;31mKeyboardInterrupt\u001b[0m                         Traceback (most recent call last)",
            "\u001b[0;32m<ipython-input-5-9b97238fea14>\u001b[0m in \u001b[0;36m<module>\u001b[0;34m()\u001b[0m\n\u001b[1;32m      1\u001b[0m \u001b[0;32mfrom\u001b[0m \u001b[0mgoogle\u001b[0m\u001b[0;34m.\u001b[0m\u001b[0mcolab\u001b[0m \u001b[0;32mimport\u001b[0m \u001b[0mfiles\u001b[0m\u001b[0;34m\u001b[0m\u001b[0;34m\u001b[0m\u001b[0m\n\u001b[0;32m----> 2\u001b[0;31m \u001b[0muploaded\u001b[0m \u001b[0;34m=\u001b[0m \u001b[0mfiles\u001b[0m\u001b[0;34m.\u001b[0m\u001b[0mupload\u001b[0m\u001b[0;34m(\u001b[0m\u001b[0;34m)\u001b[0m\u001b[0;34m\u001b[0m\u001b[0;34m\u001b[0m\u001b[0m\n\u001b[0m\u001b[1;32m      3\u001b[0m \u001b[0;32mfor\u001b[0m \u001b[0mfn\u001b[0m \u001b[0;32min\u001b[0m \u001b[0muploaded\u001b[0m\u001b[0;34m.\u001b[0m\u001b[0mkeys\u001b[0m\u001b[0;34m(\u001b[0m\u001b[0;34m)\u001b[0m\u001b[0;34m:\u001b[0m\u001b[0;34m\u001b[0m\u001b[0;34m\u001b[0m\u001b[0m\n\u001b[1;32m      4\u001b[0m   print('uploaded file \"{name}\" with length {length} bytes'.format(\n\u001b[1;32m      5\u001b[0m       name=fn, length=len(uploaded[fn])))\n",
            "\u001b[0;32m/usr/local/lib/python3.6/dist-packages/google/colab/files.py\u001b[0m in \u001b[0;36mupload\u001b[0;34m()\u001b[0m\n\u001b[1;32m     62\u001b[0m   result = _output.eval_js(\n\u001b[1;32m     63\u001b[0m       'google.colab._files._uploadFiles(\"{input_id}\", \"{output_id}\")'.format(\n\u001b[0;32m---> 64\u001b[0;31m           input_id=input_id, output_id=output_id))\n\u001b[0m\u001b[1;32m     65\u001b[0m   \u001b[0mfiles\u001b[0m \u001b[0;34m=\u001b[0m \u001b[0m_collections\u001b[0m\u001b[0;34m.\u001b[0m\u001b[0mdefaultdict\u001b[0m\u001b[0;34m(\u001b[0m\u001b[0m_six\u001b[0m\u001b[0;34m.\u001b[0m\u001b[0mbinary_type\u001b[0m\u001b[0;34m)\u001b[0m\u001b[0;34m\u001b[0m\u001b[0;34m\u001b[0m\u001b[0m\n\u001b[1;32m     66\u001b[0m   \u001b[0;31m# Mapping from original filename to filename as saved locally.\u001b[0m\u001b[0;34m\u001b[0m\u001b[0;34m\u001b[0m\u001b[0;34m\u001b[0m\u001b[0m\n",
            "\u001b[0;32m/usr/local/lib/python3.6/dist-packages/google/colab/output/_js.py\u001b[0m in \u001b[0;36meval_js\u001b[0;34m(script, ignore_result)\u001b[0m\n\u001b[1;32m     37\u001b[0m   \u001b[0;32mif\u001b[0m \u001b[0mignore_result\u001b[0m\u001b[0;34m:\u001b[0m\u001b[0;34m\u001b[0m\u001b[0;34m\u001b[0m\u001b[0m\n\u001b[1;32m     38\u001b[0m     \u001b[0;32mreturn\u001b[0m\u001b[0;34m\u001b[0m\u001b[0;34m\u001b[0m\u001b[0m\n\u001b[0;32m---> 39\u001b[0;31m   \u001b[0;32mreturn\u001b[0m \u001b[0m_message\u001b[0m\u001b[0;34m.\u001b[0m\u001b[0mread_reply_from_input\u001b[0m\u001b[0;34m(\u001b[0m\u001b[0mrequest_id\u001b[0m\u001b[0;34m)\u001b[0m\u001b[0;34m\u001b[0m\u001b[0;34m\u001b[0m\u001b[0m\n\u001b[0m\u001b[1;32m     40\u001b[0m \u001b[0;34m\u001b[0m\u001b[0m\n\u001b[1;32m     41\u001b[0m \u001b[0;34m\u001b[0m\u001b[0m\n",
            "\u001b[0;32m/usr/local/lib/python3.6/dist-packages/google/colab/_message.py\u001b[0m in \u001b[0;36mread_reply_from_input\u001b[0;34m(message_id, timeout_sec)\u001b[0m\n\u001b[1;32m     99\u001b[0m     \u001b[0mreply\u001b[0m \u001b[0;34m=\u001b[0m \u001b[0m_read_next_input_message\u001b[0m\u001b[0;34m(\u001b[0m\u001b[0;34m)\u001b[0m\u001b[0;34m\u001b[0m\u001b[0;34m\u001b[0m\u001b[0m\n\u001b[1;32m    100\u001b[0m     \u001b[0;32mif\u001b[0m \u001b[0mreply\u001b[0m \u001b[0;34m==\u001b[0m \u001b[0m_NOT_READY\u001b[0m \u001b[0;32mor\u001b[0m \u001b[0;32mnot\u001b[0m \u001b[0misinstance\u001b[0m\u001b[0;34m(\u001b[0m\u001b[0mreply\u001b[0m\u001b[0;34m,\u001b[0m \u001b[0mdict\u001b[0m\u001b[0;34m)\u001b[0m\u001b[0;34m:\u001b[0m\u001b[0;34m\u001b[0m\u001b[0;34m\u001b[0m\u001b[0m\n\u001b[0;32m--> 101\u001b[0;31m       \u001b[0mtime\u001b[0m\u001b[0;34m.\u001b[0m\u001b[0msleep\u001b[0m\u001b[0;34m(\u001b[0m\u001b[0;36m0.025\u001b[0m\u001b[0;34m)\u001b[0m\u001b[0;34m\u001b[0m\u001b[0;34m\u001b[0m\u001b[0m\n\u001b[0m\u001b[1;32m    102\u001b[0m       \u001b[0;32mcontinue\u001b[0m\u001b[0;34m\u001b[0m\u001b[0;34m\u001b[0m\u001b[0m\n\u001b[1;32m    103\u001b[0m     if (reply.get('type') == 'colab_reply' and\n",
            "\u001b[0;31mKeyboardInterrupt\u001b[0m: "
          ]
        }
      ]
    },
    {
      "cell_type": "markdown",
      "metadata": {
        "id": "fmsriNFDt2IB",
        "colab_type": "text"
      },
      "source": [
        "- 실제 `kaggle.json` 파일이 업로드 되었다는 뜻이다. "
      ]
    },
    {
      "cell_type": "code",
      "metadata": {
        "id": "hby2WV6_tzTp",
        "colab_type": "code",
        "colab": {
          "base_uri": "https://localhost:8080/",
          "height": 35
        },
        "outputId": "279819ba-1e7d-4766-d5a2-c5c1c80ccd1d"
      },
      "source": [
        "ls -1ha ~/.kaggle/kaggle.json"
      ],
      "execution_count": 3,
      "outputs": [
        {
          "output_type": "stream",
          "text": [
            "ls: cannot access '/root/.kaggle/kaggle.json': No such file or directory\n"
          ],
          "name": "stdout"
        }
      ]
    },
    {
      "cell_type": "markdown",
      "metadata": {
        "id": "l_8ZpTERuAoI",
        "colab_type": "text"
      },
      "source": [
        "### (3) Kaggle 데이터 불러오기\n",
        "- `Kaggle` 대회 리스트를 불러온다. "
      ]
    },
    {
      "cell_type": "code",
      "metadata": {
        "id": "fCWOFWNsuKCL",
        "colab_type": "code",
        "colab": {
          "base_uri": "https://localhost:8080/",
          "height": 161
        },
        "outputId": "0eb3151f-8fbe-4eea-d24c-6e98fecd162d"
      },
      "source": [
        "!kaggle competitions list"
      ],
      "execution_count": 4,
      "outputs": [
        {
          "output_type": "stream",
          "text": [
            "Traceback (most recent call last):\n",
            "  File \"/usr/local/bin/kaggle\", line 5, in <module>\n",
            "    from kaggle.cli import main\n",
            "  File \"/usr/local/lib/python2.7/dist-packages/kaggle/__init__.py\", line 23, in <module>\n",
            "    api.authenticate()\n",
            "  File \"/usr/local/lib/python2.7/dist-packages/kaggle/api/kaggle_api_extended.py\", line 146, in authenticate\n",
            "    self.config_file, self.config_dir))\n",
            "IOError: Could not find kaggle.json. Make sure it's located in /root/.kaggle. Or use the environment method.\n"
          ],
          "name": "stdout"
        }
      ]
    },
    {
      "cell_type": "markdown",
      "metadata": {
        "id": "1RdNEuatuNG5",
        "colab_type": "text"
      },
      "source": [
        "- 여기에서 참여하기 원하는 대회의 데이터셋을 불러오면 된다.\n",
        "- 이번 `basic`강의에서는 `house-prices-advanced-regression-techniques` 데이터를 활용한 데이터 가공과 시각화를 연습할 것이기 때문에 아래와 같이 코드를 실행하여 데이터를 불러온다."
      ]
    },
    {
      "cell_type": "code",
      "metadata": {
        "id": "YQHYYwfEuTj2",
        "colab_type": "code",
        "colab": {
          "base_uri": "https://localhost:8080/",
          "height": 107
        },
        "outputId": "4c665f25-7a94-4de3-8816-ec4a0079206b"
      },
      "source": [
        "!kaggle competitions download -c house-prices-advanced-regression-techniques"
      ],
      "execution_count": null,
      "outputs": [
        {
          "output_type": "stream",
          "text": [
            "Warning: Looks like you're using an outdated API Version, please consider updating (server 1.5.6 / client 1.5.4)\n",
            "sample_submission.csv: Skipping, found more recently modified local copy (use --force to force download)\n",
            "train.csv: Skipping, found more recently modified local copy (use --force to force download)\n",
            "test.csv: Skipping, found more recently modified local copy (use --force to force download)\n",
            "data_description.txt: Skipping, found more recently modified local copy (use --force to force download)\n"
          ],
          "name": "stdout"
        }
      ]
    },
    {
      "cell_type": "markdown",
      "metadata": {
        "id": "Gf_eBF5Ouf_q",
        "colab_type": "text"
      },
      "source": [
        "- 실제 데이터가 잘 다운로드 받게 되었는지 확인한다."
      ]
    },
    {
      "cell_type": "code",
      "metadata": {
        "id": "JfYYsy3Gujo2",
        "colab_type": "code",
        "colab": {
          "base_uri": "https://localhost:8080/",
          "height": 35
        },
        "outputId": "d5879e60-fdf2-451d-da57-c28c1c9c34fd"
      },
      "source": [
        "!ls"
      ],
      "execution_count": null,
      "outputs": [
        {
          "output_type": "stream",
          "text": [
            "data_description.txt  sample_data  sample_submission.csv  test.csv  train.csv\n"
          ],
          "name": "stdout"
        }
      ]
    },
    {
      "cell_type": "markdown",
      "metadata": {
        "id": "8NYCgyL-uYSI",
        "colab_type": "text"
      },
      "source": [
        "### (4) BigQuery에 데이터 적재\n",
        "- `sample_submission.csv`, `test.csv`, `train.csv` 데이터를 불러와서 빅쿼리에 적재를 한다. \n",
        "- 로컬에서 빅쿼리로 데이터를 Load하는 방법에는 여러가지가 있다.\n",
        "  + `Local`에서 직접 올리기 (단, 10MB 이하)\n",
        "  + `Google Stroage` 활용\n",
        "  + `Pandas` 활용\n",
        "- `Google Stroage`를 활용하려면 클라우드 수업으로 진행되기 때문에, `Pandas`패키지를 활용한다.\n",
        "  + `to_gbq`라는 함수를 사용하는데, 이를 위해서는 보통 `pandas-gbq package`패키지를 별도로 설치를 해야한다.\n",
        "  + 다행히도, 구글 `Colab`에서는 위 패키지는 별도로 설치할 필요가 없다."
      ]
    },
    {
      "cell_type": "code",
      "metadata": {
        "id": "naBmJMD-vBAw",
        "colab_type": "code",
        "colab": {
          "base_uri": "https://localhost:8080/",
          "height": 88
        },
        "outputId": "ebc4c130-3dd3-4040-fb49-898a29274be4"
      },
      "source": [
        "import pandas as pd\n",
        "from pandas.io import gbq\n",
        "\n",
        "# import sample_submission file\n",
        "sample_submission = pd.read_csv('sample_submission.csv')\n",
        "\n",
        "# Connect to Google Cloud API and Upload DataFrame\n",
        "sample_submission.to_gbq(destination_table='house_price.sample_submission', \n",
        "                  project_id='bigquerytutorial-274406', \n",
        "\n",
        "                  if_exists='replace')"
      ],
      "execution_count": null,
      "outputs": [
        {
          "output_type": "stream",
          "text": [
            "Please visit this URL to authorize this application: https://accounts.google.com/o/oauth2/auth?response_type=code&client_id=725825577420-unm2gnkiprugilg743tkbig250f4sfsj.apps.googleusercontent.com&redirect_uri=urn%3Aietf%3Awg%3Aoauth%3A2.0%3Aoob&scope=https%3A%2F%2Fwww.googleapis.com%2Fauth%2Fbigquery&state=iDanF0tXkfmDnxY4RD2uUUl44sAOkl&prompt=consent&access_type=offline\n",
            "Enter the authorization code: 4/2AGO8F1EJcAFws0wc37c5YDgiO3eCfF7k6D5casBL8OtJCulQruEnu0\n"
          ],
          "name": "stdout"
        },
        {
          "output_type": "stream",
          "text": [
            "1it [00:02,  2.60s/it]\n"
          ],
          "name": "stderr"
        }
      ]
    },
    {
      "cell_type": "code",
      "metadata": {
        "id": "khZG_lzrv8LJ",
        "colab_type": "code",
        "colab": {}
      },
      "source": [
        "import pandas as pd\n",
        "from pandas.io import gbq\n",
        "# import train file \n",
        "train = pd.read_csv('train.csv')"
      ],
      "execution_count": null,
      "outputs": []
    },
    {
      "cell_type": "markdown",
      "metadata": {
        "id": "k-2rD0EIYlfL",
        "colab_type": "text"
      },
      "source": [
        "- `column`명을 확인해본다. "
      ]
    },
    {
      "cell_type": "code",
      "metadata": {
        "id": "pgD-EYO9Ys_4",
        "colab_type": "code",
        "colab": {
          "base_uri": "https://localhost:8080/",
          "height": 334
        },
        "outputId": "9a7ee27d-e422-46e0-bb2b-e693486a5962"
      },
      "source": [
        "print(train.columns)"
      ],
      "execution_count": null,
      "outputs": [
        {
          "output_type": "stream",
          "text": [
            "Index(['Id', 'MSSubClass', 'MSZoning', 'LotFrontage', 'LotArea', 'Street',\n",
            "       'Alley', 'LotShape', 'LandContour', 'Utilities', 'LotConfig',\n",
            "       'LandSlope', 'Neighborhood', 'Condition1', 'Condition2', 'BldgType',\n",
            "       'HouseStyle', 'OverallQual', 'OverallCond', 'YearBuilt', 'YearRemodAdd',\n",
            "       'RoofStyle', 'RoofMatl', 'Exterior1st', 'Exterior2nd', 'MasVnrType',\n",
            "       'MasVnrArea', 'ExterQual', 'ExterCond', 'Foundation', 'BsmtQual',\n",
            "       'BsmtCond', 'BsmtExposure', 'BsmtFinType1', 'BsmtFinSF1',\n",
            "       'BsmtFinType2', 'BsmtFinSF2', 'BsmtUnfSF', 'TotalBsmtSF', 'Heating',\n",
            "       'HeatingQC', 'CentralAir', 'Electrical', '1stFlrSF', '2ndFlrSF',\n",
            "       'LowQualFinSF', 'GrLivArea', 'BsmtFullBath', 'BsmtHalfBath', 'FullBath',\n",
            "       'HalfBath', 'BedroomAbvGr', 'KitchenAbvGr', 'KitchenQual',\n",
            "       'TotRmsAbvGrd', 'Functional', 'Fireplaces', 'FireplaceQu', 'GarageType',\n",
            "       'GarageYrBlt', 'GarageFinish', 'GarageCars', 'GarageArea', 'GarageQual',\n",
            "       'GarageCond', 'PavedDrive', 'WoodDeckSF', 'OpenPorchSF',\n",
            "       'EnclosedPorch', '3SsnPorch', 'ScreenPorch', 'PoolArea', 'PoolQC',\n",
            "       'Fence', 'MiscFeature', 'MiscVal', 'MoSold', 'YrSold', 'SaleType',\n",
            "       'SaleCondition', 'SalePrice'],\n",
            "      dtype='object')\n"
          ],
          "name": "stdout"
        }
      ]
    },
    {
      "cell_type": "code",
      "metadata": {
        "id": "7uZEV7hyPJWm",
        "colab_type": "code",
        "colab": {
          "base_uri": "https://localhost:8080/",
          "height": 649
        },
        "outputId": "9747a80a-78c8-46e0-a570-b79d2a81a5b2"
      },
      "source": [
        "train.to_gbq(destination_table='house_price.train', \n",
        "                  project_id='bigquerytutorial-274406', \n",
        "                  if_exists='replace')"
      ],
      "execution_count": null,
      "outputs": [
        {
          "output_type": "stream",
          "text": [
            "Please visit this URL to authorize this application: https://accounts.google.com/o/oauth2/auth?response_type=code&client_id=725825577420-unm2gnkiprugilg743tkbig250f4sfsj.apps.googleusercontent.com&redirect_uri=urn%3Aietf%3Awg%3Aoauth%3A2.0%3Aoob&scope=https%3A%2F%2Fwww.googleapis.com%2Fauth%2Fbigquery&state=bfs5rTp22NpJ34YGvmUn4sYiGJ824n&prompt=consent&access_type=offline\n",
            "Enter the authorization code: 4/2AE2Islh7hWhTD483wZqZq6mM0nPEnUTl2jmCtms4oDW_7S5SM3WmPI\n"
          ],
          "name": "stdout"
        },
        {
          "output_type": "error",
          "ename": "GenericGBQException",
          "evalue": "ignored",
          "traceback": [
            "\u001b[0;31m---------------------------------------------------------------------------\u001b[0m",
            "\u001b[0;31mBadRequest\u001b[0m                                Traceback (most recent call last)",
            "\u001b[0;32m/usr/local/lib/python3.6/dist-packages/pandas_gbq/gbq.py\u001b[0m in \u001b[0;36mcreate\u001b[0;34m(self, table_id, schema)\u001b[0m\n\u001b[1;32m   1323\u001b[0m         \u001b[0;32mtry\u001b[0m\u001b[0;34m:\u001b[0m\u001b[0;34m\u001b[0m\u001b[0;34m\u001b[0m\u001b[0m\n\u001b[0;32m-> 1324\u001b[0;31m             \u001b[0mself\u001b[0m\u001b[0;34m.\u001b[0m\u001b[0mclient\u001b[0m\u001b[0;34m.\u001b[0m\u001b[0mcreate_table\u001b[0m\u001b[0;34m(\u001b[0m\u001b[0mtable\u001b[0m\u001b[0;34m)\u001b[0m\u001b[0;34m\u001b[0m\u001b[0;34m\u001b[0m\u001b[0m\n\u001b[0m\u001b[1;32m   1325\u001b[0m         \u001b[0;32mexcept\u001b[0m \u001b[0mself\u001b[0m\u001b[0;34m.\u001b[0m\u001b[0mhttp_error\u001b[0m \u001b[0;32mas\u001b[0m \u001b[0mex\u001b[0m\u001b[0;34m:\u001b[0m\u001b[0;34m\u001b[0m\u001b[0;34m\u001b[0m\u001b[0m\n",
            "\u001b[0;32m/usr/local/lib/python3.6/dist-packages/google/cloud/bigquery/client.py\u001b[0m in \u001b[0;36mcreate_table\u001b[0;34m(self, table, exists_ok, retry)\u001b[0m\n\u001b[1;32m    464\u001b[0m         \u001b[0;32mtry\u001b[0m\u001b[0;34m:\u001b[0m\u001b[0;34m\u001b[0m\u001b[0;34m\u001b[0m\u001b[0m\n\u001b[0;32m--> 465\u001b[0;31m             \u001b[0mapi_response\u001b[0m \u001b[0;34m=\u001b[0m \u001b[0mself\u001b[0m\u001b[0;34m.\u001b[0m\u001b[0m_call_api\u001b[0m\u001b[0;34m(\u001b[0m\u001b[0mretry\u001b[0m\u001b[0;34m,\u001b[0m \u001b[0mmethod\u001b[0m\u001b[0;34m=\u001b[0m\u001b[0;34m\"POST\"\u001b[0m\u001b[0;34m,\u001b[0m \u001b[0mpath\u001b[0m\u001b[0;34m=\u001b[0m\u001b[0mpath\u001b[0m\u001b[0;34m,\u001b[0m \u001b[0mdata\u001b[0m\u001b[0;34m=\u001b[0m\u001b[0mdata\u001b[0m\u001b[0;34m)\u001b[0m\u001b[0;34m\u001b[0m\u001b[0;34m\u001b[0m\u001b[0m\n\u001b[0m\u001b[1;32m    466\u001b[0m             \u001b[0;32mreturn\u001b[0m \u001b[0mTable\u001b[0m\u001b[0;34m.\u001b[0m\u001b[0mfrom_api_repr\u001b[0m\u001b[0;34m(\u001b[0m\u001b[0mapi_response\u001b[0m\u001b[0;34m)\u001b[0m\u001b[0;34m\u001b[0m\u001b[0;34m\u001b[0m\u001b[0m\n",
            "\u001b[0;32m/usr/local/lib/python3.6/dist-packages/google/cloud/bigquery/client.py\u001b[0m in \u001b[0;36m_call_api\u001b[0;34m(self, retry, **kwargs)\u001b[0m\n\u001b[1;32m    475\u001b[0m             \u001b[0mcall\u001b[0m \u001b[0;34m=\u001b[0m \u001b[0mretry\u001b[0m\u001b[0;34m(\u001b[0m\u001b[0mcall\u001b[0m\u001b[0;34m)\u001b[0m\u001b[0;34m\u001b[0m\u001b[0;34m\u001b[0m\u001b[0m\n\u001b[0;32m--> 476\u001b[0;31m         \u001b[0;32mreturn\u001b[0m \u001b[0mcall\u001b[0m\u001b[0;34m(\u001b[0m\u001b[0;34m)\u001b[0m\u001b[0;34m\u001b[0m\u001b[0;34m\u001b[0m\u001b[0m\n\u001b[0m\u001b[1;32m    477\u001b[0m \u001b[0;34m\u001b[0m\u001b[0m\n",
            "\u001b[0;32m/usr/local/lib/python3.6/dist-packages/google/api_core/retry.py\u001b[0m in \u001b[0;36mretry_wrapped_func\u001b[0;34m(*args, **kwargs)\u001b[0m\n\u001b[1;32m    285\u001b[0m                 \u001b[0mself\u001b[0m\u001b[0;34m.\u001b[0m\u001b[0m_deadline\u001b[0m\u001b[0;34m,\u001b[0m\u001b[0;34m\u001b[0m\u001b[0;34m\u001b[0m\u001b[0m\n\u001b[0;32m--> 286\u001b[0;31m                 \u001b[0mon_error\u001b[0m\u001b[0;34m=\u001b[0m\u001b[0mon_error\u001b[0m\u001b[0;34m,\u001b[0m\u001b[0;34m\u001b[0m\u001b[0;34m\u001b[0m\u001b[0m\n\u001b[0m\u001b[1;32m    287\u001b[0m             )\n",
            "\u001b[0;32m/usr/local/lib/python3.6/dist-packages/google/api_core/retry.py\u001b[0m in \u001b[0;36mretry_target\u001b[0;34m(target, predicate, sleep_generator, deadline, on_error)\u001b[0m\n\u001b[1;32m    183\u001b[0m         \u001b[0;32mtry\u001b[0m\u001b[0;34m:\u001b[0m\u001b[0;34m\u001b[0m\u001b[0;34m\u001b[0m\u001b[0m\n\u001b[0;32m--> 184\u001b[0;31m             \u001b[0;32mreturn\u001b[0m \u001b[0mtarget\u001b[0m\u001b[0;34m(\u001b[0m\u001b[0;34m)\u001b[0m\u001b[0;34m\u001b[0m\u001b[0;34m\u001b[0m\u001b[0m\n\u001b[0m\u001b[1;32m    185\u001b[0m \u001b[0;34m\u001b[0m\u001b[0m\n",
            "\u001b[0;32m/usr/local/lib/python3.6/dist-packages/google/cloud/_http.py\u001b[0m in \u001b[0;36mapi_request\u001b[0;34m(self, method, path, query_params, data, content_type, headers, api_base_url, api_version, expect_json, _target_object)\u001b[0m\n\u001b[1;32m    392\u001b[0m         \u001b[0;32mif\u001b[0m \u001b[0;32mnot\u001b[0m \u001b[0;36m200\u001b[0m \u001b[0;34m<=\u001b[0m \u001b[0mresponse\u001b[0m\u001b[0;34m.\u001b[0m\u001b[0mstatus_code\u001b[0m \u001b[0;34m<\u001b[0m \u001b[0;36m300\u001b[0m\u001b[0;34m:\u001b[0m\u001b[0;34m\u001b[0m\u001b[0;34m\u001b[0m\u001b[0m\n\u001b[0;32m--> 393\u001b[0;31m             \u001b[0;32mraise\u001b[0m \u001b[0mexceptions\u001b[0m\u001b[0;34m.\u001b[0m\u001b[0mfrom_http_response\u001b[0m\u001b[0;34m(\u001b[0m\u001b[0mresponse\u001b[0m\u001b[0;34m)\u001b[0m\u001b[0;34m\u001b[0m\u001b[0;34m\u001b[0m\u001b[0m\n\u001b[0m\u001b[1;32m    394\u001b[0m \u001b[0;34m\u001b[0m\u001b[0m\n",
            "\u001b[0;31mBadRequest\u001b[0m: 400 POST https://bigquery.googleapis.com/bigquery/v2/projects/bigquerytutorial-274406/datasets/house_price/tables: Invalid field name \"1stFlrSF\". Fields must contain only letters, numbers, and underscores, start with a letter or underscore, and be at most 128 characters long.",
            "\nDuring handling of the above exception, another exception occurred:\n",
            "\u001b[0;31mGenericGBQException\u001b[0m                       Traceback (most recent call last)",
            "\u001b[0;32m<ipython-input-15-5909d2825dab>\u001b[0m in \u001b[0;36m<module>\u001b[0;34m()\u001b[0m\n\u001b[1;32m      1\u001b[0m train.to_gbq(destination_table='house_price.train', \n\u001b[1;32m      2\u001b[0m                   \u001b[0mproject_id\u001b[0m\u001b[0;34m=\u001b[0m\u001b[0;34m'bigquerytutorial-274406'\u001b[0m\u001b[0;34m,\u001b[0m\u001b[0;34m\u001b[0m\u001b[0;34m\u001b[0m\u001b[0m\n\u001b[0;32m----> 3\u001b[0;31m                   if_exists='replace')\n\u001b[0m",
            "\u001b[0;32m/usr/local/lib/python3.6/dist-packages/pandas/core/frame.py\u001b[0m in \u001b[0;36mto_gbq\u001b[0;34m(self, destination_table, project_id, chunksize, reauth, if_exists, auth_local_webserver, table_schema, location, progress_bar, credentials)\u001b[0m\n\u001b[1;32m   1544\u001b[0m             \u001b[0mlocation\u001b[0m\u001b[0;34m=\u001b[0m\u001b[0mlocation\u001b[0m\u001b[0;34m,\u001b[0m\u001b[0;34m\u001b[0m\u001b[0;34m\u001b[0m\u001b[0m\n\u001b[1;32m   1545\u001b[0m             \u001b[0mprogress_bar\u001b[0m\u001b[0;34m=\u001b[0m\u001b[0mprogress_bar\u001b[0m\u001b[0;34m,\u001b[0m\u001b[0;34m\u001b[0m\u001b[0;34m\u001b[0m\u001b[0m\n\u001b[0;32m-> 1546\u001b[0;31m             \u001b[0mcredentials\u001b[0m\u001b[0;34m=\u001b[0m\u001b[0mcredentials\u001b[0m\u001b[0;34m,\u001b[0m\u001b[0;34m\u001b[0m\u001b[0;34m\u001b[0m\u001b[0m\n\u001b[0m\u001b[1;32m   1547\u001b[0m         )\n\u001b[1;32m   1548\u001b[0m \u001b[0;34m\u001b[0m\u001b[0m\n",
            "\u001b[0;32m/usr/local/lib/python3.6/dist-packages/pandas/io/gbq.py\u001b[0m in \u001b[0;36mto_gbq\u001b[0;34m(dataframe, destination_table, project_id, chunksize, reauth, if_exists, auth_local_webserver, table_schema, location, progress_bar, credentials, verbose, private_key)\u001b[0m\n\u001b[1;32m    217\u001b[0m         \u001b[0mcredentials\u001b[0m\u001b[0;34m=\u001b[0m\u001b[0mcredentials\u001b[0m\u001b[0;34m,\u001b[0m\u001b[0;34m\u001b[0m\u001b[0;34m\u001b[0m\u001b[0m\n\u001b[1;32m    218\u001b[0m         \u001b[0mverbose\u001b[0m\u001b[0;34m=\u001b[0m\u001b[0mverbose\u001b[0m\u001b[0;34m,\u001b[0m\u001b[0;34m\u001b[0m\u001b[0;34m\u001b[0m\u001b[0m\n\u001b[0;32m--> 219\u001b[0;31m         \u001b[0mprivate_key\u001b[0m\u001b[0;34m=\u001b[0m\u001b[0mprivate_key\u001b[0m\u001b[0;34m,\u001b[0m\u001b[0;34m\u001b[0m\u001b[0;34m\u001b[0m\u001b[0m\n\u001b[0m\u001b[1;32m    220\u001b[0m     )\n",
            "\u001b[0;32m/usr/local/lib/python3.6/dist-packages/pandas_gbq/gbq.py\u001b[0m in \u001b[0;36mto_gbq\u001b[0;34m(dataframe, destination_table, project_id, chunksize, reauth, if_exists, auth_local_webserver, table_schema, location, progress_bar, credentials, verbose, private_key)\u001b[0m\n\u001b[1;32m   1177\u001b[0m         \u001b[0;32melif\u001b[0m \u001b[0mif_exists\u001b[0m \u001b[0;34m==\u001b[0m \u001b[0;34m\"replace\"\u001b[0m\u001b[0;34m:\u001b[0m\u001b[0;34m\u001b[0m\u001b[0;34m\u001b[0m\u001b[0m\n\u001b[1;32m   1178\u001b[0m             connector.delete_and_recreate_table(\n\u001b[0;32m-> 1179\u001b[0;31m                 \u001b[0mdataset_id\u001b[0m\u001b[0;34m,\u001b[0m \u001b[0mtable_id\u001b[0m\u001b[0;34m,\u001b[0m \u001b[0mtable_schema\u001b[0m\u001b[0;34m\u001b[0m\u001b[0;34m\u001b[0m\u001b[0m\n\u001b[0m\u001b[1;32m   1180\u001b[0m             )\n\u001b[1;32m   1181\u001b[0m         \u001b[0;32melif\u001b[0m \u001b[0mif_exists\u001b[0m \u001b[0;34m==\u001b[0m \u001b[0;34m\"append\"\u001b[0m\u001b[0;34m:\u001b[0m\u001b[0;34m\u001b[0m\u001b[0;34m\u001b[0m\u001b[0m\n",
            "\u001b[0;32m/usr/local/lib/python3.6/dist-packages/pandas_gbq/gbq.py\u001b[0m in \u001b[0;36mdelete_and_recreate_table\u001b[0;34m(self, dataset_id, table_id, table_schema)\u001b[0m\n\u001b[1;32m    690\u001b[0m         )\n\u001b[1;32m    691\u001b[0m         \u001b[0mtable\u001b[0m\u001b[0;34m.\u001b[0m\u001b[0mdelete\u001b[0m\u001b[0;34m(\u001b[0m\u001b[0mtable_id\u001b[0m\u001b[0;34m)\u001b[0m\u001b[0;34m\u001b[0m\u001b[0;34m\u001b[0m\u001b[0m\n\u001b[0;32m--> 692\u001b[0;31m         \u001b[0mtable\u001b[0m\u001b[0;34m.\u001b[0m\u001b[0mcreate\u001b[0m\u001b[0;34m(\u001b[0m\u001b[0mtable_id\u001b[0m\u001b[0;34m,\u001b[0m \u001b[0mtable_schema\u001b[0m\u001b[0;34m)\u001b[0m\u001b[0;34m\u001b[0m\u001b[0;34m\u001b[0m\u001b[0m\n\u001b[0m\u001b[1;32m    693\u001b[0m \u001b[0;34m\u001b[0m\u001b[0m\n\u001b[1;32m    694\u001b[0m \u001b[0;34m\u001b[0m\u001b[0m\n",
            "\u001b[0;32m/usr/local/lib/python3.6/dist-packages/pandas_gbq/gbq.py\u001b[0m in \u001b[0;36mcreate\u001b[0;34m(self, table_id, schema)\u001b[0m\n\u001b[1;32m   1324\u001b[0m             \u001b[0mself\u001b[0m\u001b[0;34m.\u001b[0m\u001b[0mclient\u001b[0m\u001b[0;34m.\u001b[0m\u001b[0mcreate_table\u001b[0m\u001b[0;34m(\u001b[0m\u001b[0mtable\u001b[0m\u001b[0;34m)\u001b[0m\u001b[0;34m\u001b[0m\u001b[0;34m\u001b[0m\u001b[0m\n\u001b[1;32m   1325\u001b[0m         \u001b[0;32mexcept\u001b[0m \u001b[0mself\u001b[0m\u001b[0;34m.\u001b[0m\u001b[0mhttp_error\u001b[0m \u001b[0;32mas\u001b[0m \u001b[0mex\u001b[0m\u001b[0;34m:\u001b[0m\u001b[0;34m\u001b[0m\u001b[0;34m\u001b[0m\u001b[0m\n\u001b[0;32m-> 1326\u001b[0;31m             \u001b[0mself\u001b[0m\u001b[0;34m.\u001b[0m\u001b[0mprocess_http_error\u001b[0m\u001b[0;34m(\u001b[0m\u001b[0mex\u001b[0m\u001b[0;34m)\u001b[0m\u001b[0;34m\u001b[0m\u001b[0;34m\u001b[0m\u001b[0m\n\u001b[0m\u001b[1;32m   1327\u001b[0m \u001b[0;34m\u001b[0m\u001b[0m\n\u001b[1;32m   1328\u001b[0m     \u001b[0;32mdef\u001b[0m \u001b[0mdelete\u001b[0m\u001b[0;34m(\u001b[0m\u001b[0mself\u001b[0m\u001b[0;34m,\u001b[0m \u001b[0mtable_id\u001b[0m\u001b[0;34m)\u001b[0m\u001b[0;34m:\u001b[0m\u001b[0;34m\u001b[0m\u001b[0;34m\u001b[0m\u001b[0m\n",
            "\u001b[0;32m/usr/local/lib/python3.6/dist-packages/pandas_gbq/gbq.py\u001b[0m in \u001b[0;36mprocess_http_error\u001b[0;34m(ex)\u001b[0m\n\u001b[1;32m    435\u001b[0m         \u001b[0;31m# <https://cloud.google.com/bigquery/troubleshooting-errors>`__\u001b[0m\u001b[0;34m\u001b[0m\u001b[0;34m\u001b[0m\u001b[0;34m\u001b[0m\u001b[0m\n\u001b[1;32m    436\u001b[0m \u001b[0;34m\u001b[0m\u001b[0m\n\u001b[0;32m--> 437\u001b[0;31m         \u001b[0;32mraise\u001b[0m \u001b[0mGenericGBQException\u001b[0m\u001b[0;34m(\u001b[0m\u001b[0;34m\"Reason: {0}\"\u001b[0m\u001b[0;34m.\u001b[0m\u001b[0mformat\u001b[0m\u001b[0;34m(\u001b[0m\u001b[0mex\u001b[0m\u001b[0;34m)\u001b[0m\u001b[0;34m)\u001b[0m\u001b[0;34m\u001b[0m\u001b[0;34m\u001b[0m\u001b[0m\n\u001b[0m\u001b[1;32m    438\u001b[0m \u001b[0;34m\u001b[0m\u001b[0m\n\u001b[1;32m    439\u001b[0m     \u001b[0;32mdef\u001b[0m \u001b[0mrun_query\u001b[0m\u001b[0;34m(\u001b[0m\u001b[0mself\u001b[0m\u001b[0;34m,\u001b[0m \u001b[0mquery\u001b[0m\u001b[0;34m,\u001b[0m \u001b[0;34m**\u001b[0m\u001b[0mkwargs\u001b[0m\u001b[0;34m)\u001b[0m\u001b[0;34m:\u001b[0m\u001b[0;34m\u001b[0m\u001b[0;34m\u001b[0m\u001b[0m\n",
            "\u001b[0;31mGenericGBQException\u001b[0m: Reason: 400 POST https://bigquery.googleapis.com/bigquery/v2/projects/bigquerytutorial-274406/datasets/house_price/tables: Invalid field name \"1stFlrSF\". Fields must contain only letters, numbers, and underscores, start with a letter or underscore, and be at most 128 characters long."
          ]
        }
      ]
    },
    {
      "cell_type": "markdown",
      "metadata": {
        "id": "r9KbZyAeZhBw",
        "colab_type": "text"
      },
      "source": [
        "- 빅쿼리에 데이터를 `Loading` 할 때는 첫번째 글짜가 숫자가 오면 안되기 때문에, column 명을 수정한다.\n",
        "  + 이 때, 각 숫자 앞에 `my`만 추가한다. "
      ]
    },
    {
      "cell_type": "code",
      "metadata": {
        "id": "-N7z5xGhZwtA",
        "colab_type": "code",
        "colab": {}
      },
      "source": [
        "colnames_dict = {\"1stFlrSF\": \"my1stFlrSF\", \"2ndFlrSF\": \"my2ndFlrSF\", \"3SsnPorch\": \"my3SsnPorch\"}"
      ],
      "execution_count": null,
      "outputs": []
    },
    {
      "cell_type": "code",
      "metadata": {
        "id": "leChaToswiHy",
        "colab_type": "code",
        "colab": {
          "base_uri": "https://localhost:8080/",
          "height": 36
        },
        "outputId": "772ba826-77a7-43a8-d2a2-8617f5cb7bad"
      },
      "source": [
        "# Connect to Google Cloud API and Upload DataFrame\n",
        "train = train.rename(columns=colnames_dict)\n",
        "train.to_gbq(destination_table='house_price.train', \n",
        "                  project_id='bigquerytutorial-274406', \n",
        "                  if_exists='replace')"
      ],
      "execution_count": null,
      "outputs": [
        {
          "output_type": "stream",
          "text": [
            "1it [00:09,  9.53s/it]\n"
          ],
          "name": "stderr"
        }
      ]
    },
    {
      "cell_type": "code",
      "metadata": {
        "id": "8dqdnCXzavxu",
        "colab_type": "code",
        "colab": {
          "base_uri": "https://localhost:8080/",
          "height": 34
        },
        "outputId": "ce2e4b4f-1bae-44a3-ee5a-3fe6de14a52a"
      },
      "source": [
        "# Connect to Google Cloud API and Upload DataFrame\n",
        "test = pd.read_csv('test.csv')\n",
        "test = test.rename(columns=colnames_dict)\n",
        "test.to_gbq(destination_table='house_price.test', \n",
        "            project_id='bigquerytutorial-274406', \n",
        "            if_exists='replace')"
      ],
      "execution_count": null,
      "outputs": [
        {
          "output_type": "stream",
          "text": [
            "1it [00:03,  3.25s/it]\n"
          ],
          "name": "stderr"
        }
      ]
    },
    {
      "cell_type": "markdown",
      "metadata": {
        "id": "ZhHQx1GSb4xL",
        "colab_type": "text"
      },
      "source": [
        "- 실제 데이터가 들어갔는지 빅쿼리에서 확인한다. "
      ]
    },
    {
      "cell_type": "markdown",
      "metadata": {
        "id": "hHkwLYyccKhf",
        "colab_type": "text"
      },
      "source": [
        "## II. 데이터 피처공학\n",
        "- 사이킷런 패키지는 기본적으로 결측치를 허용하지 않기 때문에, 반드시 확인 후, 처리해야 한다. \n",
        "- 이번에는 `BigQuery`를 통해 데이터를 불러온다. \n",
        "- 주요 데이터 추출을 위한 피처공학에 대해 배워본다. "
      ]
    },
    {
      "cell_type": "markdown",
      "metadata": {
        "id": "nYbpttSDywxm",
        "colab_type": "text"
      },
      "source": [
        "### (1) 주요 패키지 불러오기\n",
        "- 이제 주요 패키지를 불러온다."
      ]
    },
    {
      "cell_type": "code",
      "metadata": {
        "id": "Te4kW7LOy0N0",
        "colab_type": "code",
        "colab": {
          "base_uri": "https://localhost:8080/",
          "height": 53
        },
        "outputId": "3c411322-78af-4e57-c791-702346a4b058"
      },
      "source": [
        "import math\n",
        "import numpy as np\n",
        "import pandas as pd\n",
        "import matplotlib.pyplot as plt\n",
        "%matplotlib inline\n",
        "import seaborn as sns\n",
        "from scipy.stats import norm\n",
        "import lightgbm as lgb\n",
        "from sklearn.model_selection import train_test_split\n",
        "from sklearn.metrics import mean_squared_log_error\n",
        "from sklearn import preprocessing\n",
        "from sklearn.preprocessing import StandardScaler\n",
        "from sklearn.model_selection import cross_val_score, cross_val_predict"
      ],
      "execution_count": 6,
      "outputs": [
        {
          "output_type": "stream",
          "text": [
            "/usr/local/lib/python3.6/dist-packages/statsmodels/tools/_testing.py:19: FutureWarning: pandas.util.testing is deprecated. Use the functions in the public API at pandas.testing instead.\n",
            "  import pandas.util.testing as tm\n"
          ],
          "name": "stderr"
        }
      ]
    },
    {
      "cell_type": "markdown",
      "metadata": {
        "id": "6P-l7H_VwlCk",
        "colab_type": "text"
      },
      "source": [
        "### (2) 데이터 불러오기"
      ]
    },
    {
      "cell_type": "code",
      "metadata": {
        "id": "wNsu0US-cRWu",
        "colab_type": "code",
        "colab": {
          "base_uri": "https://localhost:8080/",
          "height": 35
        },
        "outputId": "e14ccd8b-09e6-4aae-ec44-caffc7c29de5"
      },
      "source": [
        "from google.colab import auth\n",
        "auth.authenticate_user()\n",
        "print('Authenticated')"
      ],
      "execution_count": 7,
      "outputs": [
        {
          "output_type": "stream",
          "text": [
            "Authenticated\n"
          ],
          "name": "stdout"
        }
      ]
    },
    {
      "cell_type": "code",
      "metadata": {
        "id": "5sq3vhRFWiLQ",
        "colab_type": "code",
        "colab": {}
      },
      "source": [
        "# 구글 인증 라이브러리\n",
        "from google.colab import auth\n",
        "\n",
        "# 빅쿼리 관련 라이브러리\n",
        "from google.cloud import bigquery\n",
        "from tabulate import tabulate\n",
        "import pandas as pd"
      ],
      "execution_count": 8,
      "outputs": []
    },
    {
      "cell_type": "markdown",
      "metadata": {
        "id": "NEXVzyZ2c8wZ",
        "colab_type": "text"
      },
      "source": [
        "- 먼저 훈련 데이터를 불러온다."
      ]
    },
    {
      "cell_type": "code",
      "metadata": {
        "id": "ZeRSdOEFc-Sg",
        "colab_type": "code",
        "colab": {
          "base_uri": "https://localhost:8080/",
          "height": 53
        },
        "outputId": "83b54d34-53e6-4a58-dccd-fcb181c98d76"
      },
      "source": [
        "from google.cloud import bigquery\n",
        "from tabulate import tabulate\n",
        "import pandas as pd\n",
        "\n",
        "project_id = 'bigquerytutorial2121'\n",
        "client = bigquery.Client(project=project_id)\n",
        "\n",
        "df_train = client.query('''\n",
        "  SELECT \n",
        "      * \n",
        "  FROM `bigquerytutorial2121.Boston_housing.train`\n",
        "  ''').to_dataframe()\n",
        "\n",
        "df_train.shape"
      ],
      "execution_count": 10,
      "outputs": [
        {
          "output_type": "stream",
          "text": [
            "WARNING:google.auth._default:No project ID could be determined. Consider running `gcloud config set project` or setting the GOOGLE_CLOUD_PROJECT environment variable\n"
          ],
          "name": "stderr"
        },
        {
          "output_type": "execute_result",
          "data": {
            "text/plain": [
              "(1460, 81)"
            ]
          },
          "metadata": {
            "tags": []
          },
          "execution_count": 10
        }
      ]
    },
    {
      "cell_type": "markdown",
      "metadata": {
        "id": "BBE3-N06dbyD",
        "colab_type": "text"
      },
      "source": [
        "- 그 다음은 테스트 데이터를 불러온다. "
      ]
    },
    {
      "cell_type": "code",
      "metadata": {
        "id": "_aBta7N6jJZ8",
        "colab_type": "code",
        "colab": {
          "base_uri": "https://localhost:8080/",
          "height": 35
        },
        "outputId": "c25f2347-bce7-44de-dab5-a33be338243d"
      },
      "source": [
        "df_test = client.query('''\n",
        "  SELECT \n",
        "      * \n",
        "  FROM `bigquerytutorial2121.Boston_housing.test`\n",
        "  ''').to_dataframe()\n",
        "\n",
        "df_test.shape"
      ],
      "execution_count": 11,
      "outputs": [
        {
          "output_type": "execute_result",
          "data": {
            "text/plain": [
              "(1459, 80)"
            ]
          },
          "metadata": {
            "tags": []
          },
          "execution_count": 11
        }
      ]
    },
    {
      "cell_type": "markdown",
      "metadata": {
        "id": "ZoXtWdq5xx1u",
        "colab_type": "text"
      },
      "source": [
        "- 아래 코드는 출력 시, 전체 `Column`에 대해 확인할 수 있음"
      ]
    },
    {
      "cell_type": "code",
      "metadata": {
        "id": "hAPmi_gxdhKZ",
        "colab_type": "code",
        "colab": {
          "base_uri": "https://localhost:8080/",
          "height": 317
        },
        "outputId": "6704e666-c2df-4d85-f163-be5a9ae44d04"
      },
      "source": [
        "pd.options.display.max_columns = None \n",
        "df_train.describe()"
      ],
      "execution_count": 12,
      "outputs": [
        {
          "output_type": "execute_result",
          "data": {
            "text/html": [
              "<div>\n",
              "<style scoped>\n",
              "    .dataframe tbody tr th:only-of-type {\n",
              "        vertical-align: middle;\n",
              "    }\n",
              "\n",
              "    .dataframe tbody tr th {\n",
              "        vertical-align: top;\n",
              "    }\n",
              "\n",
              "    .dataframe thead th {\n",
              "        text-align: right;\n",
              "    }\n",
              "</style>\n",
              "<table border=\"1\" class=\"dataframe\">\n",
              "  <thead>\n",
              "    <tr style=\"text-align: right;\">\n",
              "      <th></th>\n",
              "      <th>Id</th>\n",
              "      <th>MSSubClass</th>\n",
              "      <th>LotFrontage</th>\n",
              "      <th>LotArea</th>\n",
              "      <th>OverallQual</th>\n",
              "      <th>OverallCond</th>\n",
              "      <th>YearBuilt</th>\n",
              "      <th>YearRemodAdd</th>\n",
              "      <th>MasVnrArea</th>\n",
              "      <th>BsmtFinSF1</th>\n",
              "      <th>BsmtFinSF2</th>\n",
              "      <th>BsmtUnfSF</th>\n",
              "      <th>TotalBsmtSF</th>\n",
              "      <th>my1stFlrSF</th>\n",
              "      <th>my2ndFlrSF</th>\n",
              "      <th>LowQualFinSF</th>\n",
              "      <th>GrLivArea</th>\n",
              "      <th>BsmtFullBath</th>\n",
              "      <th>BsmtHalfBath</th>\n",
              "      <th>FullBath</th>\n",
              "      <th>HalfBath</th>\n",
              "      <th>BedroomAbvGr</th>\n",
              "      <th>KitchenAbvGr</th>\n",
              "      <th>TotRmsAbvGrd</th>\n",
              "      <th>Fireplaces</th>\n",
              "      <th>GarageYrBlt</th>\n",
              "      <th>GarageCars</th>\n",
              "      <th>GarageArea</th>\n",
              "      <th>WoodDeckSF</th>\n",
              "      <th>OpenPorchSF</th>\n",
              "      <th>EnclosedPorch</th>\n",
              "      <th>my3SsnPorch</th>\n",
              "      <th>ScreenPorch</th>\n",
              "      <th>PoolArea</th>\n",
              "      <th>MiscVal</th>\n",
              "      <th>MoSold</th>\n",
              "      <th>YrSold</th>\n",
              "      <th>SalePrice</th>\n",
              "    </tr>\n",
              "  </thead>\n",
              "  <tbody>\n",
              "    <tr>\n",
              "      <th>count</th>\n",
              "      <td>1460.000000</td>\n",
              "      <td>1460.000000</td>\n",
              "      <td>1201.000000</td>\n",
              "      <td>1460.000000</td>\n",
              "      <td>1460.000000</td>\n",
              "      <td>1460.000000</td>\n",
              "      <td>1460.000000</td>\n",
              "      <td>1460.000000</td>\n",
              "      <td>1452.000000</td>\n",
              "      <td>1460.000000</td>\n",
              "      <td>1460.000000</td>\n",
              "      <td>1460.000000</td>\n",
              "      <td>1460.000000</td>\n",
              "      <td>1460.000000</td>\n",
              "      <td>1460.000000</td>\n",
              "      <td>1460.000000</td>\n",
              "      <td>1460.000000</td>\n",
              "      <td>1460.000000</td>\n",
              "      <td>1460.000000</td>\n",
              "      <td>1460.000000</td>\n",
              "      <td>1460.000000</td>\n",
              "      <td>1460.000000</td>\n",
              "      <td>1460.000000</td>\n",
              "      <td>1460.000000</td>\n",
              "      <td>1460.000000</td>\n",
              "      <td>1379.000000</td>\n",
              "      <td>1460.000000</td>\n",
              "      <td>1460.000000</td>\n",
              "      <td>1460.000000</td>\n",
              "      <td>1460.000000</td>\n",
              "      <td>1460.000000</td>\n",
              "      <td>1460.000000</td>\n",
              "      <td>1460.000000</td>\n",
              "      <td>1460.000000</td>\n",
              "      <td>1460.000000</td>\n",
              "      <td>1460.000000</td>\n",
              "      <td>1460.000000</td>\n",
              "      <td>1460.000000</td>\n",
              "    </tr>\n",
              "    <tr>\n",
              "      <th>mean</th>\n",
              "      <td>730.500000</td>\n",
              "      <td>56.897260</td>\n",
              "      <td>70.049958</td>\n",
              "      <td>10516.828082</td>\n",
              "      <td>6.099315</td>\n",
              "      <td>5.575342</td>\n",
              "      <td>1971.267808</td>\n",
              "      <td>1984.865753</td>\n",
              "      <td>103.685262</td>\n",
              "      <td>443.639726</td>\n",
              "      <td>46.549315</td>\n",
              "      <td>567.240411</td>\n",
              "      <td>1057.429452</td>\n",
              "      <td>1162.626712</td>\n",
              "      <td>346.992466</td>\n",
              "      <td>5.844521</td>\n",
              "      <td>1515.463699</td>\n",
              "      <td>0.425342</td>\n",
              "      <td>0.057534</td>\n",
              "      <td>1.565068</td>\n",
              "      <td>0.382877</td>\n",
              "      <td>2.866438</td>\n",
              "      <td>1.046575</td>\n",
              "      <td>6.517808</td>\n",
              "      <td>0.613014</td>\n",
              "      <td>1978.506164</td>\n",
              "      <td>1.767123</td>\n",
              "      <td>472.980137</td>\n",
              "      <td>94.244521</td>\n",
              "      <td>46.660274</td>\n",
              "      <td>21.954110</td>\n",
              "      <td>3.409589</td>\n",
              "      <td>15.060959</td>\n",
              "      <td>2.758904</td>\n",
              "      <td>43.489041</td>\n",
              "      <td>6.321918</td>\n",
              "      <td>2007.815753</td>\n",
              "      <td>180921.195890</td>\n",
              "    </tr>\n",
              "    <tr>\n",
              "      <th>std</th>\n",
              "      <td>421.610009</td>\n",
              "      <td>42.300571</td>\n",
              "      <td>24.284752</td>\n",
              "      <td>9981.264932</td>\n",
              "      <td>1.382997</td>\n",
              "      <td>1.112799</td>\n",
              "      <td>30.202904</td>\n",
              "      <td>20.645407</td>\n",
              "      <td>181.066207</td>\n",
              "      <td>456.098091</td>\n",
              "      <td>161.319273</td>\n",
              "      <td>441.866955</td>\n",
              "      <td>438.705324</td>\n",
              "      <td>386.587738</td>\n",
              "      <td>436.528436</td>\n",
              "      <td>48.623081</td>\n",
              "      <td>525.480383</td>\n",
              "      <td>0.518911</td>\n",
              "      <td>0.238753</td>\n",
              "      <td>0.550916</td>\n",
              "      <td>0.502885</td>\n",
              "      <td>0.815778</td>\n",
              "      <td>0.220338</td>\n",
              "      <td>1.625393</td>\n",
              "      <td>0.644666</td>\n",
              "      <td>24.689725</td>\n",
              "      <td>0.747315</td>\n",
              "      <td>213.804841</td>\n",
              "      <td>125.338794</td>\n",
              "      <td>66.256028</td>\n",
              "      <td>61.119149</td>\n",
              "      <td>29.317331</td>\n",
              "      <td>55.757415</td>\n",
              "      <td>40.177307</td>\n",
              "      <td>496.123024</td>\n",
              "      <td>2.703626</td>\n",
              "      <td>1.328095</td>\n",
              "      <td>79442.502883</td>\n",
              "    </tr>\n",
              "    <tr>\n",
              "      <th>min</th>\n",
              "      <td>1.000000</td>\n",
              "      <td>20.000000</td>\n",
              "      <td>21.000000</td>\n",
              "      <td>1300.000000</td>\n",
              "      <td>1.000000</td>\n",
              "      <td>1.000000</td>\n",
              "      <td>1872.000000</td>\n",
              "      <td>1950.000000</td>\n",
              "      <td>0.000000</td>\n",
              "      <td>0.000000</td>\n",
              "      <td>0.000000</td>\n",
              "      <td>0.000000</td>\n",
              "      <td>0.000000</td>\n",
              "      <td>334.000000</td>\n",
              "      <td>0.000000</td>\n",
              "      <td>0.000000</td>\n",
              "      <td>334.000000</td>\n",
              "      <td>0.000000</td>\n",
              "      <td>0.000000</td>\n",
              "      <td>0.000000</td>\n",
              "      <td>0.000000</td>\n",
              "      <td>0.000000</td>\n",
              "      <td>0.000000</td>\n",
              "      <td>2.000000</td>\n",
              "      <td>0.000000</td>\n",
              "      <td>1900.000000</td>\n",
              "      <td>0.000000</td>\n",
              "      <td>0.000000</td>\n",
              "      <td>0.000000</td>\n",
              "      <td>0.000000</td>\n",
              "      <td>0.000000</td>\n",
              "      <td>0.000000</td>\n",
              "      <td>0.000000</td>\n",
              "      <td>0.000000</td>\n",
              "      <td>0.000000</td>\n",
              "      <td>1.000000</td>\n",
              "      <td>2006.000000</td>\n",
              "      <td>34900.000000</td>\n",
              "    </tr>\n",
              "    <tr>\n",
              "      <th>25%</th>\n",
              "      <td>365.750000</td>\n",
              "      <td>20.000000</td>\n",
              "      <td>59.000000</td>\n",
              "      <td>7553.500000</td>\n",
              "      <td>5.000000</td>\n",
              "      <td>5.000000</td>\n",
              "      <td>1954.000000</td>\n",
              "      <td>1967.000000</td>\n",
              "      <td>0.000000</td>\n",
              "      <td>0.000000</td>\n",
              "      <td>0.000000</td>\n",
              "      <td>223.000000</td>\n",
              "      <td>795.750000</td>\n",
              "      <td>882.000000</td>\n",
              "      <td>0.000000</td>\n",
              "      <td>0.000000</td>\n",
              "      <td>1129.500000</td>\n",
              "      <td>0.000000</td>\n",
              "      <td>0.000000</td>\n",
              "      <td>1.000000</td>\n",
              "      <td>0.000000</td>\n",
              "      <td>2.000000</td>\n",
              "      <td>1.000000</td>\n",
              "      <td>5.000000</td>\n",
              "      <td>0.000000</td>\n",
              "      <td>1961.000000</td>\n",
              "      <td>1.000000</td>\n",
              "      <td>334.500000</td>\n",
              "      <td>0.000000</td>\n",
              "      <td>0.000000</td>\n",
              "      <td>0.000000</td>\n",
              "      <td>0.000000</td>\n",
              "      <td>0.000000</td>\n",
              "      <td>0.000000</td>\n",
              "      <td>0.000000</td>\n",
              "      <td>5.000000</td>\n",
              "      <td>2007.000000</td>\n",
              "      <td>129975.000000</td>\n",
              "    </tr>\n",
              "    <tr>\n",
              "      <th>50%</th>\n",
              "      <td>730.500000</td>\n",
              "      <td>50.000000</td>\n",
              "      <td>69.000000</td>\n",
              "      <td>9478.500000</td>\n",
              "      <td>6.000000</td>\n",
              "      <td>5.000000</td>\n",
              "      <td>1973.000000</td>\n",
              "      <td>1994.000000</td>\n",
              "      <td>0.000000</td>\n",
              "      <td>383.500000</td>\n",
              "      <td>0.000000</td>\n",
              "      <td>477.500000</td>\n",
              "      <td>991.500000</td>\n",
              "      <td>1087.000000</td>\n",
              "      <td>0.000000</td>\n",
              "      <td>0.000000</td>\n",
              "      <td>1464.000000</td>\n",
              "      <td>0.000000</td>\n",
              "      <td>0.000000</td>\n",
              "      <td>2.000000</td>\n",
              "      <td>0.000000</td>\n",
              "      <td>3.000000</td>\n",
              "      <td>1.000000</td>\n",
              "      <td>6.000000</td>\n",
              "      <td>1.000000</td>\n",
              "      <td>1980.000000</td>\n",
              "      <td>2.000000</td>\n",
              "      <td>480.000000</td>\n",
              "      <td>0.000000</td>\n",
              "      <td>25.000000</td>\n",
              "      <td>0.000000</td>\n",
              "      <td>0.000000</td>\n",
              "      <td>0.000000</td>\n",
              "      <td>0.000000</td>\n",
              "      <td>0.000000</td>\n",
              "      <td>6.000000</td>\n",
              "      <td>2008.000000</td>\n",
              "      <td>163000.000000</td>\n",
              "    </tr>\n",
              "    <tr>\n",
              "      <th>75%</th>\n",
              "      <td>1095.250000</td>\n",
              "      <td>70.000000</td>\n",
              "      <td>80.000000</td>\n",
              "      <td>11601.500000</td>\n",
              "      <td>7.000000</td>\n",
              "      <td>6.000000</td>\n",
              "      <td>2000.000000</td>\n",
              "      <td>2004.000000</td>\n",
              "      <td>166.000000</td>\n",
              "      <td>712.250000</td>\n",
              "      <td>0.000000</td>\n",
              "      <td>808.000000</td>\n",
              "      <td>1298.250000</td>\n",
              "      <td>1391.250000</td>\n",
              "      <td>728.000000</td>\n",
              "      <td>0.000000</td>\n",
              "      <td>1776.750000</td>\n",
              "      <td>1.000000</td>\n",
              "      <td>0.000000</td>\n",
              "      <td>2.000000</td>\n",
              "      <td>1.000000</td>\n",
              "      <td>3.000000</td>\n",
              "      <td>1.000000</td>\n",
              "      <td>7.000000</td>\n",
              "      <td>1.000000</td>\n",
              "      <td>2002.000000</td>\n",
              "      <td>2.000000</td>\n",
              "      <td>576.000000</td>\n",
              "      <td>168.000000</td>\n",
              "      <td>68.000000</td>\n",
              "      <td>0.000000</td>\n",
              "      <td>0.000000</td>\n",
              "      <td>0.000000</td>\n",
              "      <td>0.000000</td>\n",
              "      <td>0.000000</td>\n",
              "      <td>8.000000</td>\n",
              "      <td>2009.000000</td>\n",
              "      <td>214000.000000</td>\n",
              "    </tr>\n",
              "    <tr>\n",
              "      <th>max</th>\n",
              "      <td>1460.000000</td>\n",
              "      <td>190.000000</td>\n",
              "      <td>313.000000</td>\n",
              "      <td>215245.000000</td>\n",
              "      <td>10.000000</td>\n",
              "      <td>9.000000</td>\n",
              "      <td>2010.000000</td>\n",
              "      <td>2010.000000</td>\n",
              "      <td>1600.000000</td>\n",
              "      <td>5644.000000</td>\n",
              "      <td>1474.000000</td>\n",
              "      <td>2336.000000</td>\n",
              "      <td>6110.000000</td>\n",
              "      <td>4692.000000</td>\n",
              "      <td>2065.000000</td>\n",
              "      <td>572.000000</td>\n",
              "      <td>5642.000000</td>\n",
              "      <td>3.000000</td>\n",
              "      <td>2.000000</td>\n",
              "      <td>3.000000</td>\n",
              "      <td>2.000000</td>\n",
              "      <td>8.000000</td>\n",
              "      <td>3.000000</td>\n",
              "      <td>14.000000</td>\n",
              "      <td>3.000000</td>\n",
              "      <td>2010.000000</td>\n",
              "      <td>4.000000</td>\n",
              "      <td>1418.000000</td>\n",
              "      <td>857.000000</td>\n",
              "      <td>547.000000</td>\n",
              "      <td>552.000000</td>\n",
              "      <td>508.000000</td>\n",
              "      <td>480.000000</td>\n",
              "      <td>738.000000</td>\n",
              "      <td>15500.000000</td>\n",
              "      <td>12.000000</td>\n",
              "      <td>2010.000000</td>\n",
              "      <td>755000.000000</td>\n",
              "    </tr>\n",
              "  </tbody>\n",
              "</table>\n",
              "</div>"
            ],
            "text/plain": [
              "                Id   MSSubClass  LotFrontage        LotArea  OverallQual  \\\n",
              "count  1460.000000  1460.000000  1201.000000    1460.000000  1460.000000   \n",
              "mean    730.500000    56.897260    70.049958   10516.828082     6.099315   \n",
              "std     421.610009    42.300571    24.284752    9981.264932     1.382997   \n",
              "min       1.000000    20.000000    21.000000    1300.000000     1.000000   \n",
              "25%     365.750000    20.000000    59.000000    7553.500000     5.000000   \n",
              "50%     730.500000    50.000000    69.000000    9478.500000     6.000000   \n",
              "75%    1095.250000    70.000000    80.000000   11601.500000     7.000000   \n",
              "max    1460.000000   190.000000   313.000000  215245.000000    10.000000   \n",
              "\n",
              "       OverallCond    YearBuilt  YearRemodAdd   MasVnrArea   BsmtFinSF1  \\\n",
              "count  1460.000000  1460.000000   1460.000000  1452.000000  1460.000000   \n",
              "mean      5.575342  1971.267808   1984.865753   103.685262   443.639726   \n",
              "std       1.112799    30.202904     20.645407   181.066207   456.098091   \n",
              "min       1.000000  1872.000000   1950.000000     0.000000     0.000000   \n",
              "25%       5.000000  1954.000000   1967.000000     0.000000     0.000000   \n",
              "50%       5.000000  1973.000000   1994.000000     0.000000   383.500000   \n",
              "75%       6.000000  2000.000000   2004.000000   166.000000   712.250000   \n",
              "max       9.000000  2010.000000   2010.000000  1600.000000  5644.000000   \n",
              "\n",
              "        BsmtFinSF2    BsmtUnfSF  TotalBsmtSF   my1stFlrSF   my2ndFlrSF  \\\n",
              "count  1460.000000  1460.000000  1460.000000  1460.000000  1460.000000   \n",
              "mean     46.549315   567.240411  1057.429452  1162.626712   346.992466   \n",
              "std     161.319273   441.866955   438.705324   386.587738   436.528436   \n",
              "min       0.000000     0.000000     0.000000   334.000000     0.000000   \n",
              "25%       0.000000   223.000000   795.750000   882.000000     0.000000   \n",
              "50%       0.000000   477.500000   991.500000  1087.000000     0.000000   \n",
              "75%       0.000000   808.000000  1298.250000  1391.250000   728.000000   \n",
              "max    1474.000000  2336.000000  6110.000000  4692.000000  2065.000000   \n",
              "\n",
              "       LowQualFinSF    GrLivArea  BsmtFullBath  BsmtHalfBath     FullBath  \\\n",
              "count   1460.000000  1460.000000   1460.000000   1460.000000  1460.000000   \n",
              "mean       5.844521  1515.463699      0.425342      0.057534     1.565068   \n",
              "std       48.623081   525.480383      0.518911      0.238753     0.550916   \n",
              "min        0.000000   334.000000      0.000000      0.000000     0.000000   \n",
              "25%        0.000000  1129.500000      0.000000      0.000000     1.000000   \n",
              "50%        0.000000  1464.000000      0.000000      0.000000     2.000000   \n",
              "75%        0.000000  1776.750000      1.000000      0.000000     2.000000   \n",
              "max      572.000000  5642.000000      3.000000      2.000000     3.000000   \n",
              "\n",
              "          HalfBath  BedroomAbvGr  KitchenAbvGr  TotRmsAbvGrd   Fireplaces  \\\n",
              "count  1460.000000   1460.000000   1460.000000   1460.000000  1460.000000   \n",
              "mean      0.382877      2.866438      1.046575      6.517808     0.613014   \n",
              "std       0.502885      0.815778      0.220338      1.625393     0.644666   \n",
              "min       0.000000      0.000000      0.000000      2.000000     0.000000   \n",
              "25%       0.000000      2.000000      1.000000      5.000000     0.000000   \n",
              "50%       0.000000      3.000000      1.000000      6.000000     1.000000   \n",
              "75%       1.000000      3.000000      1.000000      7.000000     1.000000   \n",
              "max       2.000000      8.000000      3.000000     14.000000     3.000000   \n",
              "\n",
              "       GarageYrBlt   GarageCars   GarageArea   WoodDeckSF  OpenPorchSF  \\\n",
              "count  1379.000000  1460.000000  1460.000000  1460.000000  1460.000000   \n",
              "mean   1978.506164     1.767123   472.980137    94.244521    46.660274   \n",
              "std      24.689725     0.747315   213.804841   125.338794    66.256028   \n",
              "min    1900.000000     0.000000     0.000000     0.000000     0.000000   \n",
              "25%    1961.000000     1.000000   334.500000     0.000000     0.000000   \n",
              "50%    1980.000000     2.000000   480.000000     0.000000    25.000000   \n",
              "75%    2002.000000     2.000000   576.000000   168.000000    68.000000   \n",
              "max    2010.000000     4.000000  1418.000000   857.000000   547.000000   \n",
              "\n",
              "       EnclosedPorch  my3SsnPorch  ScreenPorch     PoolArea       MiscVal  \\\n",
              "count    1460.000000  1460.000000  1460.000000  1460.000000   1460.000000   \n",
              "mean       21.954110     3.409589    15.060959     2.758904     43.489041   \n",
              "std        61.119149    29.317331    55.757415    40.177307    496.123024   \n",
              "min         0.000000     0.000000     0.000000     0.000000      0.000000   \n",
              "25%         0.000000     0.000000     0.000000     0.000000      0.000000   \n",
              "50%         0.000000     0.000000     0.000000     0.000000      0.000000   \n",
              "75%         0.000000     0.000000     0.000000     0.000000      0.000000   \n",
              "max       552.000000   508.000000   480.000000   738.000000  15500.000000   \n",
              "\n",
              "            MoSold       YrSold      SalePrice  \n",
              "count  1460.000000  1460.000000    1460.000000  \n",
              "mean      6.321918  2007.815753  180921.195890  \n",
              "std       2.703626     1.328095   79442.502883  \n",
              "min       1.000000  2006.000000   34900.000000  \n",
              "25%       5.000000  2007.000000  129975.000000  \n",
              "50%       6.000000  2008.000000  163000.000000  \n",
              "75%       8.000000  2009.000000  214000.000000  \n",
              "max      12.000000  2010.000000  755000.000000  "
            ]
          },
          "metadata": {
            "tags": []
          },
          "execution_count": 12
        }
      ]
    },
    {
      "cell_type": "markdown",
      "metadata": {
        "id": "chAeurKVwn2W",
        "colab_type": "text"
      },
      "source": [
        "### (3) 결측 데이터 확인"
      ]
    },
    {
      "cell_type": "code",
      "metadata": {
        "id": "kRCA5FTcd_xP",
        "colab_type": "code",
        "colab": {
          "base_uri": "https://localhost:8080/",
          "height": 377
        },
        "outputId": "7ad9d7a9-35cc-43bc-c1e4-c956a331905c"
      },
      "source": [
        "# data set의 Percent 구하는 함수를 짜보자. \n",
        "def check_fill_na(data):\n",
        "  new_df = data.copy()\n",
        "  new_df_na = (new_df.isnull().sum() / len(new_df)) * 100\n",
        "  new_df_na.sort_values(ascending=False).reset_index(drop=True)\n",
        "  new_df_na = new_df_na.drop(new_df_na[new_df_na == 0].index).sort_values(ascending=False)\n",
        "  return new_df_na\n",
        "\n",
        "check_fill_na(df_train)"
      ],
      "execution_count": 13,
      "outputs": [
        {
          "output_type": "execute_result",
          "data": {
            "text/plain": [
              "PoolQC          99.520548\n",
              "MiscFeature     96.301370\n",
              "Alley           93.767123\n",
              "Fence           80.753425\n",
              "FireplaceQu     47.260274\n",
              "LotFrontage     17.739726\n",
              "GarageYrBlt      5.547945\n",
              "GarageType       5.547945\n",
              "GarageFinish     5.547945\n",
              "GarageQual       5.547945\n",
              "GarageCond       5.547945\n",
              "BsmtFinType2     2.602740\n",
              "BsmtExposure     2.602740\n",
              "BsmtFinType1     2.534247\n",
              "BsmtCond         2.534247\n",
              "BsmtQual         2.534247\n",
              "MasVnrArea       0.547945\n",
              "MasVnrType       0.547945\n",
              "Electrical       0.068493\n",
              "dtype: float64"
            ]
          },
          "metadata": {
            "tags": []
          },
          "execution_count": 13
        }
      ]
    },
    {
      "cell_type": "markdown",
      "metadata": {
        "id": "eFEZ2-twwAV9",
        "colab_type": "text"
      },
      "source": [
        "### (4) 주요 함수 정의\n",
        "- 수치형과 범주형 데이터 결측치의 보간에 관한 함수를 정의한다. \n"
      ]
    },
    {
      "cell_type": "code",
      "metadata": {
        "id": "6yjS3lP3yG0L",
        "colab_type": "code",
        "colab": {}
      },
      "source": [
        "def fill_missing(df, cols, val):\n",
        "    \"\"\" val 입력값을 넣는다. \"\"\"\n",
        "    for col in cols:\n",
        "        df[col] = df[col].fillna(val)\n",
        "\n",
        "def fill_missing_with_mode(df, cols):\n",
        "    \"\"\" 최대 빈도수를 넣는다. \"\"\"\n",
        "    for col in cols:\n",
        "        df[col] = df[col].fillna(df[col].mode()[0])\n",
        "        \n",
        "def addlogs(res, cols):\n",
        "    \"\"\" 로그 변환 \"\"\"\n",
        "    m = res.shape[1]\n",
        "    for c in cols:\n",
        "        res = res.assign(newcol=pd.Series(np.log(1.01+res[c])).values)   \n",
        "        res.columns.values[m] = c + '_log'\n",
        "        m += 1\n",
        "    return res"
      ],
      "execution_count": 14,
      "outputs": []
    },
    {
      "cell_type": "markdown",
      "metadata": {
        "id": "xqz43lTRyO64",
        "colab_type": "text"
      },
      "source": [
        "- 1층, 2층, 3층의 면적을 합친 `전체 total`을 구해본다."
      ]
    },
    {
      "cell_type": "markdown",
      "metadata": {
        "id": "0WPX-mdEzicJ",
        "colab_type": "text"
      },
      "source": [
        "### (5) 전체 면적 데이터 추가\n",
        "- 가정의 전체 면적을 더해서 추가 변수를 만든다."
      ]
    },
    {
      "cell_type": "code",
      "metadata": {
        "id": "QugrBrZ0yXS_",
        "colab_type": "code",
        "colab": {}
      },
      "source": [
        "df_train['TotalSF'] = df_train['TotalBsmtSF'] + df_train['my1stFlrSF'] + df_train['my2ndFlrSF']"
      ],
      "execution_count": 15,
      "outputs": []
    },
    {
      "cell_type": "markdown",
      "metadata": {
        "id": "Vg2t9xKzyfwh",
        "colab_type": "text"
      },
      "source": [
        "- 전체 수치형 데이터에 `log transformation`을 해준다."
      ]
    },
    {
      "cell_type": "code",
      "metadata": {
        "id": "Gf2S6gMgylPA",
        "colab_type": "code",
        "colab": {}
      },
      "source": [
        "loglist = ['LotFrontage','LotArea','MasVnrArea','BsmtFinSF1','BsmtFinSF2','BsmtUnfSF',\n",
        "            'TotalBsmtSF','my1stFlrSF','my2ndFlrSF','LowQualFinSF','GrLivArea',\n",
        "            'BsmtFullBath','BsmtHalfBath','FullBath','HalfBath','BedroomAbvGr','KitchenAbvGr',\n",
        "            'TotRmsAbvGrd','Fireplaces','GarageCars','GarageArea','WoodDeckSF','OpenPorchSF',\n",
        "            'EnclosedPorch','my3SsnPorch','ScreenPorch','PoolArea','MiscVal','YearRemodAdd','TotalSF']\n",
        "\n",
        "df_train = addlogs(df_train, loglist)"
      ],
      "execution_count": 16,
      "outputs": []
    },
    {
      "cell_type": "markdown",
      "metadata": {
        "id": "Ax9QA9_pzHyI",
        "colab_type": "text"
      },
      "source": [
        "### (6) 타겟변수 로그변환\n",
        "- 데이터가 작기 때문에, 모형의 안정성을 위해 로그변환을 해준다. \n",
        "\n",
        "\n"
      ]
    },
    {
      "cell_type": "code",
      "metadata": {
        "id": "zyOHPg3e0xrB",
        "colab_type": "code",
        "colab": {}
      },
      "source": [
        "df_train[\"SalePrice\"] = np.log1p(df_train[\"SalePrice\"])"
      ],
      "execution_count": 17,
      "outputs": []
    },
    {
      "cell_type": "markdown",
      "metadata": {
        "id": "Suu9QMks1DEa",
        "colab_type": "text"
      },
      "source": [
        "### (7) 결측치 데이터 보간\n",
        "- 결측치 데이터를 보간한다. "
      ]
    },
    {
      "cell_type": "code",
      "metadata": {
        "id": "-e7fPowI1H5S",
        "colab_type": "code",
        "colab": {}
      },
      "source": [
        "# 우선, 결측치가 있는 것 중, 범주형 데이터는 \"None\"으로 확인\n",
        "fill_missing(df_train, [\"PoolQC\", \"MiscFeature\", \"Alley\", \"Fence\", \"FireplaceQu\", \n",
        "                        \"GarageType\", \"GarageFinish\", \"GarageQual\", \"GarageCond\",\n",
        "                       'BsmtQual', 'BsmtCond', 'BsmtExposure', 'BsmtFinType1', 'BsmtFinType2',\n",
        "                       \"MasVnrType\", \"MSSubClass\"], \"None\") \n",
        "\n",
        "# 수치형 데이터는 0으로 보간\n",
        "fill_missing(df_train, [\"GarageYrBlt\", \"GarageArea\", \"GarageCars\",\n",
        "                       'BsmtFinSF1', 'BsmtFinSF2', 'BsmtUnfSF','TotalBsmtSF', 'BsmtFullBath', 'BsmtHalfBath',\n",
        "                       \"MasVnrArea\"], 0)\n",
        "# 그 중, 일부는 빈도수로 채워 넣는다.  \n",
        "fill_missing_with_mode(df_train, [\"MSZoning\", \"KitchenQual\", \"Exterior1st\", \"Exterior2nd\", \"SaleType\"])\n",
        "fill_missing(df_train, [\"Functional\"],\"Typ\")"
      ],
      "execution_count": 18,
      "outputs": []
    },
    {
      "cell_type": "markdown",
      "metadata": {
        "id": "MsxXCEEN14c6",
        "colab_type": "text"
      },
      "source": [
        "### (8) 변수 삭제\n",
        "- 1개의 값만 존재하는 데이터는 삭제한다. "
      ]
    },
    {
      "cell_type": "code",
      "metadata": {
        "id": "yTyE1Ht515dc",
        "colab_type": "code",
        "colab": {}
      },
      "source": [
        "df_train.drop(['Utilities'], axis=1, inplace=True)"
      ],
      "execution_count": 19,
      "outputs": []
    },
    {
      "cell_type": "markdown",
      "metadata": {
        "id": "A_G9-cBn2TZ-",
        "colab_type": "text"
      },
      "source": [
        "### (9) 이상치 제거\n",
        "- 적은 데이터에서 상위 또는 하위 이상치가 발생하는 것은 좋지 않다. 따라서, 해당 관측치는 제거한다. "
      ]
    },
    {
      "cell_type": "code",
      "metadata": {
        "id": "oRBfQz9z2Uit",
        "colab_type": "code",
        "colab": {}
      },
      "source": [
        "df_train.drop(df_train[(df_train['OverallQual']<5) & (df_train['SalePrice']>200000)].index, inplace=True)\n",
        "df_train.drop(df_train[(df_train['GrLivArea']>4000) & (df_train['SalePrice']<300000)].index, inplace=True)\n",
        "df_train.reset_index(drop=True, inplace=True)"
      ],
      "execution_count": 20,
      "outputs": []
    },
    {
      "cell_type": "markdown",
      "metadata": {
        "id": "I7t4jFi82r1F",
        "colab_type": "text"
      },
      "source": [
        "### (10) 재범주화\n",
        "- 몇몇 수치형 데이터는 사실 범주형 데이터에 가깝다. \n",
        "- 따라서, 이를 문자형으로 바꾼다. \n",
        "\n",
        "### 1. 아이디어\n",
        "-> 범주형의 수준이 너무 많아서, 수준을 줄이고 싶음\n",
        "\n",
        "ex. 서울,경기,인천---> 수도권     : 서울,경기,인천 in 시도 == True 수도권\n",
        "\n",
        "-> 만든 코드를 일반화하기 위해 함수화 할 것. "
      ]
    },
    {
      "cell_type": "code",
      "metadata": {
        "id": "vUNUvLI5204X",
        "colab_type": "code",
        "colab": {}
      },
      "source": [
        "df_train['MSSubClass'] = df_train['MSSubClass'].apply(str)\n",
        "df_train['YrSold'] = df_train['YrSold'].astype(str)\n",
        "df_train['MoSold'] = df_train['MoSold'].astype(str)"
      ],
      "execution_count": 21,
      "outputs": []
    },
    {
      "cell_type": "markdown",
      "metadata": {
        "id": "U4gtDRPn3GGW",
        "colab_type": "text"
      },
      "source": [
        "### (11) 범주형 데이터 다루기\n",
        "- 이제 범주형 데이터를 원핫 인코딩으로 변환한다. \n",
        "- 원핫 인코딩으로 변환하는 이유는, 알고리즘은 수치형으로 되어 있기 때문에 그렇다. "
      ]
    },
    {
      "cell_type": "code",
      "metadata": {
        "id": "jm0ZY7ST3Mpr",
        "colab_type": "code",
        "colab": {}
      },
      "source": [
        "def fix_missing_cols(in_train, in_test):\n",
        "    missing_cols = set(in_train.columns) - set(in_test.columns)\n",
        "    # 테스트 데이터와 훈련 데이터의 컬럼을 동일하게 하는 코드는 작성한다. \n",
        "    for c in missing_cols:\n",
        "        in_test[c] = 0\n",
        "    # 순서를 동일하게 만든다. \n",
        "    in_test = in_test[in_train.columns]\n",
        "    return in_test\n",
        "\n",
        "def dummy_encode(in_df_train, in_df_test):\n",
        "    df_train = in_df_train\n",
        "    df_test = in_df_test\n",
        "    categorical_feats = [\n",
        "        f for f in df_train.columns if df_train[f].dtype == 'object'\n",
        "    ]\n",
        "    print(categorical_feats)\n",
        "    for f_ in categorical_feats:\n",
        "        prefix = f_\n",
        "        df_train = pd.concat([df_train, pd.get_dummies(df_train[f_], prefix=prefix)], axis=1).drop(f_, axis=1)\n",
        "        df_test = pd.concat([df_test, pd.get_dummies(df_test[f_], prefix=prefix)], axis=1).drop(f_, axis=1)\n",
        "        df_test = fix_missing_cols(df_train, df_test)\n",
        "    return df_train, df_test"
      ],
      "execution_count": 22,
      "outputs": []
    },
    {
      "cell_type": "markdown",
      "metadata": {
        "id": "TE2X2Ew-3mpU",
        "colab_type": "text"
      },
      "source": [
        "- 훈련 데이터와 테스트 데이터의 크기가 다르면 예측 시, 에러가 발생한다. "
      ]
    },
    {
      "cell_type": "code",
      "metadata": {
        "id": "12yhQOs23ZLO",
        "colab_type": "code",
        "colab": {
          "base_uri": "https://localhost:8080/",
          "height": 73
        },
        "outputId": "af5314da-d92a-43a8-af6f-b1cf688b60fc"
      },
      "source": [
        "df_train, df_test = dummy_encode(df_train, df_test)\n",
        "print(\"Shape train: %s, test: %s\" % (df_train.shape, df_test.shape))"
      ],
      "execution_count": 23,
      "outputs": [
        {
          "output_type": "stream",
          "text": [
            "['MSSubClass', 'MSZoning', 'Street', 'Alley', 'LotShape', 'LandContour', 'LotConfig', 'LandSlope', 'Neighborhood', 'Condition1', 'Condition2', 'BldgType', 'HouseStyle', 'RoofStyle', 'RoofMatl', 'Exterior1st', 'Exterior2nd', 'MasVnrType', 'ExterQual', 'ExterCond', 'Foundation', 'BsmtQual', 'BsmtCond', 'BsmtExposure', 'BsmtFinType1', 'BsmtFinType2', 'Heating', 'HeatingQC', 'CentralAir', 'Electrical', 'KitchenQual', 'Functional', 'FireplaceQu', 'GarageType', 'GarageFinish', 'GarageQual', 'GarageCond', 'PavedDrive', 'PoolQC', 'Fence', 'MiscFeature', 'MoSold', 'YrSold', 'SaleType', 'SaleCondition']\n",
            "Shape train: (1456, 361), test: (1459, 361)\n"
          ],
          "name": "stdout"
        }
      ]
    },
    {
      "cell_type": "markdown",
      "metadata": {
        "id": "I_1smuec3Yfb",
        "colab_type": "text"
      },
      "source": [
        "## III. 머신러닝 모형 개발\n",
        "- 이제 `LightGBM`을 활용하여 머신러닝 모형을 개발한다. \n",
        "- 유투브 강의를 보도록 한다. \n",
        "\n"
      ]
    },
    {
      "cell_type": "code",
      "metadata": {
        "id": "EyApOg8Mowwx",
        "colab_type": "code",
        "colab": {
          "base_uri": "https://localhost:8080/",
          "height": 336
        },
        "outputId": "0c350ce9-4591-48cd-ad47-1e47ced5a72f"
      },
      "source": [
        "from IPython.display import HTML\n",
        "HTML('<iframe width=\"560\" height=\"315\" src=\"https://www.youtube.com/embed/OQHlmscvkRI\" frameborder=\"0\" allow=\"accelerometer; autoplay; encrypted-media; gyroscope; picture-in-picture\" allowfullscreen></iframe>')"
      ],
      "execution_count": null,
      "outputs": [
        {
          "output_type": "execute_result",
          "data": {
            "text/html": [
              "<iframe width=\"560\" height=\"315\" src=\"https://www.youtube.com/embed/OQHlmscvkRI\" frameborder=\"0\" allow=\"accelerometer; autoplay; encrypted-media; gyroscope; picture-in-picture\" allowfullscreen></iframe>"
            ],
            "text/plain": [
              "<IPython.core.display.HTML object>"
            ]
          },
          "metadata": {
            "tags": []
          },
          "execution_count": 1
        }
      ]
    },
    {
      "cell_type": "markdown",
      "metadata": {
        "id": "JQxKFjo-4BXV",
        "colab_type": "text"
      },
      "source": [
        "### (1) 종속변수 처리\n",
        "- 종속변수를 `y` 객체로 저장한다. "
      ]
    },
    {
      "cell_type": "code",
      "metadata": {
        "id": "x40-3b8z3-L_",
        "colab_type": "code",
        "colab": {
          "base_uri": "https://localhost:8080/",
          "height": 89
        },
        "outputId": "5a0d43b4-4fe3-4483-b0a5-b2eb504062ee"
      },
      "source": [
        "y = df_train[\"SalePrice\"]\n",
        "y.sample(3)"
      ],
      "execution_count": 24,
      "outputs": [
        {
          "output_type": "execute_result",
          "data": {
            "text/plain": [
              "290     12.106258\n",
              "1348    12.345839\n",
              "1363    11.385103\n",
              "Name: SalePrice, dtype: float64"
            ]
          },
          "metadata": {
            "tags": []
          },
          "execution_count": 24
        }
      ]
    },
    {
      "cell_type": "markdown",
      "metadata": {
        "id": "8NO8iU3b4KqU",
        "colab_type": "text"
      },
      "source": [
        "- 훈련 및 테스트 데이터의 변수를 삭제한다. "
      ]
    },
    {
      "cell_type": "code",
      "metadata": {
        "id": "RmmmI6rI4GwD",
        "colab_type": "code",
        "colab": {
          "base_uri": "https://localhost:8080/",
          "height": 35
        },
        "outputId": "d0c81ff0-1f4a-435b-a39c-2bf06ba553a2"
      },
      "source": [
        "df_train.drop([\"SalePrice\"], axis=1, inplace=True)\n",
        "df_test.drop([\"SalePrice\"], axis=1, inplace=True)\n",
        "\n",
        "print(\"Shape train: %s, test: %s\" % (df_train.shape, df_test.shape))"
      ],
      "execution_count": 25,
      "outputs": [
        {
          "output_type": "stream",
          "text": [
            "Shape train: (1456, 360), test: (1459, 360)\n"
          ],
          "name": "stdout"
        }
      ]
    },
    {
      "cell_type": "markdown",
      "metadata": {
        "id": "r96kwsn14yMy",
        "colab_type": "text"
      },
      "source": [
        "### (2) 데이터셋 분리\n",
        "- 데이터셋을 분리한다. "
      ]
    },
    {
      "cell_type": "code",
      "metadata": {
        "id": "l5egOzSE42Rw",
        "colab_type": "code",
        "colab": {}
      },
      "source": [
        "X_train, X_test, y_train, y_test = train_test_split( df_train, y, test_size=0.2, random_state=42)"
      ],
      "execution_count": 26,
      "outputs": []
    },
    {
      "cell_type": "markdown",
      "metadata": {
        "id": "eDrBNdEr45RF",
        "colab_type": "text"
      },
      "source": [
        "### (3) LightGBM 파라미터 정의\n",
        "- `LightGBM` 파라미터 정의는 다음 메뉴얼을 읽고 적용한다.\n",
        "- [LightGBM 파라미터 메뉴얼](https://lightgbm.readthedocs.io/en/latest/Parameters.html)"
      ]
    },
    {
      "cell_type": "code",
      "metadata": {
        "id": "IUHbI1Ry46ek",
        "colab_type": "code",
        "colab": {}
      },
      "source": [
        "hyper_params = {\n",
        "    'task': 'train',\n",
        "    'boosting_type': 'gbdt',\n",
        "    'objective': 'regression',\n",
        "    'metric': ['l2', 'auc'],\n",
        "    'learning_rate': 0.005,\n",
        "    'feature_fraction': 0.9,\n",
        "    'bagging_fraction': 0.7,\n",
        "    'bagging_freq': 10,\n",
        "    'verbose': 0,\n",
        "    \"max_depth\": 8,\n",
        "    \"num_leaves\": 128,  \n",
        "    \"max_bin\": 512,\n",
        "    \"num_iterations\": 100000,\n",
        "    \"n_estimators\": 1000\n",
        "}"
      ],
      "execution_count": 27,
      "outputs": []
    },
    {
      "cell_type": "markdown",
      "metadata": {
        "id": "ZbXO_V3G5xVO",
        "colab_type": "text"
      },
      "source": [
        "### (4) 모델 정의\n",
        "- 이제 모델을 정의한다. "
      ]
    },
    {
      "cell_type": "code",
      "metadata": {
        "id": "Xi1oxJa05vcJ",
        "colab_type": "code",
        "colab": {}
      },
      "source": [
        "gbm = lgb.LGBMRegressor(**hyper_params)     "
      ],
      "execution_count": 28,
      "outputs": []
    },
    {
      "cell_type": "markdown",
      "metadata": {
        "id": "im5Qc5eA558V",
        "colab_type": "text"
      },
      "source": [
        "### (5) 모델 학습\n",
        "- 이제 모델을 학습한다. "
      ]
    },
    {
      "cell_type": "code",
      "metadata": {
        "id": "Op4g7I1i58NN",
        "colab_type": "code",
        "colab": {
          "base_uri": "https://localhost:8080/",
          "height": 1000
        },
        "outputId": "a40ff756-fbf6-4e79-c43d-58fad250b9d3"
      },
      "source": [
        "gbm.fit(X_train, y_train,\n",
        "        eval_set=[(X_test, y_test)],\n",
        "        eval_metric='l1',\n",
        "        early_stopping_rounds=1000)"
      ],
      "execution_count": 29,
      "outputs": [
        {
          "output_type": "stream",
          "text": [
            "/usr/local/lib/python3.6/dist-packages/lightgbm/engine.py:118: UserWarning: Found `num_iterations` in params. Will use it instead of argument\n",
            "  warnings.warn(\"Found `{}` in params. Will use it instead of argument\".format(alias))\n"
          ],
          "name": "stderr"
        },
        {
          "output_type": "stream",
          "text": [
            "[1]\tvalid_0's l2: 0.186477\tvalid_0's l1: 0.333038\tvalid_0's auc: 1\n",
            "Training until validation scores don't improve for 1000 rounds.\n",
            "[2]\tvalid_0's l2: 0.185073\tvalid_0's l1: 0.331606\tvalid_0's auc: 1\n",
            "[3]\tvalid_0's l2: 0.183684\tvalid_0's l1: 0.330192\tvalid_0's auc: 1\n",
            "[4]\tvalid_0's l2: 0.18231\tvalid_0's l1: 0.328797\tvalid_0's auc: 1\n",
            "[5]\tvalid_0's l2: 0.18095\tvalid_0's l1: 0.327404\tvalid_0's auc: 1\n",
            "[6]\tvalid_0's l2: 0.179603\tvalid_0's l1: 0.326023\tvalid_0's auc: 1\n",
            "[7]\tvalid_0's l2: 0.17828\tvalid_0's l1: 0.324652\tvalid_0's auc: 1\n",
            "[8]\tvalid_0's l2: 0.176947\tvalid_0's l1: 0.323279\tvalid_0's auc: 1\n",
            "[9]\tvalid_0's l2: 0.175652\tvalid_0's l1: 0.321952\tvalid_0's auc: 1\n",
            "[10]\tvalid_0's l2: 0.174352\tvalid_0's l1: 0.320633\tvalid_0's auc: 1\n",
            "[11]\tvalid_0's l2: 0.172985\tvalid_0's l1: 0.319239\tvalid_0's auc: 1\n",
            "[12]\tvalid_0's l2: 0.171633\tvalid_0's l1: 0.317859\tvalid_0's auc: 1\n",
            "[13]\tvalid_0's l2: 0.170309\tvalid_0's l1: 0.316502\tvalid_0's auc: 1\n",
            "[14]\tvalid_0's l2: 0.16898\tvalid_0's l1: 0.315116\tvalid_0's auc: 1\n",
            "[15]\tvalid_0's l2: 0.167683\tvalid_0's l1: 0.313772\tvalid_0's auc: 1\n",
            "[16]\tvalid_0's l2: 0.166394\tvalid_0's l1: 0.31242\tvalid_0's auc: 1\n",
            "[17]\tvalid_0's l2: 0.165107\tvalid_0's l1: 0.311063\tvalid_0's auc: 1\n",
            "[18]\tvalid_0's l2: 0.163844\tvalid_0's l1: 0.309722\tvalid_0's auc: 1\n",
            "[19]\tvalid_0's l2: 0.162577\tvalid_0's l1: 0.308362\tvalid_0's auc: 1\n",
            "[20]\tvalid_0's l2: 0.16135\tvalid_0's l1: 0.307035\tvalid_0's auc: 1\n",
            "[21]\tvalid_0's l2: 0.160154\tvalid_0's l1: 0.30574\tvalid_0's auc: 1\n",
            "[22]\tvalid_0's l2: 0.158952\tvalid_0's l1: 0.304455\tvalid_0's auc: 1\n",
            "[23]\tvalid_0's l2: 0.157766\tvalid_0's l1: 0.303184\tvalid_0's auc: 1\n",
            "[24]\tvalid_0's l2: 0.156588\tvalid_0's l1: 0.301915\tvalid_0's auc: 1\n",
            "[25]\tvalid_0's l2: 0.155422\tvalid_0's l1: 0.300652\tvalid_0's auc: 1\n",
            "[26]\tvalid_0's l2: 0.154271\tvalid_0's l1: 0.299401\tvalid_0's auc: 1\n",
            "[27]\tvalid_0's l2: 0.153128\tvalid_0's l1: 0.29816\tvalid_0's auc: 1\n",
            "[28]\tvalid_0's l2: 0.152007\tvalid_0's l1: 0.296939\tvalid_0's auc: 1\n",
            "[29]\tvalid_0's l2: 0.150886\tvalid_0's l1: 0.29571\tvalid_0's auc: 1\n",
            "[30]\tvalid_0's l2: 0.149777\tvalid_0's l1: 0.294487\tvalid_0's auc: 1\n",
            "[31]\tvalid_0's l2: 0.14867\tvalid_0's l1: 0.293253\tvalid_0's auc: 1\n",
            "[32]\tvalid_0's l2: 0.147577\tvalid_0's l1: 0.292036\tvalid_0's auc: 1\n",
            "[33]\tvalid_0's l2: 0.146476\tvalid_0's l1: 0.290788\tvalid_0's auc: 1\n",
            "[34]\tvalid_0's l2: 0.145403\tvalid_0's l1: 0.289586\tvalid_0's auc: 1\n",
            "[35]\tvalid_0's l2: 0.144338\tvalid_0's l1: 0.288388\tvalid_0's auc: 1\n",
            "[36]\tvalid_0's l2: 0.143281\tvalid_0's l1: 0.287178\tvalid_0's auc: 1\n",
            "[37]\tvalid_0's l2: 0.14225\tvalid_0's l1: 0.286005\tvalid_0's auc: 1\n",
            "[38]\tvalid_0's l2: 0.141221\tvalid_0's l1: 0.284832\tvalid_0's auc: 1\n",
            "[39]\tvalid_0's l2: 0.140209\tvalid_0's l1: 0.283683\tvalid_0's auc: 1\n",
            "[40]\tvalid_0's l2: 0.139199\tvalid_0's l1: 0.282515\tvalid_0's auc: 1\n",
            "[41]\tvalid_0's l2: 0.138212\tvalid_0's l1: 0.28136\tvalid_0's auc: 1\n",
            "[42]\tvalid_0's l2: 0.13724\tvalid_0's l1: 0.280197\tvalid_0's auc: 1\n",
            "[43]\tvalid_0's l2: 0.136299\tvalid_0's l1: 0.279079\tvalid_0's auc: 1\n",
            "[44]\tvalid_0's l2: 0.135336\tvalid_0's l1: 0.277933\tvalid_0's auc: 1\n",
            "[45]\tvalid_0's l2: 0.134398\tvalid_0's l1: 0.276826\tvalid_0's auc: 1\n",
            "[46]\tvalid_0's l2: 0.133457\tvalid_0's l1: 0.275697\tvalid_0's auc: 1\n",
            "[47]\tvalid_0's l2: 0.132536\tvalid_0's l1: 0.274587\tvalid_0's auc: 1\n",
            "[48]\tvalid_0's l2: 0.131645\tvalid_0's l1: 0.273479\tvalid_0's auc: 1\n",
            "[49]\tvalid_0's l2: 0.130738\tvalid_0's l1: 0.272353\tvalid_0's auc: 1\n",
            "[50]\tvalid_0's l2: 0.129837\tvalid_0's l1: 0.271238\tvalid_0's auc: 1\n",
            "[51]\tvalid_0's l2: 0.128927\tvalid_0's l1: 0.270164\tvalid_0's auc: 1\n",
            "[52]\tvalid_0's l2: 0.128026\tvalid_0's l1: 0.269095\tvalid_0's auc: 1\n",
            "[53]\tvalid_0's l2: 0.127123\tvalid_0's l1: 0.267999\tvalid_0's auc: 1\n",
            "[54]\tvalid_0's l2: 0.126228\tvalid_0's l1: 0.266909\tvalid_0's auc: 1\n",
            "[55]\tvalid_0's l2: 0.125343\tvalid_0's l1: 0.265823\tvalid_0's auc: 1\n",
            "[56]\tvalid_0's l2: 0.124466\tvalid_0's l1: 0.264745\tvalid_0's auc: 1\n",
            "[57]\tvalid_0's l2: 0.123598\tvalid_0's l1: 0.263674\tvalid_0's auc: 1\n",
            "[58]\tvalid_0's l2: 0.122749\tvalid_0's l1: 0.262641\tvalid_0's auc: 1\n",
            "[59]\tvalid_0's l2: 0.121909\tvalid_0's l1: 0.261613\tvalid_0's auc: 1\n",
            "[60]\tvalid_0's l2: 0.121066\tvalid_0's l1: 0.260558\tvalid_0's auc: 1\n",
            "[61]\tvalid_0's l2: 0.120198\tvalid_0's l1: 0.259479\tvalid_0's auc: 1\n",
            "[62]\tvalid_0's l2: 0.119359\tvalid_0's l1: 0.258394\tvalid_0's auc: 1\n",
            "[63]\tvalid_0's l2: 0.118533\tvalid_0's l1: 0.25732\tvalid_0's auc: 1\n",
            "[64]\tvalid_0's l2: 0.117703\tvalid_0's l1: 0.25624\tvalid_0's auc: 1\n",
            "[65]\tvalid_0's l2: 0.116867\tvalid_0's l1: 0.255183\tvalid_0's auc: 1\n",
            "[66]\tvalid_0's l2: 0.11604\tvalid_0's l1: 0.254131\tvalid_0's auc: 1\n",
            "[67]\tvalid_0's l2: 0.115221\tvalid_0's l1: 0.253082\tvalid_0's auc: 1\n",
            "[68]\tvalid_0's l2: 0.114427\tvalid_0's l1: 0.252033\tvalid_0's auc: 1\n",
            "[69]\tvalid_0's l2: 0.113636\tvalid_0's l1: 0.251022\tvalid_0's auc: 1\n",
            "[70]\tvalid_0's l2: 0.112841\tvalid_0's l1: 0.249995\tvalid_0's auc: 1\n",
            "[71]\tvalid_0's l2: 0.112099\tvalid_0's l1: 0.249042\tvalid_0's auc: 1\n",
            "[72]\tvalid_0's l2: 0.111356\tvalid_0's l1: 0.248066\tvalid_0's auc: 1\n",
            "[73]\tvalid_0's l2: 0.110633\tvalid_0's l1: 0.247137\tvalid_0's auc: 1\n",
            "[74]\tvalid_0's l2: 0.109927\tvalid_0's l1: 0.246213\tvalid_0's auc: 1\n",
            "[75]\tvalid_0's l2: 0.109217\tvalid_0's l1: 0.245305\tvalid_0's auc: 1\n",
            "[76]\tvalid_0's l2: 0.108526\tvalid_0's l1: 0.244404\tvalid_0's auc: 1\n",
            "[77]\tvalid_0's l2: 0.107828\tvalid_0's l1: 0.243503\tvalid_0's auc: 1\n",
            "[78]\tvalid_0's l2: 0.107142\tvalid_0's l1: 0.24262\tvalid_0's auc: 1\n",
            "[79]\tvalid_0's l2: 0.106454\tvalid_0's l1: 0.24171\tvalid_0's auc: 1\n",
            "[80]\tvalid_0's l2: 0.105774\tvalid_0's l1: 0.240835\tvalid_0's auc: 1\n",
            "[81]\tvalid_0's l2: 0.105113\tvalid_0's l1: 0.239931\tvalid_0's auc: 1\n",
            "[82]\tvalid_0's l2: 0.10445\tvalid_0's l1: 0.239013\tvalid_0's auc: 1\n",
            "[83]\tvalid_0's l2: 0.103802\tvalid_0's l1: 0.238121\tvalid_0's auc: 1\n",
            "[84]\tvalid_0's l2: 0.103149\tvalid_0's l1: 0.237229\tvalid_0's auc: 1\n",
            "[85]\tvalid_0's l2: 0.102513\tvalid_0's l1: 0.236346\tvalid_0's auc: 1\n",
            "[86]\tvalid_0's l2: 0.101873\tvalid_0's l1: 0.235464\tvalid_0's auc: 1\n",
            "[87]\tvalid_0's l2: 0.101239\tvalid_0's l1: 0.234595\tvalid_0's auc: 1\n",
            "[88]\tvalid_0's l2: 0.100623\tvalid_0's l1: 0.233723\tvalid_0's auc: 1\n",
            "[89]\tvalid_0's l2: 0.10003\tvalid_0's l1: 0.232923\tvalid_0's auc: 1\n",
            "[90]\tvalid_0's l2: 0.0994325\tvalid_0's l1: 0.232081\tvalid_0's auc: 1\n",
            "[91]\tvalid_0's l2: 0.0988341\tvalid_0's l1: 0.231256\tvalid_0's auc: 1\n",
            "[92]\tvalid_0's l2: 0.0982427\tvalid_0's l1: 0.23043\tvalid_0's auc: 1\n",
            "[93]\tvalid_0's l2: 0.0976575\tvalid_0's l1: 0.229611\tvalid_0's auc: 1\n",
            "[94]\tvalid_0's l2: 0.0970764\tvalid_0's l1: 0.228802\tvalid_0's auc: 1\n",
            "[95]\tvalid_0's l2: 0.0964998\tvalid_0's l1: 0.227986\tvalid_0's auc: 1\n",
            "[96]\tvalid_0's l2: 0.0959351\tvalid_0's l1: 0.227177\tvalid_0's auc: 1\n",
            "[97]\tvalid_0's l2: 0.0953646\tvalid_0's l1: 0.226367\tvalid_0's auc: 1\n",
            "[98]\tvalid_0's l2: 0.0948064\tvalid_0's l1: 0.225571\tvalid_0's auc: 1\n",
            "[99]\tvalid_0's l2: 0.0942486\tvalid_0's l1: 0.224767\tvalid_0's auc: 1\n",
            "[100]\tvalid_0's l2: 0.0937024\tvalid_0's l1: 0.223984\tvalid_0's auc: 1\n",
            "[101]\tvalid_0's l2: 0.0931472\tvalid_0's l1: 0.223225\tvalid_0's auc: 1\n",
            "[102]\tvalid_0's l2: 0.0925974\tvalid_0's l1: 0.222479\tvalid_0's auc: 1\n",
            "[103]\tvalid_0's l2: 0.0920528\tvalid_0's l1: 0.221736\tvalid_0's auc: 1\n",
            "[104]\tvalid_0's l2: 0.0915138\tvalid_0's l1: 0.221\tvalid_0's auc: 1\n",
            "[105]\tvalid_0's l2: 0.0909796\tvalid_0's l1: 0.220276\tvalid_0's auc: 1\n",
            "[106]\tvalid_0's l2: 0.090451\tvalid_0's l1: 0.219556\tvalid_0's auc: 1\n",
            "[107]\tvalid_0's l2: 0.0899295\tvalid_0's l1: 0.218826\tvalid_0's auc: 1\n",
            "[108]\tvalid_0's l2: 0.0894069\tvalid_0's l1: 0.218104\tvalid_0's auc: 1\n",
            "[109]\tvalid_0's l2: 0.088892\tvalid_0's l1: 0.217398\tvalid_0's auc: 1\n",
            "[110]\tvalid_0's l2: 0.0883824\tvalid_0's l1: 0.216633\tvalid_0's auc: 1\n",
            "[111]\tvalid_0's l2: 0.0878517\tvalid_0's l1: 0.215829\tvalid_0's auc: 1\n",
            "[112]\tvalid_0's l2: 0.0873278\tvalid_0's l1: 0.215036\tvalid_0's auc: 1\n",
            "[113]\tvalid_0's l2: 0.0868143\tvalid_0's l1: 0.214272\tvalid_0's auc: 1\n",
            "[114]\tvalid_0's l2: 0.0863019\tvalid_0's l1: 0.21351\tvalid_0's auc: 1\n",
            "[115]\tvalid_0's l2: 0.0857982\tvalid_0's l1: 0.212764\tvalid_0's auc: 1\n",
            "[116]\tvalid_0's l2: 0.0853065\tvalid_0's l1: 0.212028\tvalid_0's auc: 1\n",
            "[117]\tvalid_0's l2: 0.0848346\tvalid_0's l1: 0.211302\tvalid_0's auc: 1\n",
            "[118]\tvalid_0's l2: 0.0843538\tvalid_0's l1: 0.210594\tvalid_0's auc: 1\n",
            "[119]\tvalid_0's l2: 0.0838739\tvalid_0's l1: 0.209875\tvalid_0's auc: 1\n",
            "[120]\tvalid_0's l2: 0.0833984\tvalid_0's l1: 0.209173\tvalid_0's auc: 1\n",
            "[121]\tvalid_0's l2: 0.0829321\tvalid_0's l1: 0.208462\tvalid_0's auc: 1\n",
            "[122]\tvalid_0's l2: 0.0824703\tvalid_0's l1: 0.207756\tvalid_0's auc: 1\n",
            "[123]\tvalid_0's l2: 0.0820144\tvalid_0's l1: 0.207066\tvalid_0's auc: 1\n",
            "[124]\tvalid_0's l2: 0.081551\tvalid_0's l1: 0.206367\tvalid_0's auc: 1\n",
            "[125]\tvalid_0's l2: 0.0811024\tvalid_0's l1: 0.205677\tvalid_0's auc: 1\n",
            "[126]\tvalid_0's l2: 0.0806537\tvalid_0's l1: 0.204991\tvalid_0's auc: 1\n",
            "[127]\tvalid_0's l2: 0.0802125\tvalid_0's l1: 0.2043\tvalid_0's auc: 1\n",
            "[128]\tvalid_0's l2: 0.0797764\tvalid_0's l1: 0.203624\tvalid_0's auc: 1\n",
            "[129]\tvalid_0's l2: 0.0793265\tvalid_0's l1: 0.202944\tvalid_0's auc: 1\n",
            "[130]\tvalid_0's l2: 0.0788984\tvalid_0's l1: 0.202282\tvalid_0's auc: 1\n",
            "[131]\tvalid_0's l2: 0.0784813\tvalid_0's l1: 0.201642\tvalid_0's auc: 1\n",
            "[132]\tvalid_0's l2: 0.0780612\tvalid_0's l1: 0.200997\tvalid_0's auc: 1\n",
            "[133]\tvalid_0's l2: 0.0776434\tvalid_0's l1: 0.20035\tvalid_0's auc: 1\n",
            "[134]\tvalid_0's l2: 0.0772287\tvalid_0's l1: 0.199709\tvalid_0's auc: 1\n",
            "[135]\tvalid_0's l2: 0.076818\tvalid_0's l1: 0.199071\tvalid_0's auc: 1\n",
            "[136]\tvalid_0's l2: 0.0764078\tvalid_0's l1: 0.198426\tvalid_0's auc: 1\n",
            "[137]\tvalid_0's l2: 0.0760052\tvalid_0's l1: 0.197792\tvalid_0's auc: 1\n",
            "[138]\tvalid_0's l2: 0.0756034\tvalid_0's l1: 0.197156\tvalid_0's auc: 1\n",
            "[139]\tvalid_0's l2: 0.0752056\tvalid_0's l1: 0.196522\tvalid_0's auc: 1\n",
            "[140]\tvalid_0's l2: 0.0748172\tvalid_0's l1: 0.195911\tvalid_0's auc: 1\n",
            "[141]\tvalid_0's l2: 0.0744102\tvalid_0's l1: 0.195286\tvalid_0's auc: 1\n",
            "[142]\tvalid_0's l2: 0.0740071\tvalid_0's l1: 0.194664\tvalid_0's auc: 1\n",
            "[143]\tvalid_0's l2: 0.0735927\tvalid_0's l1: 0.194012\tvalid_0's auc: 1\n",
            "[144]\tvalid_0's l2: 0.0731805\tvalid_0's l1: 0.193362\tvalid_0's auc: 1\n",
            "[145]\tvalid_0's l2: 0.072793\tvalid_0's l1: 0.192765\tvalid_0's auc: 1\n",
            "[146]\tvalid_0's l2: 0.0723862\tvalid_0's l1: 0.192119\tvalid_0's auc: 1\n",
            "[147]\tvalid_0's l2: 0.0719923\tvalid_0's l1: 0.191507\tvalid_0's auc: 1\n",
            "[148]\tvalid_0's l2: 0.0715889\tvalid_0's l1: 0.190867\tvalid_0's auc: 1\n",
            "[149]\tvalid_0's l2: 0.0712158\tvalid_0's l1: 0.190288\tvalid_0's auc: 1\n",
            "[150]\tvalid_0's l2: 0.0708594\tvalid_0's l1: 0.189705\tvalid_0's auc: 1\n",
            "[151]\tvalid_0's l2: 0.070493\tvalid_0's l1: 0.189144\tvalid_0's auc: 1\n",
            "[152]\tvalid_0's l2: 0.0701238\tvalid_0's l1: 0.188579\tvalid_0's auc: 1\n",
            "[153]\tvalid_0's l2: 0.0697602\tvalid_0's l1: 0.188021\tvalid_0's auc: 1\n",
            "[154]\tvalid_0's l2: 0.0693983\tvalid_0's l1: 0.187461\tvalid_0's auc: 1\n",
            "[155]\tvalid_0's l2: 0.0690326\tvalid_0's l1: 0.186898\tvalid_0's auc: 1\n",
            "[156]\tvalid_0's l2: 0.0686763\tvalid_0's l1: 0.186344\tvalid_0's auc: 1\n",
            "[157]\tvalid_0's l2: 0.0683329\tvalid_0's l1: 0.185798\tvalid_0's auc: 1\n",
            "[158]\tvalid_0's l2: 0.0679865\tvalid_0's l1: 0.185262\tvalid_0's auc: 1\n",
            "[159]\tvalid_0's l2: 0.0676413\tvalid_0's l1: 0.184716\tvalid_0's auc: 1\n",
            "[160]\tvalid_0's l2: 0.0672995\tvalid_0's l1: 0.184178\tvalid_0's auc: 1\n",
            "[161]\tvalid_0's l2: 0.066948\tvalid_0's l1: 0.183626\tvalid_0's auc: 1\n",
            "[162]\tvalid_0's l2: 0.0666073\tvalid_0's l1: 0.18307\tvalid_0's auc: 1\n",
            "[163]\tvalid_0's l2: 0.0662621\tvalid_0's l1: 0.182523\tvalid_0's auc: 1\n",
            "[164]\tvalid_0's l2: 0.0659206\tvalid_0's l1: 0.181984\tvalid_0's auc: 1\n",
            "[165]\tvalid_0's l2: 0.0655801\tvalid_0's l1: 0.181447\tvalid_0's auc: 1\n",
            "[166]\tvalid_0's l2: 0.0652426\tvalid_0's l1: 0.180916\tvalid_0's auc: 1\n",
            "[167]\tvalid_0's l2: 0.0649108\tvalid_0's l1: 0.18039\tvalid_0's auc: 1\n",
            "[168]\tvalid_0's l2: 0.0645769\tvalid_0's l1: 0.179857\tvalid_0's auc: 1\n",
            "[169]\tvalid_0's l2: 0.0642507\tvalid_0's l1: 0.179335\tvalid_0's auc: 1\n",
            "[170]\tvalid_0's l2: 0.0639258\tvalid_0's l1: 0.178825\tvalid_0's auc: 1\n",
            "[171]\tvalid_0's l2: 0.0636088\tvalid_0's l1: 0.178301\tvalid_0's auc: 1\n",
            "[172]\tvalid_0's l2: 0.0632884\tvalid_0's l1: 0.177774\tvalid_0's auc: 1\n",
            "[173]\tvalid_0's l2: 0.0629678\tvalid_0's l1: 0.177252\tvalid_0's auc: 1\n",
            "[174]\tvalid_0's l2: 0.0626559\tvalid_0's l1: 0.176743\tvalid_0's auc: 1\n",
            "[175]\tvalid_0's l2: 0.0623445\tvalid_0's l1: 0.176224\tvalid_0's auc: 1\n",
            "[176]\tvalid_0's l2: 0.0620368\tvalid_0's l1: 0.175713\tvalid_0's auc: 1\n",
            "[177]\tvalid_0's l2: 0.0617362\tvalid_0's l1: 0.175246\tvalid_0's auc: 1\n",
            "[178]\tvalid_0's l2: 0.0614374\tvalid_0's l1: 0.174753\tvalid_0's auc: 1\n",
            "[179]\tvalid_0's l2: 0.0611418\tvalid_0's l1: 0.174268\tvalid_0's auc: 1\n",
            "[180]\tvalid_0's l2: 0.0608452\tvalid_0's l1: 0.173767\tvalid_0's auc: 1\n",
            "[181]\tvalid_0's l2: 0.0605311\tvalid_0's l1: 0.173259\tvalid_0's auc: 1\n",
            "[182]\tvalid_0's l2: 0.0602465\tvalid_0's l1: 0.172779\tvalid_0's auc: 1\n",
            "[183]\tvalid_0's l2: 0.0599334\tvalid_0's l1: 0.172268\tvalid_0's auc: 1\n",
            "[184]\tvalid_0's l2: 0.0596255\tvalid_0's l1: 0.171752\tvalid_0's auc: 1\n",
            "[185]\tvalid_0's l2: 0.0593249\tvalid_0's l1: 0.171256\tvalid_0's auc: 1\n",
            "[186]\tvalid_0's l2: 0.0590197\tvalid_0's l1: 0.170737\tvalid_0's auc: 1\n",
            "[187]\tvalid_0's l2: 0.0587211\tvalid_0's l1: 0.170229\tvalid_0's auc: 1\n",
            "[188]\tvalid_0's l2: 0.0584267\tvalid_0's l1: 0.169738\tvalid_0's auc: 1\n",
            "[189]\tvalid_0's l2: 0.0581327\tvalid_0's l1: 0.169229\tvalid_0's auc: 1\n",
            "[190]\tvalid_0's l2: 0.0578475\tvalid_0's l1: 0.168741\tvalid_0's auc: 1\n",
            "[191]\tvalid_0's l2: 0.0575943\tvalid_0's l1: 0.16832\tvalid_0's auc: 1\n",
            "[192]\tvalid_0's l2: 0.057342\tvalid_0's l1: 0.167893\tvalid_0's auc: 1\n",
            "[193]\tvalid_0's l2: 0.0570979\tvalid_0's l1: 0.167463\tvalid_0's auc: 1\n",
            "[194]\tvalid_0's l2: 0.0568503\tvalid_0's l1: 0.167043\tvalid_0's auc: 1\n",
            "[195]\tvalid_0's l2: 0.0566055\tvalid_0's l1: 0.166605\tvalid_0's auc: 1\n",
            "[196]\tvalid_0's l2: 0.0563625\tvalid_0's l1: 0.166189\tvalid_0's auc: 1\n",
            "[197]\tvalid_0's l2: 0.0561224\tvalid_0's l1: 0.165779\tvalid_0's auc: 1\n",
            "[198]\tvalid_0's l2: 0.0558846\tvalid_0's l1: 0.165372\tvalid_0's auc: 1\n",
            "[199]\tvalid_0's l2: 0.055649\tvalid_0's l1: 0.164966\tvalid_0's auc: 1\n",
            "[200]\tvalid_0's l2: 0.0554041\tvalid_0's l1: 0.164528\tvalid_0's auc: 1\n",
            "[201]\tvalid_0's l2: 0.0551436\tvalid_0's l1: 0.164053\tvalid_0's auc: 1\n",
            "[202]\tvalid_0's l2: 0.0548906\tvalid_0's l1: 0.163601\tvalid_0's auc: 1\n",
            "[203]\tvalid_0's l2: 0.0546344\tvalid_0's l1: 0.163138\tvalid_0's auc: 1\n",
            "[204]\tvalid_0's l2: 0.0543889\tvalid_0's l1: 0.162662\tvalid_0's auc: 1\n",
            "[205]\tvalid_0's l2: 0.0541447\tvalid_0's l1: 0.162211\tvalid_0's auc: 1\n",
            "[206]\tvalid_0's l2: 0.0539034\tvalid_0's l1: 0.161763\tvalid_0's auc: 1\n",
            "[207]\tvalid_0's l2: 0.0536569\tvalid_0's l1: 0.161301\tvalid_0's auc: 1\n",
            "[208]\tvalid_0's l2: 0.0534192\tvalid_0's l1: 0.160861\tvalid_0's auc: 1\n",
            "[209]\tvalid_0's l2: 0.0531823\tvalid_0's l1: 0.160427\tvalid_0's auc: 1\n",
            "[210]\tvalid_0's l2: 0.0529445\tvalid_0's l1: 0.159991\tvalid_0's auc: 1\n",
            "[211]\tvalid_0's l2: 0.0527023\tvalid_0's l1: 0.159558\tvalid_0's auc: 1\n",
            "[212]\tvalid_0's l2: 0.0524749\tvalid_0's l1: 0.15915\tvalid_0's auc: 1\n",
            "[213]\tvalid_0's l2: 0.0522381\tvalid_0's l1: 0.158726\tvalid_0's auc: 1\n",
            "[214]\tvalid_0's l2: 0.052006\tvalid_0's l1: 0.15833\tvalid_0's auc: 1\n",
            "[215]\tvalid_0's l2: 0.0517811\tvalid_0's l1: 0.157918\tvalid_0's auc: 1\n",
            "[216]\tvalid_0's l2: 0.0515663\tvalid_0's l1: 0.157489\tvalid_0's auc: 1\n",
            "[217]\tvalid_0's l2: 0.051345\tvalid_0's l1: 0.157082\tvalid_0's auc: 1\n",
            "[218]\tvalid_0's l2: 0.051122\tvalid_0's l1: 0.156698\tvalid_0's auc: 1\n",
            "[219]\tvalid_0's l2: 0.0509057\tvalid_0's l1: 0.156298\tvalid_0's auc: 1\n",
            "[220]\tvalid_0's l2: 0.0506877\tvalid_0's l1: 0.155889\tvalid_0's auc: 1\n",
            "[221]\tvalid_0's l2: 0.0504668\tvalid_0's l1: 0.155489\tvalid_0's auc: 1\n",
            "[222]\tvalid_0's l2: 0.0502482\tvalid_0's l1: 0.155093\tvalid_0's auc: 1\n",
            "[223]\tvalid_0's l2: 0.0500318\tvalid_0's l1: 0.154697\tvalid_0's auc: 1\n",
            "[224]\tvalid_0's l2: 0.0498198\tvalid_0's l1: 0.154318\tvalid_0's auc: 1\n",
            "[225]\tvalid_0's l2: 0.0496099\tvalid_0's l1: 0.153933\tvalid_0's auc: 1\n",
            "[226]\tvalid_0's l2: 0.0493988\tvalid_0's l1: 0.153537\tvalid_0's auc: 1\n",
            "[227]\tvalid_0's l2: 0.0491889\tvalid_0's l1: 0.15317\tvalid_0's auc: 1\n",
            "[228]\tvalid_0's l2: 0.048986\tvalid_0's l1: 0.152792\tvalid_0's auc: 1\n",
            "[229]\tvalid_0's l2: 0.0487852\tvalid_0's l1: 0.152413\tvalid_0's auc: 1\n",
            "[230]\tvalid_0's l2: 0.0485813\tvalid_0's l1: 0.15203\tvalid_0's auc: 1\n",
            "[231]\tvalid_0's l2: 0.0483812\tvalid_0's l1: 0.151631\tvalid_0's auc: 1\n",
            "[232]\tvalid_0's l2: 0.0481991\tvalid_0's l1: 0.151286\tvalid_0's auc: 1\n",
            "[233]\tvalid_0's l2: 0.0480033\tvalid_0's l1: 0.150891\tvalid_0's auc: 1\n",
            "[234]\tvalid_0's l2: 0.0478077\tvalid_0's l1: 0.150495\tvalid_0's auc: 1\n",
            "[235]\tvalid_0's l2: 0.0476157\tvalid_0's l1: 0.150104\tvalid_0's auc: 1\n",
            "[236]\tvalid_0's l2: 0.047424\tvalid_0's l1: 0.149712\tvalid_0's auc: 1\n",
            "[237]\tvalid_0's l2: 0.0472362\tvalid_0's l1: 0.149326\tvalid_0's auc: 1\n",
            "[238]\tvalid_0's l2: 0.0470503\tvalid_0's l1: 0.148942\tvalid_0's auc: 1\n",
            "[239]\tvalid_0's l2: 0.0468671\tvalid_0's l1: 0.148568\tvalid_0's auc: 1\n",
            "[240]\tvalid_0's l2: 0.046683\tvalid_0's l1: 0.14819\tvalid_0's auc: 1\n",
            "[241]\tvalid_0's l2: 0.0465001\tvalid_0's l1: 0.147844\tvalid_0's auc: 1\n",
            "[242]\tvalid_0's l2: 0.0463296\tvalid_0's l1: 0.147511\tvalid_0's auc: 1\n",
            "[243]\tvalid_0's l2: 0.0461576\tvalid_0's l1: 0.147177\tvalid_0's auc: 1\n",
            "[244]\tvalid_0's l2: 0.0459868\tvalid_0's l1: 0.146845\tvalid_0's auc: 1\n",
            "[245]\tvalid_0's l2: 0.0458166\tvalid_0's l1: 0.14651\tvalid_0's auc: 1\n",
            "[246]\tvalid_0's l2: 0.0456529\tvalid_0's l1: 0.146188\tvalid_0's auc: 1\n",
            "[247]\tvalid_0's l2: 0.0454948\tvalid_0's l1: 0.145862\tvalid_0's auc: 1\n",
            "[248]\tvalid_0's l2: 0.045335\tvalid_0's l1: 0.145548\tvalid_0's auc: 1\n",
            "[249]\tvalid_0's l2: 0.0451577\tvalid_0's l1: 0.145199\tvalid_0's auc: 1\n",
            "[250]\tvalid_0's l2: 0.0450023\tvalid_0's l1: 0.144888\tvalid_0's auc: 1\n",
            "[251]\tvalid_0's l2: 0.0448452\tvalid_0's l1: 0.144573\tvalid_0's auc: 1\n",
            "[252]\tvalid_0's l2: 0.044689\tvalid_0's l1: 0.144258\tvalid_0's auc: 1\n",
            "[253]\tvalid_0's l2: 0.0445356\tvalid_0's l1: 0.143953\tvalid_0's auc: 1\n",
            "[254]\tvalid_0's l2: 0.044386\tvalid_0's l1: 0.143649\tvalid_0's auc: 1\n",
            "[255]\tvalid_0's l2: 0.0442349\tvalid_0's l1: 0.143349\tvalid_0's auc: 1\n",
            "[256]\tvalid_0's l2: 0.0440847\tvalid_0's l1: 0.143044\tvalid_0's auc: 1\n",
            "[257]\tvalid_0's l2: 0.0439355\tvalid_0's l1: 0.142746\tvalid_0's auc: 1\n",
            "[258]\tvalid_0's l2: 0.0437919\tvalid_0's l1: 0.142444\tvalid_0's auc: 1\n",
            "[259]\tvalid_0's l2: 0.0436486\tvalid_0's l1: 0.142152\tvalid_0's auc: 1\n",
            "[260]\tvalid_0's l2: 0.0435075\tvalid_0's l1: 0.141866\tvalid_0's auc: 1\n",
            "[261]\tvalid_0's l2: 0.043366\tvalid_0's l1: 0.141571\tvalid_0's auc: 1\n",
            "[262]\tvalid_0's l2: 0.0432263\tvalid_0's l1: 0.141294\tvalid_0's auc: 1\n",
            "[263]\tvalid_0's l2: 0.0430953\tvalid_0's l1: 0.141025\tvalid_0's auc: 1\n",
            "[264]\tvalid_0's l2: 0.0429652\tvalid_0's l1: 0.140755\tvalid_0's auc: 1\n",
            "[265]\tvalid_0's l2: 0.0428411\tvalid_0's l1: 0.140503\tvalid_0's auc: 1\n",
            "[266]\tvalid_0's l2: 0.0427099\tvalid_0's l1: 0.140231\tvalid_0's auc: 1\n",
            "[267]\tvalid_0's l2: 0.0425881\tvalid_0's l1: 0.139983\tvalid_0's auc: 1\n",
            "[268]\tvalid_0's l2: 0.0424586\tvalid_0's l1: 0.139723\tvalid_0's auc: 1\n",
            "[269]\tvalid_0's l2: 0.0423306\tvalid_0's l1: 0.139466\tvalid_0's auc: 1\n",
            "[270]\tvalid_0's l2: 0.0422047\tvalid_0's l1: 0.139213\tvalid_0's auc: 1\n",
            "[271]\tvalid_0's l2: 0.0420666\tvalid_0's l1: 0.13892\tvalid_0's auc: 1\n",
            "[272]\tvalid_0's l2: 0.0419335\tvalid_0's l1: 0.138637\tvalid_0's auc: 1\n",
            "[273]\tvalid_0's l2: 0.0417981\tvalid_0's l1: 0.138348\tvalid_0's auc: 1\n",
            "[274]\tvalid_0's l2: 0.0416665\tvalid_0's l1: 0.138072\tvalid_0's auc: 1\n",
            "[275]\tvalid_0's l2: 0.0415361\tvalid_0's l1: 0.137796\tvalid_0's auc: 1\n",
            "[276]\tvalid_0's l2: 0.0414017\tvalid_0's l1: 0.137511\tvalid_0's auc: 1\n",
            "[277]\tvalid_0's l2: 0.0412752\tvalid_0's l1: 0.137275\tvalid_0's auc: 1\n",
            "[278]\tvalid_0's l2: 0.0411482\tvalid_0's l1: 0.13701\tvalid_0's auc: 1\n",
            "[279]\tvalid_0's l2: 0.0410198\tvalid_0's l1: 0.136739\tvalid_0's auc: 1\n",
            "[280]\tvalid_0's l2: 0.0408946\tvalid_0's l1: 0.136476\tvalid_0's auc: 1\n",
            "[281]\tvalid_0's l2: 0.0407681\tvalid_0's l1: 0.136219\tvalid_0's auc: 1\n",
            "[282]\tvalid_0's l2: 0.0406391\tvalid_0's l1: 0.13596\tvalid_0's auc: 1\n",
            "[283]\tvalid_0's l2: 0.0405189\tvalid_0's l1: 0.135719\tvalid_0's auc: 1\n",
            "[284]\tvalid_0's l2: 0.0403979\tvalid_0's l1: 0.135471\tvalid_0's auc: 1\n",
            "[285]\tvalid_0's l2: 0.0402758\tvalid_0's l1: 0.135227\tvalid_0's auc: 1\n",
            "[286]\tvalid_0's l2: 0.0401568\tvalid_0's l1: 0.134988\tvalid_0's auc: 1\n",
            "[287]\tvalid_0's l2: 0.0400414\tvalid_0's l1: 0.134755\tvalid_0's auc: 1\n",
            "[288]\tvalid_0's l2: 0.0399173\tvalid_0's l1: 0.134522\tvalid_0's auc: 1\n",
            "[289]\tvalid_0's l2: 0.0397983\tvalid_0's l1: 0.1343\tvalid_0's auc: 1\n",
            "[290]\tvalid_0's l2: 0.0396833\tvalid_0's l1: 0.134081\tvalid_0's auc: 1\n",
            "[291]\tvalid_0's l2: 0.0395465\tvalid_0's l1: 0.133805\tvalid_0's auc: 1\n",
            "[292]\tvalid_0's l2: 0.0394119\tvalid_0's l1: 0.133533\tvalid_0's auc: 1\n",
            "[293]\tvalid_0's l2: 0.039279\tvalid_0's l1: 0.133265\tvalid_0's auc: 1\n",
            "[294]\tvalid_0's l2: 0.0391465\tvalid_0's l1: 0.132995\tvalid_0's auc: 1\n",
            "[295]\tvalid_0's l2: 0.0390154\tvalid_0's l1: 0.132727\tvalid_0's auc: 1\n",
            "[296]\tvalid_0's l2: 0.0388867\tvalid_0's l1: 0.132464\tvalid_0's auc: 1\n",
            "[297]\tvalid_0's l2: 0.0387715\tvalid_0's l1: 0.132228\tvalid_0's auc: 1\n",
            "[298]\tvalid_0's l2: 0.0386451\tvalid_0's l1: 0.131969\tvalid_0's auc: 1\n",
            "[299]\tvalid_0's l2: 0.038541\tvalid_0's l1: 0.13177\tvalid_0's auc: 1\n",
            "[300]\tvalid_0's l2: 0.0384281\tvalid_0's l1: 0.131538\tvalid_0's auc: 1\n",
            "[301]\tvalid_0's l2: 0.0383025\tvalid_0's l1: 0.131284\tvalid_0's auc: 1\n",
            "[302]\tvalid_0's l2: 0.0381804\tvalid_0's l1: 0.131033\tvalid_0's auc: 1\n",
            "[303]\tvalid_0's l2: 0.0380598\tvalid_0's l1: 0.130786\tvalid_0's auc: 1\n",
            "[304]\tvalid_0's l2: 0.0379384\tvalid_0's l1: 0.130533\tvalid_0's auc: 1\n",
            "[305]\tvalid_0's l2: 0.0378162\tvalid_0's l1: 0.13028\tvalid_0's auc: 1\n",
            "[306]\tvalid_0's l2: 0.0376992\tvalid_0's l1: 0.130039\tvalid_0's auc: 1\n",
            "[307]\tvalid_0's l2: 0.0375799\tvalid_0's l1: 0.129805\tvalid_0's auc: 1\n",
            "[308]\tvalid_0's l2: 0.0374629\tvalid_0's l1: 0.129566\tvalid_0's auc: 1\n",
            "[309]\tvalid_0's l2: 0.037361\tvalid_0's l1: 0.129365\tvalid_0's auc: 1\n",
            "[310]\tvalid_0's l2: 0.037245\tvalid_0's l1: 0.129135\tvalid_0's auc: 1\n",
            "[311]\tvalid_0's l2: 0.0371502\tvalid_0's l1: 0.128919\tvalid_0's auc: 1\n",
            "[312]\tvalid_0's l2: 0.0370575\tvalid_0's l1: 0.128706\tvalid_0's auc: 1\n",
            "[313]\tvalid_0's l2: 0.0369641\tvalid_0's l1: 0.128499\tvalid_0's auc: 1\n",
            "[314]\tvalid_0's l2: 0.0368739\tvalid_0's l1: 0.128288\tvalid_0's auc: 1\n",
            "[315]\tvalid_0's l2: 0.0367811\tvalid_0's l1: 0.128083\tvalid_0's auc: 1\n",
            "[316]\tvalid_0's l2: 0.0366909\tvalid_0's l1: 0.127882\tvalid_0's auc: 1\n",
            "[317]\tvalid_0's l2: 0.0366029\tvalid_0's l1: 0.127688\tvalid_0's auc: 1\n",
            "[318]\tvalid_0's l2: 0.0365145\tvalid_0's l1: 0.12749\tvalid_0's auc: 1\n",
            "[319]\tvalid_0's l2: 0.0364251\tvalid_0's l1: 0.12729\tvalid_0's auc: 1\n",
            "[320]\tvalid_0's l2: 0.0363346\tvalid_0's l1: 0.127085\tvalid_0's auc: 1\n",
            "[321]\tvalid_0's l2: 0.0362488\tvalid_0's l1: 0.12691\tvalid_0's auc: 1\n",
            "[322]\tvalid_0's l2: 0.0361585\tvalid_0's l1: 0.126726\tvalid_0's auc: 1\n",
            "[323]\tvalid_0's l2: 0.0360754\tvalid_0's l1: 0.126547\tvalid_0's auc: 1\n",
            "[324]\tvalid_0's l2: 0.0359877\tvalid_0's l1: 0.126359\tvalid_0's auc: 1\n",
            "[325]\tvalid_0's l2: 0.0358996\tvalid_0's l1: 0.126185\tvalid_0's auc: 1\n",
            "[326]\tvalid_0's l2: 0.0358118\tvalid_0's l1: 0.126007\tvalid_0's auc: 1\n",
            "[327]\tvalid_0's l2: 0.0357264\tvalid_0's l1: 0.125828\tvalid_0's auc: 1\n",
            "[328]\tvalid_0's l2: 0.0356479\tvalid_0's l1: 0.125666\tvalid_0's auc: 1\n",
            "[329]\tvalid_0's l2: 0.0355716\tvalid_0's l1: 0.125508\tvalid_0's auc: 1\n",
            "[330]\tvalid_0's l2: 0.0354895\tvalid_0's l1: 0.125331\tvalid_0's auc: 1\n",
            "[331]\tvalid_0's l2: 0.0353982\tvalid_0's l1: 0.125127\tvalid_0's auc: 1\n",
            "[332]\tvalid_0's l2: 0.0353077\tvalid_0's l1: 0.124925\tvalid_0's auc: 1\n",
            "[333]\tvalid_0's l2: 0.0352172\tvalid_0's l1: 0.124712\tvalid_0's auc: 1\n",
            "[334]\tvalid_0's l2: 0.0351283\tvalid_0's l1: 0.124511\tvalid_0's auc: 1\n",
            "[335]\tvalid_0's l2: 0.0350401\tvalid_0's l1: 0.124311\tvalid_0's auc: 1\n",
            "[336]\tvalid_0's l2: 0.0349524\tvalid_0's l1: 0.124111\tvalid_0's auc: 1\n",
            "[337]\tvalid_0's l2: 0.0348666\tvalid_0's l1: 0.123909\tvalid_0's auc: 1\n",
            "[338]\tvalid_0's l2: 0.0347844\tvalid_0's l1: 0.123733\tvalid_0's auc: 1\n",
            "[339]\tvalid_0's l2: 0.0346992\tvalid_0's l1: 0.123537\tvalid_0's auc: 1\n",
            "[340]\tvalid_0's l2: 0.0346186\tvalid_0's l1: 0.123367\tvalid_0's auc: 1\n",
            "[341]\tvalid_0's l2: 0.0345239\tvalid_0's l1: 0.123163\tvalid_0's auc: 1\n",
            "[342]\tvalid_0's l2: 0.0344298\tvalid_0's l1: 0.122961\tvalid_0's auc: 1\n",
            "[343]\tvalid_0's l2: 0.0343371\tvalid_0's l1: 0.122759\tvalid_0's auc: 1\n",
            "[344]\tvalid_0's l2: 0.0342451\tvalid_0's l1: 0.122567\tvalid_0's auc: 1\n",
            "[345]\tvalid_0's l2: 0.0341563\tvalid_0's l1: 0.122379\tvalid_0's auc: 1\n",
            "[346]\tvalid_0's l2: 0.0340731\tvalid_0's l1: 0.122217\tvalid_0's auc: 1\n",
            "[347]\tvalid_0's l2: 0.0339864\tvalid_0's l1: 0.122036\tvalid_0's auc: 1\n",
            "[348]\tvalid_0's l2: 0.0339059\tvalid_0's l1: 0.121881\tvalid_0's auc: 1\n",
            "[349]\tvalid_0's l2: 0.0338175\tvalid_0's l1: 0.121692\tvalid_0's auc: 1\n",
            "[350]\tvalid_0's l2: 0.0337391\tvalid_0's l1: 0.121539\tvalid_0's auc: 1\n",
            "[351]\tvalid_0's l2: 0.0336639\tvalid_0's l1: 0.121386\tvalid_0's auc: 1\n",
            "[352]\tvalid_0's l2: 0.0335899\tvalid_0's l1: 0.121236\tvalid_0's auc: 1\n",
            "[353]\tvalid_0's l2: 0.0335224\tvalid_0's l1: 0.121096\tvalid_0's auc: 1\n",
            "[354]\tvalid_0's l2: 0.0334567\tvalid_0's l1: 0.120952\tvalid_0's auc: 1\n",
            "[355]\tvalid_0's l2: 0.033391\tvalid_0's l1: 0.120815\tvalid_0's auc: 1\n",
            "[356]\tvalid_0's l2: 0.033321\tvalid_0's l1: 0.120674\tvalid_0's auc: 1\n",
            "[357]\tvalid_0's l2: 0.033259\tvalid_0's l1: 0.12055\tvalid_0's auc: 1\n",
            "[358]\tvalid_0's l2: 0.0331915\tvalid_0's l1: 0.120415\tvalid_0's auc: 1\n",
            "[359]\tvalid_0's l2: 0.0331222\tvalid_0's l1: 0.120271\tvalid_0's auc: 1\n",
            "[360]\tvalid_0's l2: 0.0330541\tvalid_0's l1: 0.120129\tvalid_0's auc: 1\n",
            "[361]\tvalid_0's l2: 0.0329809\tvalid_0's l1: 0.119979\tvalid_0's auc: 1\n",
            "[362]\tvalid_0's l2: 0.0329058\tvalid_0's l1: 0.119836\tvalid_0's auc: 1\n",
            "[363]\tvalid_0's l2: 0.0328352\tvalid_0's l1: 0.119691\tvalid_0's auc: 1\n",
            "[364]\tvalid_0's l2: 0.0327654\tvalid_0's l1: 0.119552\tvalid_0's auc: 1\n",
            "[365]\tvalid_0's l2: 0.0326968\tvalid_0's l1: 0.119406\tvalid_0's auc: 1\n",
            "[366]\tvalid_0's l2: 0.0326268\tvalid_0's l1: 0.119261\tvalid_0's auc: 1\n",
            "[367]\tvalid_0's l2: 0.0325554\tvalid_0's l1: 0.119117\tvalid_0's auc: 1\n",
            "[368]\tvalid_0's l2: 0.0324874\tvalid_0's l1: 0.118972\tvalid_0's auc: 1\n",
            "[369]\tvalid_0's l2: 0.0324192\tvalid_0's l1: 0.118831\tvalid_0's auc: 1\n",
            "[370]\tvalid_0's l2: 0.0323503\tvalid_0's l1: 0.118694\tvalid_0's auc: 1\n",
            "[371]\tvalid_0's l2: 0.0322917\tvalid_0's l1: 0.118578\tvalid_0's auc: 1\n",
            "[372]\tvalid_0's l2: 0.0322364\tvalid_0's l1: 0.118466\tvalid_0's auc: 1\n",
            "[373]\tvalid_0's l2: 0.0321812\tvalid_0's l1: 0.118361\tvalid_0's auc: 1\n",
            "[374]\tvalid_0's l2: 0.0321266\tvalid_0's l1: 0.118255\tvalid_0's auc: 1\n",
            "[375]\tvalid_0's l2: 0.0320734\tvalid_0's l1: 0.118147\tvalid_0's auc: 1\n",
            "[376]\tvalid_0's l2: 0.03202\tvalid_0's l1: 0.118043\tvalid_0's auc: 1\n",
            "[377]\tvalid_0's l2: 0.0319445\tvalid_0's l1: 0.117875\tvalid_0's auc: 1\n",
            "[378]\tvalid_0's l2: 0.0318652\tvalid_0's l1: 0.117696\tvalid_0's auc: 1\n",
            "[379]\tvalid_0's l2: 0.0317931\tvalid_0's l1: 0.117528\tvalid_0's auc: 1\n",
            "[380]\tvalid_0's l2: 0.0317419\tvalid_0's l1: 0.11742\tvalid_0's auc: 1\n",
            "[381]\tvalid_0's l2: 0.0316841\tvalid_0's l1: 0.117305\tvalid_0's auc: 1\n",
            "[382]\tvalid_0's l2: 0.0316268\tvalid_0's l1: 0.117189\tvalid_0's auc: 1\n",
            "[383]\tvalid_0's l2: 0.0315697\tvalid_0's l1: 0.117058\tvalid_0's auc: 1\n",
            "[384]\tvalid_0's l2: 0.0315134\tvalid_0's l1: 0.116943\tvalid_0's auc: 1\n",
            "[385]\tvalid_0's l2: 0.0314555\tvalid_0's l1: 0.11681\tvalid_0's auc: 1\n",
            "[386]\tvalid_0's l2: 0.0313893\tvalid_0's l1: 0.11665\tvalid_0's auc: 1\n",
            "[387]\tvalid_0's l2: 0.0313257\tvalid_0's l1: 0.116519\tvalid_0's auc: 1\n",
            "[388]\tvalid_0's l2: 0.0312661\tvalid_0's l1: 0.116393\tvalid_0's auc: 1\n",
            "[389]\tvalid_0's l2: 0.0312123\tvalid_0's l1: 0.116295\tvalid_0's auc: 1\n",
            "[390]\tvalid_0's l2: 0.0311575\tvalid_0's l1: 0.116182\tvalid_0's auc: 1\n",
            "[391]\tvalid_0's l2: 0.0310947\tvalid_0's l1: 0.116038\tvalid_0's auc: 1\n",
            "[392]\tvalid_0's l2: 0.0310335\tvalid_0's l1: 0.115899\tvalid_0's auc: 1\n",
            "[393]\tvalid_0's l2: 0.0309703\tvalid_0's l1: 0.11576\tvalid_0's auc: 1\n",
            "[394]\tvalid_0's l2: 0.0309077\tvalid_0's l1: 0.115621\tvalid_0's auc: 1\n",
            "[395]\tvalid_0's l2: 0.0308536\tvalid_0's l1: 0.115483\tvalid_0's auc: 1\n",
            "[396]\tvalid_0's l2: 0.0307937\tvalid_0's l1: 0.115344\tvalid_0's auc: 1\n",
            "[397]\tvalid_0's l2: 0.0307315\tvalid_0's l1: 0.115204\tvalid_0's auc: 1\n",
            "[398]\tvalid_0's l2: 0.0306709\tvalid_0's l1: 0.115071\tvalid_0's auc: 1\n",
            "[399]\tvalid_0's l2: 0.0306094\tvalid_0's l1: 0.114931\tvalid_0's auc: 1\n",
            "[400]\tvalid_0's l2: 0.0305486\tvalid_0's l1: 0.114795\tvalid_0's auc: 1\n",
            "[401]\tvalid_0's l2: 0.0304879\tvalid_0's l1: 0.114679\tvalid_0's auc: 1\n",
            "[402]\tvalid_0's l2: 0.0304395\tvalid_0's l1: 0.114569\tvalid_0's auc: 1\n",
            "[403]\tvalid_0's l2: 0.030391\tvalid_0's l1: 0.114463\tvalid_0's auc: 1\n",
            "[404]\tvalid_0's l2: 0.0303317\tvalid_0's l1: 0.114351\tvalid_0's auc: 1\n",
            "[405]\tvalid_0's l2: 0.0302723\tvalid_0's l1: 0.11425\tvalid_0's auc: 1\n",
            "[406]\tvalid_0's l2: 0.0302237\tvalid_0's l1: 0.114141\tvalid_0's auc: 1\n",
            "[407]\tvalid_0's l2: 0.0301744\tvalid_0's l1: 0.11403\tvalid_0's auc: 1\n",
            "[408]\tvalid_0's l2: 0.0301256\tvalid_0's l1: 0.113928\tvalid_0's auc: 1\n",
            "[409]\tvalid_0's l2: 0.0300773\tvalid_0's l1: 0.113818\tvalid_0's auc: 1\n",
            "[410]\tvalid_0's l2: 0.0300273\tvalid_0's l1: 0.113714\tvalid_0's auc: 1\n",
            "[411]\tvalid_0's l2: 0.029979\tvalid_0's l1: 0.113607\tvalid_0's auc: 1\n",
            "[412]\tvalid_0's l2: 0.0299299\tvalid_0's l1: 0.113498\tvalid_0's auc: 1\n",
            "[413]\tvalid_0's l2: 0.0298811\tvalid_0's l1: 0.11339\tvalid_0's auc: 1\n",
            "[414]\tvalid_0's l2: 0.0298328\tvalid_0's l1: 0.113282\tvalid_0's auc: 1\n",
            "[415]\tvalid_0's l2: 0.029786\tvalid_0's l1: 0.113178\tvalid_0's auc: 1\n",
            "[416]\tvalid_0's l2: 0.0297376\tvalid_0's l1: 0.113062\tvalid_0's auc: 1\n",
            "[417]\tvalid_0's l2: 0.0296906\tvalid_0's l1: 0.112956\tvalid_0's auc: 1\n",
            "[418]\tvalid_0's l2: 0.0296435\tvalid_0's l1: 0.112851\tvalid_0's auc: 1\n",
            "[419]\tvalid_0's l2: 0.0295948\tvalid_0's l1: 0.11274\tvalid_0's auc: 1\n",
            "[420]\tvalid_0's l2: 0.0295482\tvalid_0's l1: 0.112637\tvalid_0's auc: 1\n",
            "[421]\tvalid_0's l2: 0.0295032\tvalid_0's l1: 0.11256\tvalid_0's auc: 1\n",
            "[422]\tvalid_0's l2: 0.0294562\tvalid_0's l1: 0.112473\tvalid_0's auc: 1\n",
            "[423]\tvalid_0's l2: 0.0294136\tvalid_0's l1: 0.112396\tvalid_0's auc: 1\n",
            "[424]\tvalid_0's l2: 0.0293727\tvalid_0's l1: 0.112289\tvalid_0's auc: 1\n",
            "[425]\tvalid_0's l2: 0.0293291\tvalid_0's l1: 0.112182\tvalid_0's auc: 1\n",
            "[426]\tvalid_0's l2: 0.0292863\tvalid_0's l1: 0.112109\tvalid_0's auc: 1\n",
            "[427]\tvalid_0's l2: 0.0292411\tvalid_0's l1: 0.112019\tvalid_0's auc: 1\n",
            "[428]\tvalid_0's l2: 0.0291943\tvalid_0's l1: 0.111934\tvalid_0's auc: 1\n",
            "[429]\tvalid_0's l2: 0.0291602\tvalid_0's l1: 0.111858\tvalid_0's auc: 1\n",
            "[430]\tvalid_0's l2: 0.0291242\tvalid_0's l1: 0.111795\tvalid_0's auc: 1\n",
            "[431]\tvalid_0's l2: 0.0290723\tvalid_0's l1: 0.111672\tvalid_0's auc: 1\n",
            "[432]\tvalid_0's l2: 0.0290289\tvalid_0's l1: 0.111574\tvalid_0's auc: 1\n",
            "[433]\tvalid_0's l2: 0.0289821\tvalid_0's l1: 0.111451\tvalid_0's auc: 1\n",
            "[434]\tvalid_0's l2: 0.028938\tvalid_0's l1: 0.111349\tvalid_0's auc: 1\n",
            "[435]\tvalid_0's l2: 0.0288905\tvalid_0's l1: 0.111238\tvalid_0's auc: 1\n",
            "[436]\tvalid_0's l2: 0.028845\tvalid_0's l1: 0.111127\tvalid_0's auc: 1\n",
            "[437]\tvalid_0's l2: 0.0287988\tvalid_0's l1: 0.111016\tvalid_0's auc: 1\n",
            "[438]\tvalid_0's l2: 0.0287512\tvalid_0's l1: 0.1109\tvalid_0's auc: 1\n",
            "[439]\tvalid_0's l2: 0.028711\tvalid_0's l1: 0.110811\tvalid_0's auc: 1\n",
            "[440]\tvalid_0's l2: 0.0286698\tvalid_0's l1: 0.110716\tvalid_0's auc: 1\n",
            "[441]\tvalid_0's l2: 0.0286214\tvalid_0's l1: 0.110608\tvalid_0's auc: 1\n",
            "[442]\tvalid_0's l2: 0.0285784\tvalid_0's l1: 0.110513\tvalid_0's auc: 1\n",
            "[443]\tvalid_0's l2: 0.0285358\tvalid_0's l1: 0.110418\tvalid_0's auc: 1\n",
            "[444]\tvalid_0's l2: 0.0284936\tvalid_0's l1: 0.110324\tvalid_0's auc: 1\n",
            "[445]\tvalid_0's l2: 0.0284532\tvalid_0's l1: 0.110235\tvalid_0's auc: 1\n",
            "[446]\tvalid_0's l2: 0.0284142\tvalid_0's l1: 0.11015\tvalid_0's auc: 1\n",
            "[447]\tvalid_0's l2: 0.0283756\tvalid_0's l1: 0.110069\tvalid_0's auc: 1\n",
            "[448]\tvalid_0's l2: 0.0283352\tvalid_0's l1: 0.109982\tvalid_0's auc: 1\n",
            "[449]\tvalid_0's l2: 0.0282955\tvalid_0's l1: 0.1099\tvalid_0's auc: 1\n",
            "[450]\tvalid_0's l2: 0.028259\tvalid_0's l1: 0.109817\tvalid_0's auc: 1\n",
            "[451]\tvalid_0's l2: 0.0282255\tvalid_0's l1: 0.109736\tvalid_0's auc: 1\n",
            "[452]\tvalid_0's l2: 0.0281897\tvalid_0's l1: 0.109655\tvalid_0's auc: 1\n",
            "[453]\tvalid_0's l2: 0.0281536\tvalid_0's l1: 0.109583\tvalid_0's auc: 1\n",
            "[454]\tvalid_0's l2: 0.0281179\tvalid_0's l1: 0.109511\tvalid_0's auc: 1\n",
            "[455]\tvalid_0's l2: 0.0280843\tvalid_0's l1: 0.109438\tvalid_0's auc: 1\n",
            "[456]\tvalid_0's l2: 0.02805\tvalid_0's l1: 0.109359\tvalid_0's auc: 1\n",
            "[457]\tvalid_0's l2: 0.0280163\tvalid_0's l1: 0.10928\tvalid_0's auc: 1\n",
            "[458]\tvalid_0's l2: 0.0279852\tvalid_0's l1: 0.109211\tvalid_0's auc: 1\n",
            "[459]\tvalid_0's l2: 0.027952\tvalid_0's l1: 0.109136\tvalid_0's auc: 1\n",
            "[460]\tvalid_0's l2: 0.0279212\tvalid_0's l1: 0.109067\tvalid_0's auc: 1\n",
            "[461]\tvalid_0's l2: 0.0278836\tvalid_0's l1: 0.108997\tvalid_0's auc: 1\n",
            "[462]\tvalid_0's l2: 0.027847\tvalid_0's l1: 0.108922\tvalid_0's auc: 1\n",
            "[463]\tvalid_0's l2: 0.0278072\tvalid_0's l1: 0.108832\tvalid_0's auc: 1\n",
            "[464]\tvalid_0's l2: 0.0277773\tvalid_0's l1: 0.108777\tvalid_0's auc: 1\n",
            "[465]\tvalid_0's l2: 0.0277336\tvalid_0's l1: 0.108683\tvalid_0's auc: 1\n",
            "[466]\tvalid_0's l2: 0.0276914\tvalid_0's l1: 0.108595\tvalid_0's auc: 1\n",
            "[467]\tvalid_0's l2: 0.027646\tvalid_0's l1: 0.108494\tvalid_0's auc: 1\n",
            "[468]\tvalid_0's l2: 0.0276104\tvalid_0's l1: 0.108426\tvalid_0's auc: 1\n",
            "[469]\tvalid_0's l2: 0.0275615\tvalid_0's l1: 0.108298\tvalid_0's auc: 1\n",
            "[470]\tvalid_0's l2: 0.027521\tvalid_0's l1: 0.108198\tvalid_0's auc: 1\n",
            "[471]\tvalid_0's l2: 0.0274906\tvalid_0's l1: 0.108141\tvalid_0's auc: 1\n",
            "[472]\tvalid_0's l2: 0.0274606\tvalid_0's l1: 0.108087\tvalid_0's auc: 1\n",
            "[473]\tvalid_0's l2: 0.0274282\tvalid_0's l1: 0.108022\tvalid_0's auc: 1\n",
            "[474]\tvalid_0's l2: 0.0273949\tvalid_0's l1: 0.107939\tvalid_0's auc: 1\n",
            "[475]\tvalid_0's l2: 0.0273599\tvalid_0's l1: 0.107855\tvalid_0's auc: 1\n",
            "[476]\tvalid_0's l2: 0.027328\tvalid_0's l1: 0.107795\tvalid_0's auc: 1\n",
            "[477]\tvalid_0's l2: 0.0272935\tvalid_0's l1: 0.107712\tvalid_0's auc: 1\n",
            "[478]\tvalid_0's l2: 0.0272658\tvalid_0's l1: 0.107665\tvalid_0's auc: 1\n",
            "[479]\tvalid_0's l2: 0.0272319\tvalid_0's l1: 0.107583\tvalid_0's auc: 1\n",
            "[480]\tvalid_0's l2: 0.0272038\tvalid_0's l1: 0.107527\tvalid_0's auc: 1\n",
            "[481]\tvalid_0's l2: 0.0271715\tvalid_0's l1: 0.107445\tvalid_0's auc: 1\n",
            "[482]\tvalid_0's l2: 0.0271403\tvalid_0's l1: 0.107365\tvalid_0's auc: 1\n",
            "[483]\tvalid_0's l2: 0.0271072\tvalid_0's l1: 0.107284\tvalid_0's auc: 1\n",
            "[484]\tvalid_0's l2: 0.0270767\tvalid_0's l1: 0.107205\tvalid_0's auc: 1\n",
            "[485]\tvalid_0's l2: 0.0270445\tvalid_0's l1: 0.107137\tvalid_0's auc: 1\n",
            "[486]\tvalid_0's l2: 0.0270146\tvalid_0's l1: 0.107078\tvalid_0's auc: 1\n",
            "[487]\tvalid_0's l2: 0.0269845\tvalid_0's l1: 0.106999\tvalid_0's auc: 1\n",
            "[488]\tvalid_0's l2: 0.0269559\tvalid_0's l1: 0.10693\tvalid_0's auc: 1\n",
            "[489]\tvalid_0's l2: 0.0269267\tvalid_0's l1: 0.106849\tvalid_0's auc: 1\n",
            "[490]\tvalid_0's l2: 0.0268974\tvalid_0's l1: 0.106776\tvalid_0's auc: 1\n",
            "[491]\tvalid_0's l2: 0.02687\tvalid_0's l1: 0.106732\tvalid_0's auc: 1\n",
            "[492]\tvalid_0's l2: 0.0268425\tvalid_0's l1: 0.106699\tvalid_0's auc: 1\n",
            "[493]\tvalid_0's l2: 0.0268153\tvalid_0's l1: 0.106677\tvalid_0's auc: 1\n",
            "[494]\tvalid_0's l2: 0.0267889\tvalid_0's l1: 0.106659\tvalid_0's auc: 1\n",
            "[495]\tvalid_0's l2: 0.0267625\tvalid_0's l1: 0.106635\tvalid_0's auc: 1\n",
            "[496]\tvalid_0's l2: 0.0267339\tvalid_0's l1: 0.106587\tvalid_0's auc: 1\n",
            "[497]\tvalid_0's l2: 0.0267083\tvalid_0's l1: 0.106569\tvalid_0's auc: 1\n",
            "[498]\tvalid_0's l2: 0.0266799\tvalid_0's l1: 0.10653\tvalid_0's auc: 1\n",
            "[499]\tvalid_0's l2: 0.0266529\tvalid_0's l1: 0.106485\tvalid_0's auc: 1\n",
            "[500]\tvalid_0's l2: 0.0266273\tvalid_0's l1: 0.106452\tvalid_0's auc: 1\n",
            "[501]\tvalid_0's l2: 0.0266011\tvalid_0's l1: 0.106396\tvalid_0's auc: 1\n",
            "[502]\tvalid_0's l2: 0.0265763\tvalid_0's l1: 0.10634\tvalid_0's auc: 1\n",
            "[503]\tvalid_0's l2: 0.0265525\tvalid_0's l1: 0.106294\tvalid_0's auc: 1\n",
            "[504]\tvalid_0's l2: 0.0265295\tvalid_0's l1: 0.106247\tvalid_0's auc: 1\n",
            "[505]\tvalid_0's l2: 0.0265079\tvalid_0's l1: 0.106197\tvalid_0's auc: 1\n",
            "[506]\tvalid_0's l2: 0.0264831\tvalid_0's l1: 0.106148\tvalid_0's auc: 1\n",
            "[507]\tvalid_0's l2: 0.0264594\tvalid_0's l1: 0.106097\tvalid_0's auc: 1\n",
            "[508]\tvalid_0's l2: 0.0264322\tvalid_0's l1: 0.106045\tvalid_0's auc: 1\n",
            "[509]\tvalid_0's l2: 0.026414\tvalid_0's l1: 0.106009\tvalid_0's auc: 1\n",
            "[510]\tvalid_0's l2: 0.0263932\tvalid_0's l1: 0.105964\tvalid_0's auc: 1\n",
            "[511]\tvalid_0's l2: 0.0263644\tvalid_0's l1: 0.105905\tvalid_0's auc: 1\n",
            "[512]\tvalid_0's l2: 0.0263368\tvalid_0's l1: 0.105855\tvalid_0's auc: 1\n",
            "[513]\tvalid_0's l2: 0.0263058\tvalid_0's l1: 0.105779\tvalid_0's auc: 1\n",
            "[514]\tvalid_0's l2: 0.026272\tvalid_0's l1: 0.105696\tvalid_0's auc: 1\n",
            "[515]\tvalid_0's l2: 0.0262413\tvalid_0's l1: 0.105618\tvalid_0's auc: 1\n",
            "[516]\tvalid_0's l2: 0.0262149\tvalid_0's l1: 0.105571\tvalid_0's auc: 1\n",
            "[517]\tvalid_0's l2: 0.0261888\tvalid_0's l1: 0.105524\tvalid_0's auc: 1\n",
            "[518]\tvalid_0's l2: 0.0261551\tvalid_0's l1: 0.105443\tvalid_0's auc: 1\n",
            "[519]\tvalid_0's l2: 0.0261295\tvalid_0's l1: 0.105398\tvalid_0's auc: 1\n",
            "[520]\tvalid_0's l2: 0.0260957\tvalid_0's l1: 0.105311\tvalid_0's auc: 1\n",
            "[521]\tvalid_0's l2: 0.0260728\tvalid_0's l1: 0.10526\tvalid_0's auc: 1\n",
            "[522]\tvalid_0's l2: 0.0260533\tvalid_0's l1: 0.105223\tvalid_0's auc: 1\n",
            "[523]\tvalid_0's l2: 0.0260353\tvalid_0's l1: 0.105191\tvalid_0's auc: 1\n",
            "[524]\tvalid_0's l2: 0.026017\tvalid_0's l1: 0.105157\tvalid_0's auc: 1\n",
            "[525]\tvalid_0's l2: 0.026001\tvalid_0's l1: 0.105133\tvalid_0's auc: 1\n",
            "[526]\tvalid_0's l2: 0.0259843\tvalid_0's l1: 0.105107\tvalid_0's auc: 1\n",
            "[527]\tvalid_0's l2: 0.0259585\tvalid_0's l1: 0.105041\tvalid_0's auc: 1\n",
            "[528]\tvalid_0's l2: 0.025941\tvalid_0's l1: 0.105009\tvalid_0's auc: 1\n",
            "[529]\tvalid_0's l2: 0.0259265\tvalid_0's l1: 0.104972\tvalid_0's auc: 1\n",
            "[530]\tvalid_0's l2: 0.0259117\tvalid_0's l1: 0.104948\tvalid_0's auc: 1\n",
            "[531]\tvalid_0's l2: 0.025893\tvalid_0's l1: 0.104905\tvalid_0's auc: 1\n",
            "[532]\tvalid_0's l2: 0.0258713\tvalid_0's l1: 0.104857\tvalid_0's auc: 1\n",
            "[533]\tvalid_0's l2: 0.0258463\tvalid_0's l1: 0.104795\tvalid_0's auc: 1\n",
            "[534]\tvalid_0's l2: 0.0258265\tvalid_0's l1: 0.104751\tvalid_0's auc: 1\n",
            "[535]\tvalid_0's l2: 0.0258034\tvalid_0's l1: 0.104707\tvalid_0's auc: 1\n",
            "[536]\tvalid_0's l2: 0.0257804\tvalid_0's l1: 0.104647\tvalid_0's auc: 1\n",
            "[537]\tvalid_0's l2: 0.0257557\tvalid_0's l1: 0.104588\tvalid_0's auc: 1\n",
            "[538]\tvalid_0's l2: 0.0257322\tvalid_0's l1: 0.104541\tvalid_0's auc: 1\n",
            "[539]\tvalid_0's l2: 0.0257065\tvalid_0's l1: 0.104486\tvalid_0's auc: 1\n",
            "[540]\tvalid_0's l2: 0.0256827\tvalid_0's l1: 0.104434\tvalid_0's auc: 1\n",
            "[541]\tvalid_0's l2: 0.0256639\tvalid_0's l1: 0.104415\tvalid_0's auc: 1\n",
            "[542]\tvalid_0's l2: 0.0256406\tvalid_0's l1: 0.104375\tvalid_0's auc: 1\n",
            "[543]\tvalid_0's l2: 0.0256225\tvalid_0's l1: 0.104358\tvalid_0's auc: 1\n",
            "[544]\tvalid_0's l2: 0.0256055\tvalid_0's l1: 0.104341\tvalid_0's auc: 1\n",
            "[545]\tvalid_0's l2: 0.0255879\tvalid_0's l1: 0.104324\tvalid_0's auc: 1\n",
            "[546]\tvalid_0's l2: 0.0255688\tvalid_0's l1: 0.104304\tvalid_0's auc: 1\n",
            "[547]\tvalid_0's l2: 0.0255565\tvalid_0's l1: 0.1043\tvalid_0's auc: 1\n",
            "[548]\tvalid_0's l2: 0.0255436\tvalid_0's l1: 0.10429\tvalid_0's auc: 1\n",
            "[549]\tvalid_0's l2: 0.0255245\tvalid_0's l1: 0.104261\tvalid_0's auc: 1\n",
            "[550]\tvalid_0's l2: 0.025511\tvalid_0's l1: 0.104245\tvalid_0's auc: 1\n",
            "[551]\tvalid_0's l2: 0.0254893\tvalid_0's l1: 0.104199\tvalid_0's auc: 1\n",
            "[552]\tvalid_0's l2: 0.0254698\tvalid_0's l1: 0.104162\tvalid_0's auc: 1\n",
            "[553]\tvalid_0's l2: 0.0254503\tvalid_0's l1: 0.104125\tvalid_0's auc: 1\n",
            "[554]\tvalid_0's l2: 0.0254309\tvalid_0's l1: 0.104088\tvalid_0's auc: 1\n",
            "[555]\tvalid_0's l2: 0.0254117\tvalid_0's l1: 0.104052\tvalid_0's auc: 1\n",
            "[556]\tvalid_0's l2: 0.0253928\tvalid_0's l1: 0.104015\tvalid_0's auc: 1\n",
            "[557]\tvalid_0's l2: 0.0253746\tvalid_0's l1: 0.103981\tvalid_0's auc: 1\n",
            "[558]\tvalid_0's l2: 0.0253517\tvalid_0's l1: 0.10393\tvalid_0's auc: 1\n",
            "[559]\tvalid_0's l2: 0.0253334\tvalid_0's l1: 0.103894\tvalid_0's auc: 1\n",
            "[560]\tvalid_0's l2: 0.0253122\tvalid_0's l1: 0.103847\tvalid_0's auc: 1\n",
            "[561]\tvalid_0's l2: 0.02529\tvalid_0's l1: 0.103813\tvalid_0's auc: 1\n",
            "[562]\tvalid_0's l2: 0.0252668\tvalid_0's l1: 0.103779\tvalid_0's auc: 1\n",
            "[563]\tvalid_0's l2: 0.0252414\tvalid_0's l1: 0.103718\tvalid_0's auc: 1\n",
            "[564]\tvalid_0's l2: 0.025218\tvalid_0's l1: 0.103682\tvalid_0's auc: 1\n",
            "[565]\tvalid_0's l2: 0.0251955\tvalid_0's l1: 0.103649\tvalid_0's auc: 1\n",
            "[566]\tvalid_0's l2: 0.0251741\tvalid_0's l1: 0.103616\tvalid_0's auc: 1\n",
            "[567]\tvalid_0's l2: 0.0251519\tvalid_0's l1: 0.103582\tvalid_0's auc: 1\n",
            "[568]\tvalid_0's l2: 0.025128\tvalid_0's l1: 0.103546\tvalid_0's auc: 1\n",
            "[569]\tvalid_0's l2: 0.0251075\tvalid_0's l1: 0.103513\tvalid_0's auc: 1\n",
            "[570]\tvalid_0's l2: 0.025089\tvalid_0's l1: 0.103475\tvalid_0's auc: 1\n",
            "[571]\tvalid_0's l2: 0.0250701\tvalid_0's l1: 0.103428\tvalid_0's auc: 1\n",
            "[572]\tvalid_0's l2: 0.0250498\tvalid_0's l1: 0.103369\tvalid_0's auc: 1\n",
            "[573]\tvalid_0's l2: 0.0250301\tvalid_0's l1: 0.10331\tvalid_0's auc: 1\n",
            "[574]\tvalid_0's l2: 0.0250102\tvalid_0's l1: 0.103252\tvalid_0's auc: 1\n",
            "[575]\tvalid_0's l2: 0.0249905\tvalid_0's l1: 0.103195\tvalid_0's auc: 1\n",
            "[576]\tvalid_0's l2: 0.0249694\tvalid_0's l1: 0.103129\tvalid_0's auc: 1\n",
            "[577]\tvalid_0's l2: 0.0249518\tvalid_0's l1: 0.103078\tvalid_0's auc: 1\n",
            "[578]\tvalid_0's l2: 0.0249341\tvalid_0's l1: 0.103033\tvalid_0's auc: 1\n",
            "[579]\tvalid_0's l2: 0.0249156\tvalid_0's l1: 0.102976\tvalid_0's auc: 1\n",
            "[580]\tvalid_0's l2: 0.0248978\tvalid_0's l1: 0.102924\tvalid_0's auc: 1\n",
            "[581]\tvalid_0's l2: 0.024878\tvalid_0's l1: 0.102875\tvalid_0's auc: 1\n",
            "[582]\tvalid_0's l2: 0.0248647\tvalid_0's l1: 0.102848\tvalid_0's auc: 1\n",
            "[583]\tvalid_0's l2: 0.0248452\tvalid_0's l1: 0.102799\tvalid_0's auc: 1\n",
            "[584]\tvalid_0's l2: 0.024826\tvalid_0's l1: 0.10275\tvalid_0's auc: 1\n",
            "[585]\tvalid_0's l2: 0.0248069\tvalid_0's l1: 0.102701\tvalid_0's auc: 1\n",
            "[586]\tvalid_0's l2: 0.0247868\tvalid_0's l1: 0.102646\tvalid_0's auc: 1\n",
            "[587]\tvalid_0's l2: 0.024774\tvalid_0's l1: 0.10262\tvalid_0's auc: 1\n",
            "[588]\tvalid_0's l2: 0.0247609\tvalid_0's l1: 0.10261\tvalid_0's auc: 1\n",
            "[589]\tvalid_0's l2: 0.0247409\tvalid_0's l1: 0.102558\tvalid_0's auc: 1\n",
            "[590]\tvalid_0's l2: 0.0247213\tvalid_0's l1: 0.102501\tvalid_0's auc: 1\n",
            "[591]\tvalid_0's l2: 0.0246987\tvalid_0's l1: 0.102454\tvalid_0's auc: 1\n",
            "[592]\tvalid_0's l2: 0.0246767\tvalid_0's l1: 0.102408\tvalid_0's auc: 1\n",
            "[593]\tvalid_0's l2: 0.0246563\tvalid_0's l1: 0.102362\tvalid_0's auc: 1\n",
            "[594]\tvalid_0's l2: 0.0246364\tvalid_0's l1: 0.102311\tvalid_0's auc: 1\n",
            "[595]\tvalid_0's l2: 0.0246173\tvalid_0's l1: 0.102275\tvalid_0's auc: 1\n",
            "[596]\tvalid_0's l2: 0.024598\tvalid_0's l1: 0.102229\tvalid_0's auc: 1\n",
            "[597]\tvalid_0's l2: 0.0245781\tvalid_0's l1: 0.10219\tvalid_0's auc: 1\n",
            "[598]\tvalid_0's l2: 0.0245636\tvalid_0's l1: 0.102143\tvalid_0's auc: 1\n",
            "[599]\tvalid_0's l2: 0.0245461\tvalid_0's l1: 0.102102\tvalid_0's auc: 1\n",
            "[600]\tvalid_0's l2: 0.0245316\tvalid_0's l1: 0.102056\tvalid_0's auc: 1\n",
            "[601]\tvalid_0's l2: 0.0245169\tvalid_0's l1: 0.102014\tvalid_0's auc: 1\n",
            "[602]\tvalid_0's l2: 0.0244994\tvalid_0's l1: 0.101969\tvalid_0's auc: 1\n",
            "[603]\tvalid_0's l2: 0.0244852\tvalid_0's l1: 0.101935\tvalid_0's auc: 1\n",
            "[604]\tvalid_0's l2: 0.0244692\tvalid_0's l1: 0.101901\tvalid_0's auc: 1\n",
            "[605]\tvalid_0's l2: 0.0244569\tvalid_0's l1: 0.101878\tvalid_0's auc: 1\n",
            "[606]\tvalid_0's l2: 0.024439\tvalid_0's l1: 0.101833\tvalid_0's auc: 1\n",
            "[607]\tvalid_0's l2: 0.0244259\tvalid_0's l1: 0.101809\tvalid_0's auc: 1\n",
            "[608]\tvalid_0's l2: 0.0244136\tvalid_0's l1: 0.101789\tvalid_0's auc: 1\n",
            "[609]\tvalid_0's l2: 0.0243976\tvalid_0's l1: 0.101752\tvalid_0's auc: 1\n",
            "[610]\tvalid_0's l2: 0.0243826\tvalid_0's l1: 0.101715\tvalid_0's auc: 1\n",
            "[611]\tvalid_0's l2: 0.0243716\tvalid_0's l1: 0.101687\tvalid_0's auc: 1\n",
            "[612]\tvalid_0's l2: 0.0243573\tvalid_0's l1: 0.101647\tvalid_0's auc: 1\n",
            "[613]\tvalid_0's l2: 0.0243463\tvalid_0's l1: 0.101618\tvalid_0's auc: 1\n",
            "[614]\tvalid_0's l2: 0.0243239\tvalid_0's l1: 0.101571\tvalid_0's auc: 1\n",
            "[615]\tvalid_0's l2: 0.0243099\tvalid_0's l1: 0.101533\tvalid_0's auc: 1\n",
            "[616]\tvalid_0's l2: 0.0242923\tvalid_0's l1: 0.101498\tvalid_0's auc: 1\n",
            "[617]\tvalid_0's l2: 0.0242776\tvalid_0's l1: 0.101463\tvalid_0's auc: 1\n",
            "[618]\tvalid_0's l2: 0.0242665\tvalid_0's l1: 0.101442\tvalid_0's auc: 1\n",
            "[619]\tvalid_0's l2: 0.0242518\tvalid_0's l1: 0.101406\tvalid_0's auc: 1\n",
            "[620]\tvalid_0's l2: 0.0242418\tvalid_0's l1: 0.101385\tvalid_0's auc: 1\n",
            "[621]\tvalid_0's l2: 0.0242221\tvalid_0's l1: 0.101339\tvalid_0's auc: 1\n",
            "[622]\tvalid_0's l2: 0.0241996\tvalid_0's l1: 0.101291\tvalid_0's auc: 1\n",
            "[623]\tvalid_0's l2: 0.0241807\tvalid_0's l1: 0.101252\tvalid_0's auc: 1\n",
            "[624]\tvalid_0's l2: 0.0241614\tvalid_0's l1: 0.101207\tvalid_0's auc: 1\n",
            "[625]\tvalid_0's l2: 0.0241406\tvalid_0's l1: 0.101157\tvalid_0's auc: 1\n",
            "[626]\tvalid_0's l2: 0.0241216\tvalid_0's l1: 0.101112\tvalid_0's auc: 1\n",
            "[627]\tvalid_0's l2: 0.0241034\tvalid_0's l1: 0.101071\tvalid_0's auc: 1\n",
            "[628]\tvalid_0's l2: 0.0240846\tvalid_0's l1: 0.101026\tvalid_0's auc: 1\n",
            "[629]\tvalid_0's l2: 0.0240707\tvalid_0's l1: 0.100999\tvalid_0's auc: 1\n",
            "[630]\tvalid_0's l2: 0.024052\tvalid_0's l1: 0.100953\tvalid_0's auc: 1\n",
            "[631]\tvalid_0's l2: 0.0240397\tvalid_0's l1: 0.100923\tvalid_0's auc: 1\n",
            "[632]\tvalid_0's l2: 0.0240302\tvalid_0's l1: 0.100898\tvalid_0's auc: 1\n",
            "[633]\tvalid_0's l2: 0.0240209\tvalid_0's l1: 0.100873\tvalid_0's auc: 1\n",
            "[634]\tvalid_0's l2: 0.0240136\tvalid_0's l1: 0.100852\tvalid_0's auc: 1\n",
            "[635]\tvalid_0's l2: 0.0239977\tvalid_0's l1: 0.100809\tvalid_0's auc: 1\n",
            "[636]\tvalid_0's l2: 0.0239826\tvalid_0's l1: 0.100778\tvalid_0's auc: 1\n",
            "[637]\tvalid_0's l2: 0.0239732\tvalid_0's l1: 0.100753\tvalid_0's auc: 1\n",
            "[638]\tvalid_0's l2: 0.0239645\tvalid_0's l1: 0.100735\tvalid_0's auc: 1\n",
            "[639]\tvalid_0's l2: 0.0239553\tvalid_0's l1: 0.100711\tvalid_0's auc: 1\n",
            "[640]\tvalid_0's l2: 0.0239438\tvalid_0's l1: 0.100686\tvalid_0's auc: 1\n",
            "[641]\tvalid_0's l2: 0.023932\tvalid_0's l1: 0.100666\tvalid_0's auc: 1\n",
            "[642]\tvalid_0's l2: 0.023918\tvalid_0's l1: 0.100638\tvalid_0's auc: 1\n",
            "[643]\tvalid_0's l2: 0.0239068\tvalid_0's l1: 0.100616\tvalid_0's auc: 1\n",
            "[644]\tvalid_0's l2: 0.0238947\tvalid_0's l1: 0.100594\tvalid_0's auc: 1\n",
            "[645]\tvalid_0's l2: 0.023884\tvalid_0's l1: 0.10057\tvalid_0's auc: 1\n",
            "[646]\tvalid_0's l2: 0.023873\tvalid_0's l1: 0.100552\tvalid_0's auc: 1\n",
            "[647]\tvalid_0's l2: 0.0238611\tvalid_0's l1: 0.100527\tvalid_0's auc: 1\n",
            "[648]\tvalid_0's l2: 0.0238508\tvalid_0's l1: 0.100504\tvalid_0's auc: 1\n",
            "[649]\tvalid_0's l2: 0.0238439\tvalid_0's l1: 0.100498\tvalid_0's auc: 1\n",
            "[650]\tvalid_0's l2: 0.0238336\tvalid_0's l1: 0.10048\tvalid_0's auc: 1\n",
            "[651]\tvalid_0's l2: 0.0238043\tvalid_0's l1: 0.100419\tvalid_0's auc: 1\n",
            "[652]\tvalid_0's l2: 0.0237767\tvalid_0's l1: 0.100367\tvalid_0's auc: 1\n",
            "[653]\tvalid_0's l2: 0.0237552\tvalid_0's l1: 0.100322\tvalid_0's auc: 1\n",
            "[654]\tvalid_0's l2: 0.0237331\tvalid_0's l1: 0.10028\tvalid_0's auc: 1\n",
            "[655]\tvalid_0's l2: 0.023706\tvalid_0's l1: 0.100228\tvalid_0's auc: 1\n",
            "[656]\tvalid_0's l2: 0.0236793\tvalid_0's l1: 0.100177\tvalid_0's auc: 1\n",
            "[657]\tvalid_0's l2: 0.0236528\tvalid_0's l1: 0.100129\tvalid_0's auc: 1\n",
            "[658]\tvalid_0's l2: 0.0236322\tvalid_0's l1: 0.100088\tvalid_0's auc: 1\n",
            "[659]\tvalid_0's l2: 0.0236125\tvalid_0's l1: 0.100049\tvalid_0's auc: 1\n",
            "[660]\tvalid_0's l2: 0.0235904\tvalid_0's l1: 0.100011\tvalid_0's auc: 1\n",
            "[661]\tvalid_0's l2: 0.0235781\tvalid_0's l1: 0.0999903\tvalid_0's auc: 1\n",
            "[662]\tvalid_0's l2: 0.0235659\tvalid_0's l1: 0.09997\tvalid_0's auc: 1\n",
            "[663]\tvalid_0's l2: 0.0235538\tvalid_0's l1: 0.0999497\tvalid_0's auc: 1\n",
            "[664]\tvalid_0's l2: 0.0235422\tvalid_0's l1: 0.0999348\tvalid_0's auc: 1\n",
            "[665]\tvalid_0's l2: 0.023528\tvalid_0's l1: 0.099911\tvalid_0's auc: 1\n",
            "[666]\tvalid_0's l2: 0.0235159\tvalid_0's l1: 0.0998906\tvalid_0's auc: 1\n",
            "[667]\tvalid_0's l2: 0.0235071\tvalid_0's l1: 0.0998804\tvalid_0's auc: 1\n",
            "[668]\tvalid_0's l2: 0.0234978\tvalid_0's l1: 0.0998678\tvalid_0's auc: 1\n",
            "[669]\tvalid_0's l2: 0.0234816\tvalid_0's l1: 0.0998423\tvalid_0's auc: 1\n",
            "[670]\tvalid_0's l2: 0.0234747\tvalid_0's l1: 0.099828\tvalid_0's auc: 1\n",
            "[671]\tvalid_0's l2: 0.0234564\tvalid_0's l1: 0.099792\tvalid_0's auc: 1\n",
            "[672]\tvalid_0's l2: 0.0234445\tvalid_0's l1: 0.0997628\tvalid_0's auc: 1\n",
            "[673]\tvalid_0's l2: 0.0234327\tvalid_0's l1: 0.0997369\tvalid_0's auc: 1\n",
            "[674]\tvalid_0's l2: 0.0234198\tvalid_0's l1: 0.09971\tvalid_0's auc: 1\n",
            "[675]\tvalid_0's l2: 0.0234021\tvalid_0's l1: 0.0996733\tvalid_0's auc: 1\n",
            "[676]\tvalid_0's l2: 0.0233845\tvalid_0's l1: 0.0996368\tvalid_0's auc: 1\n",
            "[677]\tvalid_0's l2: 0.023367\tvalid_0's l1: 0.0996009\tvalid_0's auc: 1\n",
            "[678]\tvalid_0's l2: 0.0233498\tvalid_0's l1: 0.0995647\tvalid_0's auc: 1\n",
            "[679]\tvalid_0's l2: 0.0233326\tvalid_0's l1: 0.0995291\tvalid_0's auc: 1\n",
            "[680]\tvalid_0's l2: 0.0233158\tvalid_0's l1: 0.0994935\tvalid_0's auc: 1\n",
            "[681]\tvalid_0's l2: 0.0233087\tvalid_0's l1: 0.0994723\tvalid_0's auc: 1\n",
            "[682]\tvalid_0's l2: 0.0233023\tvalid_0's l1: 0.099458\tvalid_0's auc: 1\n",
            "[683]\tvalid_0's l2: 0.0232917\tvalid_0's l1: 0.0994282\tvalid_0's auc: 1\n",
            "[684]\tvalid_0's l2: 0.0232831\tvalid_0's l1: 0.0994028\tvalid_0's auc: 1\n",
            "[685]\tvalid_0's l2: 0.0232797\tvalid_0's l1: 0.0993943\tvalid_0's auc: 1\n",
            "[686]\tvalid_0's l2: 0.0232702\tvalid_0's l1: 0.0993791\tvalid_0's auc: 1\n",
            "[687]\tvalid_0's l2: 0.0232606\tvalid_0's l1: 0.09936\tvalid_0's auc: 1\n",
            "[688]\tvalid_0's l2: 0.0232535\tvalid_0's l1: 0.099341\tvalid_0's auc: 1\n",
            "[689]\tvalid_0's l2: 0.0232472\tvalid_0's l1: 0.0993214\tvalid_0's auc: 1\n",
            "[690]\tvalid_0's l2: 0.0232404\tvalid_0's l1: 0.0993026\tvalid_0's auc: 1\n",
            "[691]\tvalid_0's l2: 0.0232348\tvalid_0's l1: 0.0992751\tvalid_0's auc: 1\n",
            "[692]\tvalid_0's l2: 0.0232259\tvalid_0's l1: 0.099247\tvalid_0's auc: 1\n",
            "[693]\tvalid_0's l2: 0.0232206\tvalid_0's l1: 0.0992234\tvalid_0's auc: 1\n",
            "[694]\tvalid_0's l2: 0.0232149\tvalid_0's l1: 0.0992004\tvalid_0's auc: 1\n",
            "[695]\tvalid_0's l2: 0.0232068\tvalid_0's l1: 0.0991761\tvalid_0's auc: 1\n",
            "[696]\tvalid_0's l2: 0.0231992\tvalid_0's l1: 0.0991446\tvalid_0's auc: 1\n",
            "[697]\tvalid_0's l2: 0.0231857\tvalid_0's l1: 0.0991116\tvalid_0's auc: 1\n",
            "[698]\tvalid_0's l2: 0.0231754\tvalid_0's l1: 0.0990857\tvalid_0's auc: 1\n",
            "[699]\tvalid_0's l2: 0.0231602\tvalid_0's l1: 0.0990553\tvalid_0's auc: 1\n",
            "[700]\tvalid_0's l2: 0.0231551\tvalid_0's l1: 0.09904\tvalid_0's auc: 1\n",
            "[701]\tvalid_0's l2: 0.0231446\tvalid_0's l1: 0.0990026\tvalid_0's auc: 1\n",
            "[702]\tvalid_0's l2: 0.0231341\tvalid_0's l1: 0.0989664\tvalid_0's auc: 1\n",
            "[703]\tvalid_0's l2: 0.0231238\tvalid_0's l1: 0.0989304\tvalid_0's auc: 1\n",
            "[704]\tvalid_0's l2: 0.0231148\tvalid_0's l1: 0.0988982\tvalid_0's auc: 1\n",
            "[705]\tvalid_0's l2: 0.0231093\tvalid_0's l1: 0.0988837\tvalid_0's auc: 1\n",
            "[706]\tvalid_0's l2: 0.023099\tvalid_0's l1: 0.098855\tvalid_0's auc: 1\n",
            "[707]\tvalid_0's l2: 0.0230892\tvalid_0's l1: 0.098826\tvalid_0's auc: 1\n",
            "[708]\tvalid_0's l2: 0.0230816\tvalid_0's l1: 0.0987991\tvalid_0's auc: 1\n",
            "[709]\tvalid_0's l2: 0.023073\tvalid_0's l1: 0.0987675\tvalid_0's auc: 1\n",
            "[710]\tvalid_0's l2: 0.0230706\tvalid_0's l1: 0.0987532\tvalid_0's auc: 1\n",
            "[711]\tvalid_0's l2: 0.0230674\tvalid_0's l1: 0.0987399\tvalid_0's auc: 1\n",
            "[712]\tvalid_0's l2: 0.0230637\tvalid_0's l1: 0.0987251\tvalid_0's auc: 1\n",
            "[713]\tvalid_0's l2: 0.0230606\tvalid_0's l1: 0.0987147\tvalid_0's auc: 1\n",
            "[714]\tvalid_0's l2: 0.0230522\tvalid_0's l1: 0.0986984\tvalid_0's auc: 1\n",
            "[715]\tvalid_0's l2: 0.0230471\tvalid_0's l1: 0.0986772\tvalid_0's auc: 1\n",
            "[716]\tvalid_0's l2: 0.0230437\tvalid_0's l1: 0.0986649\tvalid_0's auc: 1\n",
            "[717]\tvalid_0's l2: 0.0230407\tvalid_0's l1: 0.0986542\tvalid_0's auc: 1\n",
            "[718]\tvalid_0's l2: 0.0230368\tvalid_0's l1: 0.09864\tvalid_0's auc: 1\n",
            "[719]\tvalid_0's l2: 0.0230339\tvalid_0's l1: 0.0986295\tvalid_0's auc: 1\n",
            "[720]\tvalid_0's l2: 0.023026\tvalid_0's l1: 0.0986111\tvalid_0's auc: 1\n",
            "[721]\tvalid_0's l2: 0.0230112\tvalid_0's l1: 0.0985884\tvalid_0's auc: 1\n",
            "[722]\tvalid_0's l2: 0.0229925\tvalid_0's l1: 0.0985517\tvalid_0's auc: 1\n",
            "[723]\tvalid_0's l2: 0.0229793\tvalid_0's l1: 0.0985286\tvalid_0's auc: 1\n",
            "[724]\tvalid_0's l2: 0.0229659\tvalid_0's l1: 0.0985082\tvalid_0's auc: 1\n",
            "[725]\tvalid_0's l2: 0.0229542\tvalid_0's l1: 0.0984834\tvalid_0's auc: 1\n",
            "[726]\tvalid_0's l2: 0.02294\tvalid_0's l1: 0.0984593\tvalid_0's auc: 1\n",
            "[727]\tvalid_0's l2: 0.0229256\tvalid_0's l1: 0.0984322\tvalid_0's auc: 1\n",
            "[728]\tvalid_0's l2: 0.0229126\tvalid_0's l1: 0.0984147\tvalid_0's auc: 1\n",
            "[729]\tvalid_0's l2: 0.0228998\tvalid_0's l1: 0.0983973\tvalid_0's auc: 1\n",
            "[730]\tvalid_0's l2: 0.0228861\tvalid_0's l1: 0.0983736\tvalid_0's auc: 1\n",
            "[731]\tvalid_0's l2: 0.0228742\tvalid_0's l1: 0.0983469\tvalid_0's auc: 1\n",
            "[732]\tvalid_0's l2: 0.0228615\tvalid_0's l1: 0.0983203\tvalid_0's auc: 1\n",
            "[733]\tvalid_0's l2: 0.0228499\tvalid_0's l1: 0.0982938\tvalid_0's auc: 1\n",
            "[734]\tvalid_0's l2: 0.0228384\tvalid_0's l1: 0.0982674\tvalid_0's auc: 1\n",
            "[735]\tvalid_0's l2: 0.022828\tvalid_0's l1: 0.09824\tvalid_0's auc: 1\n",
            "[736]\tvalid_0's l2: 0.0228175\tvalid_0's l1: 0.098215\tvalid_0's auc: 1\n",
            "[737]\tvalid_0's l2: 0.022808\tvalid_0's l1: 0.0981827\tvalid_0's auc: 1\n",
            "[738]\tvalid_0's l2: 0.0227979\tvalid_0's l1: 0.0981537\tvalid_0's auc: 1\n",
            "[739]\tvalid_0's l2: 0.0227885\tvalid_0's l1: 0.0981308\tvalid_0's auc: 1\n",
            "[740]\tvalid_0's l2: 0.022776\tvalid_0's l1: 0.0980925\tvalid_0's auc: 1\n",
            "[741]\tvalid_0's l2: 0.0227644\tvalid_0's l1: 0.0980603\tvalid_0's auc: 1\n",
            "[742]\tvalid_0's l2: 0.0227595\tvalid_0's l1: 0.0980434\tvalid_0's auc: 1\n",
            "[743]\tvalid_0's l2: 0.0227504\tvalid_0's l1: 0.0980255\tvalid_0's auc: 1\n",
            "[744]\tvalid_0's l2: 0.0227461\tvalid_0's l1: 0.0980052\tvalid_0's auc: 1\n",
            "[745]\tvalid_0's l2: 0.022741\tvalid_0's l1: 0.097983\tvalid_0's auc: 1\n",
            "[746]\tvalid_0's l2: 0.0227298\tvalid_0's l1: 0.0979513\tvalid_0's auc: 1\n",
            "[747]\tvalid_0's l2: 0.022726\tvalid_0's l1: 0.0979315\tvalid_0's auc: 1\n",
            "[748]\tvalid_0's l2: 0.0227209\tvalid_0's l1: 0.0979215\tvalid_0's auc: 1\n",
            "[749]\tvalid_0's l2: 0.0227068\tvalid_0's l1: 0.0978799\tvalid_0's auc: 1\n",
            "[750]\tvalid_0's l2: 0.0227007\tvalid_0's l1: 0.0978718\tvalid_0's auc: 1\n",
            "[751]\tvalid_0's l2: 0.0226925\tvalid_0's l1: 0.0978519\tvalid_0's auc: 1\n",
            "[752]\tvalid_0's l2: 0.0226845\tvalid_0's l1: 0.0978272\tvalid_0's auc: 1\n",
            "[753]\tvalid_0's l2: 0.0226766\tvalid_0's l1: 0.0978053\tvalid_0's auc: 1\n",
            "[754]\tvalid_0's l2: 0.0226688\tvalid_0's l1: 0.0977835\tvalid_0's auc: 1\n",
            "[755]\tvalid_0's l2: 0.0226618\tvalid_0's l1: 0.0977609\tvalid_0's auc: 1\n",
            "[756]\tvalid_0's l2: 0.0226531\tvalid_0's l1: 0.0977488\tvalid_0's auc: 1\n",
            "[757]\tvalid_0's l2: 0.0226434\tvalid_0's l1: 0.0977201\tvalid_0's auc: 1\n",
            "[758]\tvalid_0's l2: 0.0226344\tvalid_0's l1: 0.0977079\tvalid_0's auc: 1\n",
            "[759]\tvalid_0's l2: 0.0226241\tvalid_0's l1: 0.0976758\tvalid_0's auc: 1\n",
            "[760]\tvalid_0's l2: 0.0226162\tvalid_0's l1: 0.0976525\tvalid_0's auc: 1\n",
            "[761]\tvalid_0's l2: 0.0226093\tvalid_0's l1: 0.0976584\tvalid_0's auc: 1\n",
            "[762]\tvalid_0's l2: 0.0226016\tvalid_0's l1: 0.0976575\tvalid_0's auc: 1\n",
            "[763]\tvalid_0's l2: 0.022593\tvalid_0's l1: 0.0976512\tvalid_0's auc: 1\n",
            "[764]\tvalid_0's l2: 0.0225835\tvalid_0's l1: 0.0976307\tvalid_0's auc: 1\n",
            "[765]\tvalid_0's l2: 0.0225741\tvalid_0's l1: 0.0976312\tvalid_0's auc: 1\n",
            "[766]\tvalid_0's l2: 0.0225669\tvalid_0's l1: 0.0976331\tvalid_0's auc: 1\n",
            "[767]\tvalid_0's l2: 0.0225608\tvalid_0's l1: 0.0976418\tvalid_0's auc: 1\n",
            "[768]\tvalid_0's l2: 0.0225546\tvalid_0's l1: 0.097648\tvalid_0's auc: 1\n",
            "[769]\tvalid_0's l2: 0.0225477\tvalid_0's l1: 0.0976495\tvalid_0's auc: 1\n",
            "[770]\tvalid_0's l2: 0.0225419\tvalid_0's l1: 0.0976581\tvalid_0's auc: 1\n",
            "[771]\tvalid_0's l2: 0.0225314\tvalid_0's l1: 0.0976287\tvalid_0's auc: 1\n",
            "[772]\tvalid_0's l2: 0.0225203\tvalid_0's l1: 0.0975971\tvalid_0's auc: 1\n",
            "[773]\tvalid_0's l2: 0.0225098\tvalid_0's l1: 0.0975687\tvalid_0's auc: 1\n",
            "[774]\tvalid_0's l2: 0.0225022\tvalid_0's l1: 0.0975514\tvalid_0's auc: 1\n",
            "[775]\tvalid_0's l2: 0.022492\tvalid_0's l1: 0.0975226\tvalid_0's auc: 1\n",
            "[776]\tvalid_0's l2: 0.0224825\tvalid_0's l1: 0.0974917\tvalid_0's auc: 1\n",
            "[777]\tvalid_0's l2: 0.0224751\tvalid_0's l1: 0.0974747\tvalid_0's auc: 1\n",
            "[778]\tvalid_0's l2: 0.0224651\tvalid_0's l1: 0.0974352\tvalid_0's auc: 1\n",
            "[779]\tvalid_0's l2: 0.0224563\tvalid_0's l1: 0.0974024\tvalid_0's auc: 1\n",
            "[780]\tvalid_0's l2: 0.0224475\tvalid_0's l1: 0.0973866\tvalid_0's auc: 1\n",
            "[781]\tvalid_0's l2: 0.022442\tvalid_0's l1: 0.0973718\tvalid_0's auc: 1\n",
            "[782]\tvalid_0's l2: 0.0224364\tvalid_0's l1: 0.0973555\tvalid_0's auc: 1\n",
            "[783]\tvalid_0's l2: 0.022434\tvalid_0's l1: 0.097347\tvalid_0's auc: 1\n",
            "[784]\tvalid_0's l2: 0.0224285\tvalid_0's l1: 0.0973352\tvalid_0's auc: 1\n",
            "[785]\tvalid_0's l2: 0.0224241\tvalid_0's l1: 0.0973262\tvalid_0's auc: 1\n",
            "[786]\tvalid_0's l2: 0.0224211\tvalid_0's l1: 0.0973114\tvalid_0's auc: 1\n",
            "[787]\tvalid_0's l2: 0.0224159\tvalid_0's l1: 0.0972998\tvalid_0's auc: 1\n",
            "[788]\tvalid_0's l2: 0.022411\tvalid_0's l1: 0.0972862\tvalid_0's auc: 1\n",
            "[789]\tvalid_0's l2: 0.0224064\tvalid_0's l1: 0.0972775\tvalid_0's auc: 1\n",
            "[790]\tvalid_0's l2: 0.0224018\tvalid_0's l1: 0.0972696\tvalid_0's auc: 1\n",
            "[791]\tvalid_0's l2: 0.0223912\tvalid_0's l1: 0.0972437\tvalid_0's auc: 1\n",
            "[792]\tvalid_0's l2: 0.022381\tvalid_0's l1: 0.0972193\tvalid_0's auc: 1\n",
            "[793]\tvalid_0's l2: 0.0223709\tvalid_0's l1: 0.097195\tvalid_0's auc: 1\n",
            "[794]\tvalid_0's l2: 0.0223595\tvalid_0's l1: 0.0971637\tvalid_0's auc: 1\n",
            "[795]\tvalid_0's l2: 0.0223488\tvalid_0's l1: 0.097135\tvalid_0's auc: 1\n",
            "[796]\tvalid_0's l2: 0.0223395\tvalid_0's l1: 0.0971072\tvalid_0's auc: 1\n",
            "[797]\tvalid_0's l2: 0.0223297\tvalid_0's l1: 0.0970839\tvalid_0's auc: 1\n",
            "[798]\tvalid_0's l2: 0.0223216\tvalid_0's l1: 0.0970579\tvalid_0's auc: 1\n",
            "[799]\tvalid_0's l2: 0.0223143\tvalid_0's l1: 0.0970413\tvalid_0's auc: 1\n",
            "[800]\tvalid_0's l2: 0.0223048\tvalid_0's l1: 0.097013\tvalid_0's auc: 1\n",
            "[801]\tvalid_0's l2: 0.0222923\tvalid_0's l1: 0.0969772\tvalid_0's auc: 1\n",
            "[802]\tvalid_0's l2: 0.0222837\tvalid_0's l1: 0.0969543\tvalid_0's auc: 1\n",
            "[803]\tvalid_0's l2: 0.0222756\tvalid_0's l1: 0.0969335\tvalid_0's auc: 1\n",
            "[804]\tvalid_0's l2: 0.0222711\tvalid_0's l1: 0.0969297\tvalid_0's auc: 1\n",
            "[805]\tvalid_0's l2: 0.022259\tvalid_0's l1: 0.0968944\tvalid_0's auc: 1\n",
            "[806]\tvalid_0's l2: 0.0222467\tvalid_0's l1: 0.0968602\tvalid_0's auc: 1\n",
            "[807]\tvalid_0's l2: 0.0222348\tvalid_0's l1: 0.0968276\tvalid_0's auc: 1\n",
            "[808]\tvalid_0's l2: 0.0222229\tvalid_0's l1: 0.0967921\tvalid_0's auc: 1\n",
            "[809]\tvalid_0's l2: 0.0222112\tvalid_0's l1: 0.0967598\tvalid_0's auc: 1\n",
            "[810]\tvalid_0's l2: 0.0221994\tvalid_0's l1: 0.0967237\tvalid_0's auc: 1\n",
            "[811]\tvalid_0's l2: 0.0221973\tvalid_0's l1: 0.0967099\tvalid_0's auc: 1\n",
            "[812]\tvalid_0's l2: 0.0221926\tvalid_0's l1: 0.0966938\tvalid_0's auc: 1\n",
            "[813]\tvalid_0's l2: 0.0221872\tvalid_0's l1: 0.0966742\tvalid_0's auc: 1\n",
            "[814]\tvalid_0's l2: 0.0221808\tvalid_0's l1: 0.0966562\tvalid_0's auc: 1\n",
            "[815]\tvalid_0's l2: 0.0221742\tvalid_0's l1: 0.0966514\tvalid_0's auc: 1\n",
            "[816]\tvalid_0's l2: 0.022167\tvalid_0's l1: 0.0966468\tvalid_0's auc: 1\n",
            "[817]\tvalid_0's l2: 0.0221616\tvalid_0's l1: 0.096643\tvalid_0's auc: 1\n",
            "[818]\tvalid_0's l2: 0.0221554\tvalid_0's l1: 0.0966228\tvalid_0's auc: 1\n",
            "[819]\tvalid_0's l2: 0.0221513\tvalid_0's l1: 0.0966189\tvalid_0's auc: 1\n",
            "[820]\tvalid_0's l2: 0.0221455\tvalid_0's l1: 0.0966117\tvalid_0's auc: 1\n",
            "[821]\tvalid_0's l2: 0.0221351\tvalid_0's l1: 0.0965911\tvalid_0's auc: 1\n",
            "[822]\tvalid_0's l2: 0.0221266\tvalid_0's l1: 0.0965861\tvalid_0's auc: 1\n",
            "[823]\tvalid_0's l2: 0.0221174\tvalid_0's l1: 0.0965672\tvalid_0's auc: 1\n",
            "[824]\tvalid_0's l2: 0.0221089\tvalid_0's l1: 0.096547\tvalid_0's auc: 1\n",
            "[825]\tvalid_0's l2: 0.0221007\tvalid_0's l1: 0.0965303\tvalid_0's auc: 1\n",
            "[826]\tvalid_0's l2: 0.0220923\tvalid_0's l1: 0.0965103\tvalid_0's auc: 1\n",
            "[827]\tvalid_0's l2: 0.0220856\tvalid_0's l1: 0.0964954\tvalid_0's auc: 1\n",
            "[828]\tvalid_0's l2: 0.0220758\tvalid_0's l1: 0.0964753\tvalid_0's auc: 1\n",
            "[829]\tvalid_0's l2: 0.0220677\tvalid_0's l1: 0.096462\tvalid_0's auc: 1\n",
            "[830]\tvalid_0's l2: 0.0220592\tvalid_0's l1: 0.096454\tvalid_0's auc: 1\n",
            "[831]\tvalid_0's l2: 0.0220456\tvalid_0's l1: 0.0964269\tvalid_0's auc: 1\n",
            "[832]\tvalid_0's l2: 0.0220328\tvalid_0's l1: 0.0963965\tvalid_0's auc: 1\n",
            "[833]\tvalid_0's l2: 0.0220201\tvalid_0's l1: 0.0963663\tvalid_0's auc: 1\n",
            "[834]\tvalid_0's l2: 0.0220057\tvalid_0's l1: 0.0963352\tvalid_0's auc: 1\n",
            "[835]\tvalid_0's l2: 0.021994\tvalid_0's l1: 0.096311\tvalid_0's auc: 1\n",
            "[836]\tvalid_0's l2: 0.0219816\tvalid_0's l1: 0.0962853\tvalid_0's auc: 1\n",
            "[837]\tvalid_0's l2: 0.0219693\tvalid_0's l1: 0.0962577\tvalid_0's auc: 1\n",
            "[838]\tvalid_0's l2: 0.021956\tvalid_0's l1: 0.0962395\tvalid_0's auc: 1\n",
            "[839]\tvalid_0's l2: 0.021944\tvalid_0's l1: 0.0962122\tvalid_0's auc: 1\n",
            "[840]\tvalid_0's l2: 0.0219321\tvalid_0's l1: 0.0961869\tvalid_0's auc: 1\n",
            "[841]\tvalid_0's l2: 0.0219236\tvalid_0's l1: 0.0961607\tvalid_0's auc: 1\n",
            "[842]\tvalid_0's l2: 0.0219141\tvalid_0's l1: 0.0961355\tvalid_0's auc: 1\n",
            "[843]\tvalid_0's l2: 0.0219029\tvalid_0's l1: 0.0961025\tvalid_0's auc: 1\n",
            "[844]\tvalid_0's l2: 0.0218954\tvalid_0's l1: 0.0960801\tvalid_0's auc: 1\n",
            "[845]\tvalid_0's l2: 0.0218895\tvalid_0's l1: 0.0960733\tvalid_0's auc: 1\n",
            "[846]\tvalid_0's l2: 0.0218818\tvalid_0's l1: 0.0960567\tvalid_0's auc: 1\n",
            "[847]\tvalid_0's l2: 0.021876\tvalid_0's l1: 0.0960502\tvalid_0's auc: 1\n",
            "[848]\tvalid_0's l2: 0.0218667\tvalid_0's l1: 0.0960288\tvalid_0's auc: 1\n",
            "[849]\tvalid_0's l2: 0.0218647\tvalid_0's l1: 0.0960228\tvalid_0's auc: 1\n",
            "[850]\tvalid_0's l2: 0.0218561\tvalid_0's l1: 0.0960013\tvalid_0's auc: 1\n",
            "[851]\tvalid_0's l2: 0.0218542\tvalid_0's l1: 0.0959922\tvalid_0's auc: 1\n",
            "[852]\tvalid_0's l2: 0.0218525\tvalid_0's l1: 0.0959836\tvalid_0's auc: 1\n",
            "[853]\tvalid_0's l2: 0.0218466\tvalid_0's l1: 0.0959631\tvalid_0's auc: 1\n",
            "[854]\tvalid_0's l2: 0.0218402\tvalid_0's l1: 0.0959444\tvalid_0's auc: 1\n",
            "[855]\tvalid_0's l2: 0.0218338\tvalid_0's l1: 0.0959251\tvalid_0's auc: 1\n",
            "[856]\tvalid_0's l2: 0.0218294\tvalid_0's l1: 0.0959016\tvalid_0's auc: 1\n",
            "[857]\tvalid_0's l2: 0.0218232\tvalid_0's l1: 0.0958825\tvalid_0's auc: 1\n",
            "[858]\tvalid_0's l2: 0.021817\tvalid_0's l1: 0.0958635\tvalid_0's auc: 1\n",
            "[859]\tvalid_0's l2: 0.0218154\tvalid_0's l1: 0.0958555\tvalid_0's auc: 1\n",
            "[860]\tvalid_0's l2: 0.0218138\tvalid_0's l1: 0.0958475\tvalid_0's auc: 1\n",
            "[861]\tvalid_0's l2: 0.0218084\tvalid_0's l1: 0.0958269\tvalid_0's auc: 1\n",
            "[862]\tvalid_0's l2: 0.021803\tvalid_0's l1: 0.0958065\tvalid_0's auc: 1\n",
            "[863]\tvalid_0's l2: 0.0217976\tvalid_0's l1: 0.0957874\tvalid_0's auc: 1\n",
            "[864]\tvalid_0's l2: 0.0217907\tvalid_0's l1: 0.0957678\tvalid_0's auc: 1\n",
            "[865]\tvalid_0's l2: 0.0217852\tvalid_0's l1: 0.0957519\tvalid_0's auc: 1\n",
            "[866]\tvalid_0's l2: 0.0217804\tvalid_0's l1: 0.0957391\tvalid_0's auc: 1\n",
            "[867]\tvalid_0's l2: 0.0217751\tvalid_0's l1: 0.0957225\tvalid_0's auc: 1\n",
            "[868]\tvalid_0's l2: 0.0217693\tvalid_0's l1: 0.0957035\tvalid_0's auc: 1\n",
            "[869]\tvalid_0's l2: 0.0217643\tvalid_0's l1: 0.0956873\tvalid_0's auc: 1\n",
            "[870]\tvalid_0's l2: 0.0217587\tvalid_0's l1: 0.0956703\tvalid_0's auc: 1\n",
            "[871]\tvalid_0's l2: 0.0217513\tvalid_0's l1: 0.0956623\tvalid_0's auc: 1\n",
            "[872]\tvalid_0's l2: 0.0217466\tvalid_0's l1: 0.0956575\tvalid_0's auc: 1\n",
            "[873]\tvalid_0's l2: 0.0217422\tvalid_0's l1: 0.0956528\tvalid_0's auc: 1\n",
            "[874]\tvalid_0's l2: 0.0217374\tvalid_0's l1: 0.0956486\tvalid_0's auc: 1\n",
            "[875]\tvalid_0's l2: 0.021732\tvalid_0's l1: 0.0956435\tvalid_0's auc: 1\n",
            "[876]\tvalid_0's l2: 0.0217281\tvalid_0's l1: 0.0956366\tvalid_0's auc: 1\n",
            "[877]\tvalid_0's l2: 0.0217234\tvalid_0's l1: 0.0956334\tvalid_0's auc: 1\n",
            "[878]\tvalid_0's l2: 0.0217189\tvalid_0's l1: 0.0956316\tvalid_0's auc: 1\n",
            "[879]\tvalid_0's l2: 0.0217146\tvalid_0's l1: 0.0956247\tvalid_0's auc: 1\n",
            "[880]\tvalid_0's l2: 0.0217109\tvalid_0's l1: 0.0956179\tvalid_0's auc: 1\n",
            "[881]\tvalid_0's l2: 0.0217062\tvalid_0's l1: 0.095603\tvalid_0's auc: 1\n",
            "[882]\tvalid_0's l2: 0.0217008\tvalid_0's l1: 0.0955885\tvalid_0's auc: 1\n",
            "[883]\tvalid_0's l2: 0.021693\tvalid_0's l1: 0.0955768\tvalid_0's auc: 1\n",
            "[884]\tvalid_0's l2: 0.0216884\tvalid_0's l1: 0.095562\tvalid_0's auc: 1\n",
            "[885]\tvalid_0's l2: 0.021684\tvalid_0's l1: 0.0955486\tvalid_0's auc: 1\n",
            "[886]\tvalid_0's l2: 0.0216798\tvalid_0's l1: 0.0955406\tvalid_0's auc: 1\n",
            "[887]\tvalid_0's l2: 0.0216736\tvalid_0's l1: 0.0955193\tvalid_0's auc: 1\n",
            "[888]\tvalid_0's l2: 0.0216686\tvalid_0's l1: 0.0955051\tvalid_0's auc: 1\n",
            "[889]\tvalid_0's l2: 0.0216642\tvalid_0's l1: 0.0954907\tvalid_0's auc: 1\n",
            "[890]\tvalid_0's l2: 0.0216582\tvalid_0's l1: 0.0954697\tvalid_0's auc: 1\n",
            "[891]\tvalid_0's l2: 0.0216569\tvalid_0's l1: 0.0954542\tvalid_0's auc: 1\n",
            "[892]\tvalid_0's l2: 0.021655\tvalid_0's l1: 0.0954495\tvalid_0's auc: 1\n",
            "[893]\tvalid_0's l2: 0.0216523\tvalid_0's l1: 0.0954382\tvalid_0's auc: 1\n",
            "[894]\tvalid_0's l2: 0.0216481\tvalid_0's l1: 0.0954301\tvalid_0's auc: 1\n",
            "[895]\tvalid_0's l2: 0.0216463\tvalid_0's l1: 0.0954258\tvalid_0's auc: 1\n",
            "[896]\tvalid_0's l2: 0.0216417\tvalid_0's l1: 0.0954165\tvalid_0's auc: 1\n",
            "[897]\tvalid_0's l2: 0.0216412\tvalid_0's l1: 0.0954163\tvalid_0's auc: 1\n",
            "[898]\tvalid_0's l2: 0.0216387\tvalid_0's l1: 0.0954053\tvalid_0's auc: 1\n",
            "[899]\tvalid_0's l2: 0.0216375\tvalid_0's l1: 0.0954015\tvalid_0's auc: 1\n",
            "[900]\tvalid_0's l2: 0.0216359\tvalid_0's l1: 0.0953982\tvalid_0's auc: 1\n",
            "[901]\tvalid_0's l2: 0.0216322\tvalid_0's l1: 0.0953865\tvalid_0's auc: 1\n",
            "[902]\tvalid_0's l2: 0.0216286\tvalid_0's l1: 0.0953726\tvalid_0's auc: 1\n",
            "[903]\tvalid_0's l2: 0.021625\tvalid_0's l1: 0.0953611\tvalid_0's auc: 1\n",
            "[904]\tvalid_0's l2: 0.021622\tvalid_0's l1: 0.095351\tvalid_0's auc: 1\n",
            "[905]\tvalid_0's l2: 0.0216204\tvalid_0's l1: 0.0953431\tvalid_0's auc: 1\n",
            "[906]\tvalid_0's l2: 0.0216174\tvalid_0's l1: 0.0953332\tvalid_0's auc: 1\n",
            "[907]\tvalid_0's l2: 0.0216141\tvalid_0's l1: 0.0953195\tvalid_0's auc: 1\n",
            "[908]\tvalid_0's l2: 0.0216103\tvalid_0's l1: 0.0953033\tvalid_0's auc: 1\n",
            "[909]\tvalid_0's l2: 0.0216082\tvalid_0's l1: 0.0952955\tvalid_0's auc: 1\n",
            "[910]\tvalid_0's l2: 0.0216061\tvalid_0's l1: 0.0952889\tvalid_0's auc: 1\n",
            "[911]\tvalid_0's l2: 0.0216058\tvalid_0's l1: 0.0952842\tvalid_0's auc: 1\n",
            "[912]\tvalid_0's l2: 0.0216037\tvalid_0's l1: 0.0952856\tvalid_0's auc: 1\n",
            "[913]\tvalid_0's l2: 0.0216012\tvalid_0's l1: 0.0952732\tvalid_0's auc: 1\n",
            "[914]\tvalid_0's l2: 0.0216009\tvalid_0's l1: 0.0952746\tvalid_0's auc: 1\n",
            "[915]\tvalid_0's l2: 0.0215993\tvalid_0's l1: 0.0952651\tvalid_0's auc: 1\n",
            "[916]\tvalid_0's l2: 0.021597\tvalid_0's l1: 0.0952528\tvalid_0's auc: 1\n",
            "[917]\tvalid_0's l2: 0.0215963\tvalid_0's l1: 0.0952526\tvalid_0's auc: 1\n",
            "[918]\tvalid_0's l2: 0.0215941\tvalid_0's l1: 0.0952403\tvalid_0's auc: 1\n",
            "[919]\tvalid_0's l2: 0.021593\tvalid_0's l1: 0.0952397\tvalid_0's auc: 1\n",
            "[920]\tvalid_0's l2: 0.0215911\tvalid_0's l1: 0.0952237\tvalid_0's auc: 1\n",
            "[921]\tvalid_0's l2: 0.0215922\tvalid_0's l1: 0.0952161\tvalid_0's auc: 1\n",
            "[922]\tvalid_0's l2: 0.0215924\tvalid_0's l1: 0.0952078\tvalid_0's auc: 1\n",
            "[923]\tvalid_0's l2: 0.0215947\tvalid_0's l1: 0.0952031\tvalid_0's auc: 1\n",
            "[924]\tvalid_0's l2: 0.0215955\tvalid_0's l1: 0.0951948\tvalid_0's auc: 1\n",
            "[925]\tvalid_0's l2: 0.0215939\tvalid_0's l1: 0.0951858\tvalid_0's auc: 1\n",
            "[926]\tvalid_0's l2: 0.0215937\tvalid_0's l1: 0.0951802\tvalid_0's auc: 1\n",
            "[927]\tvalid_0's l2: 0.0215958\tvalid_0's l1: 0.0951758\tvalid_0's auc: 1\n",
            "[928]\tvalid_0's l2: 0.0215931\tvalid_0's l1: 0.0951683\tvalid_0's auc: 1\n",
            "[929]\tvalid_0's l2: 0.0215937\tvalid_0's l1: 0.095165\tvalid_0's auc: 1\n",
            "[930]\tvalid_0's l2: 0.0215943\tvalid_0's l1: 0.095169\tvalid_0's auc: 1\n",
            "[931]\tvalid_0's l2: 0.0215862\tvalid_0's l1: 0.0951457\tvalid_0's auc: 1\n",
            "[932]\tvalid_0's l2: 0.0215834\tvalid_0's l1: 0.095131\tvalid_0's auc: 1\n",
            "[933]\tvalid_0's l2: 0.02158\tvalid_0's l1: 0.0951186\tvalid_0's auc: 1\n",
            "[934]\tvalid_0's l2: 0.0215747\tvalid_0's l1: 0.0951052\tvalid_0's auc: 1\n",
            "[935]\tvalid_0's l2: 0.021567\tvalid_0's l1: 0.0950842\tvalid_0's auc: 1\n",
            "[936]\tvalid_0's l2: 0.0215607\tvalid_0's l1: 0.0950656\tvalid_0's auc: 1\n",
            "[937]\tvalid_0's l2: 0.0215549\tvalid_0's l1: 0.0950501\tvalid_0's auc: 1\n",
            "[938]\tvalid_0's l2: 0.0215492\tvalid_0's l1: 0.0950333\tvalid_0's auc: 1\n",
            "[939]\tvalid_0's l2: 0.0215442\tvalid_0's l1: 0.0950181\tvalid_0's auc: 1\n",
            "[940]\tvalid_0's l2: 0.021538\tvalid_0's l1: 0.0949997\tvalid_0's auc: 1\n",
            "[941]\tvalid_0's l2: 0.0215329\tvalid_0's l1: 0.0949882\tvalid_0's auc: 1\n",
            "[942]\tvalid_0's l2: 0.0215296\tvalid_0's l1: 0.0949695\tvalid_0's auc: 1\n",
            "[943]\tvalid_0's l2: 0.0215246\tvalid_0's l1: 0.094958\tvalid_0's auc: 1\n",
            "[944]\tvalid_0's l2: 0.0215218\tvalid_0's l1: 0.0949549\tvalid_0's auc: 1\n",
            "[945]\tvalid_0's l2: 0.0215169\tvalid_0's l1: 0.0949435\tvalid_0's auc: 1\n",
            "[946]\tvalid_0's l2: 0.0215124\tvalid_0's l1: 0.0949348\tvalid_0's auc: 1\n",
            "[947]\tvalid_0's l2: 0.021508\tvalid_0's l1: 0.0949246\tvalid_0's auc: 1\n",
            "[948]\tvalid_0's l2: 0.021504\tvalid_0's l1: 0.094918\tvalid_0's auc: 1\n",
            "[949]\tvalid_0's l2: 0.0214996\tvalid_0's l1: 0.0949079\tvalid_0's auc: 1\n",
            "[950]\tvalid_0's l2: 0.0214969\tvalid_0's l1: 0.0948961\tvalid_0's auc: 1\n",
            "[951]\tvalid_0's l2: 0.0214896\tvalid_0's l1: 0.0948728\tvalid_0's auc: 1\n",
            "[952]\tvalid_0's l2: 0.0214833\tvalid_0's l1: 0.0948522\tvalid_0's auc: 1\n",
            "[953]\tvalid_0's l2: 0.0214762\tvalid_0's l1: 0.0948291\tvalid_0's auc: 1\n",
            "[954]\tvalid_0's l2: 0.0214693\tvalid_0's l1: 0.0948044\tvalid_0's auc: 1\n",
            "[955]\tvalid_0's l2: 0.021469\tvalid_0's l1: 0.0948003\tvalid_0's auc: 1\n",
            "[956]\tvalid_0's l2: 0.021462\tvalid_0's l1: 0.0947774\tvalid_0's auc: 1\n",
            "[957]\tvalid_0's l2: 0.0214615\tvalid_0's l1: 0.0947748\tvalid_0's auc: 1\n",
            "[958]\tvalid_0's l2: 0.0214549\tvalid_0's l1: 0.0947515\tvalid_0's auc: 1\n",
            "[959]\tvalid_0's l2: 0.0214553\tvalid_0's l1: 0.0947529\tvalid_0's auc: 1\n",
            "[960]\tvalid_0's l2: 0.0214544\tvalid_0's l1: 0.0947481\tvalid_0's auc: 1\n",
            "[961]\tvalid_0's l2: 0.0214478\tvalid_0's l1: 0.0947334\tvalid_0's auc: 1\n",
            "[962]\tvalid_0's l2: 0.0214413\tvalid_0's l1: 0.0947188\tvalid_0's auc: 1\n",
            "[963]\tvalid_0's l2: 0.0214348\tvalid_0's l1: 0.0947043\tvalid_0's auc: 1\n",
            "[964]\tvalid_0's l2: 0.0214305\tvalid_0's l1: 0.094698\tvalid_0's auc: 1\n",
            "[965]\tvalid_0's l2: 0.0214241\tvalid_0's l1: 0.0946836\tvalid_0's auc: 1\n",
            "[966]\tvalid_0's l2: 0.0214197\tvalid_0's l1: 0.09468\tvalid_0's auc: 1\n",
            "[967]\tvalid_0's l2: 0.0214164\tvalid_0's l1: 0.0946764\tvalid_0's auc: 1\n",
            "[968]\tvalid_0's l2: 0.0214101\tvalid_0's l1: 0.0946622\tvalid_0's auc: 1\n",
            "[969]\tvalid_0's l2: 0.0214039\tvalid_0's l1: 0.094648\tvalid_0's auc: 1\n",
            "[970]\tvalid_0's l2: 0.0213978\tvalid_0's l1: 0.0946339\tvalid_0's auc: 1\n",
            "[971]\tvalid_0's l2: 0.0213927\tvalid_0's l1: 0.0946141\tvalid_0's auc: 1\n",
            "[972]\tvalid_0's l2: 0.021387\tvalid_0's l1: 0.094594\tvalid_0's auc: 1\n",
            "[973]\tvalid_0's l2: 0.021382\tvalid_0's l1: 0.0945744\tvalid_0's auc: 1\n",
            "[974]\tvalid_0's l2: 0.0213781\tvalid_0's l1: 0.0945629\tvalid_0's auc: 1\n",
            "[975]\tvalid_0's l2: 0.0213727\tvalid_0's l1: 0.0945424\tvalid_0's auc: 1\n",
            "[976]\tvalid_0's l2: 0.0213678\tvalid_0's l1: 0.09452\tvalid_0's auc: 1\n",
            "[977]\tvalid_0's l2: 0.0213651\tvalid_0's l1: 0.0945122\tvalid_0's auc: 1\n",
            "[978]\tvalid_0's l2: 0.0213646\tvalid_0's l1: 0.0945037\tvalid_0's auc: 1\n",
            "[979]\tvalid_0's l2: 0.0213597\tvalid_0's l1: 0.0944836\tvalid_0's auc: 1\n",
            "[980]\tvalid_0's l2: 0.0213544\tvalid_0's l1: 0.0944663\tvalid_0's auc: 1\n",
            "[981]\tvalid_0's l2: 0.0213504\tvalid_0's l1: 0.0944575\tvalid_0's auc: 1\n",
            "[982]\tvalid_0's l2: 0.0213456\tvalid_0's l1: 0.09444\tvalid_0's auc: 1\n",
            "[983]\tvalid_0's l2: 0.0213383\tvalid_0's l1: 0.09442\tvalid_0's auc: 1\n",
            "[984]\tvalid_0's l2: 0.0213354\tvalid_0's l1: 0.0944138\tvalid_0's auc: 1\n",
            "[985]\tvalid_0's l2: 0.0213293\tvalid_0's l1: 0.0943943\tvalid_0's auc: 1\n",
            "[986]\tvalid_0's l2: 0.0213251\tvalid_0's l1: 0.0943832\tvalid_0's auc: 1\n",
            "[987]\tvalid_0's l2: 0.0213192\tvalid_0's l1: 0.0943559\tvalid_0's auc: 1\n",
            "[988]\tvalid_0's l2: 0.0213131\tvalid_0's l1: 0.0943363\tvalid_0's auc: 1\n",
            "[989]\tvalid_0's l2: 0.0213049\tvalid_0's l1: 0.094306\tvalid_0's auc: 1\n",
            "[990]\tvalid_0's l2: 0.0212989\tvalid_0's l1: 0.0942866\tvalid_0's auc: 1\n",
            "[991]\tvalid_0's l2: 0.0212984\tvalid_0's l1: 0.0942869\tvalid_0's auc: 1\n",
            "[992]\tvalid_0's l2: 0.021298\tvalid_0's l1: 0.0942872\tvalid_0's auc: 1\n",
            "[993]\tvalid_0's l2: 0.0212958\tvalid_0's l1: 0.0942803\tvalid_0's auc: 1\n",
            "[994]\tvalid_0's l2: 0.0212936\tvalid_0's l1: 0.0942735\tvalid_0's auc: 1\n",
            "[995]\tvalid_0's l2: 0.0212881\tvalid_0's l1: 0.0942607\tvalid_0's auc: 1\n",
            "[996]\tvalid_0's l2: 0.0212847\tvalid_0's l1: 0.0942505\tvalid_0's auc: 1\n",
            "[997]\tvalid_0's l2: 0.0212826\tvalid_0's l1: 0.0942442\tvalid_0's auc: 1\n",
            "[998]\tvalid_0's l2: 0.0212772\tvalid_0's l1: 0.0942321\tvalid_0's auc: 1\n",
            "[999]\tvalid_0's l2: 0.0212751\tvalid_0's l1: 0.0942275\tvalid_0's auc: 1\n",
            "[1000]\tvalid_0's l2: 0.0212723\tvalid_0's l1: 0.0942257\tvalid_0's auc: 1\n",
            "[1001]\tvalid_0's l2: 0.0212714\tvalid_0's l1: 0.0942273\tvalid_0's auc: 1\n",
            "Early stopping, best iteration is:\n",
            "[1]\tvalid_0's l2: 0.186477\tvalid_0's l1: 0.333038\tvalid_0's auc: 1\n"
          ],
          "name": "stdout"
        },
        {
          "output_type": "execute_result",
          "data": {
            "text/plain": [
              "LGBMRegressor(bagging_fraction=0.7, bagging_freq=10, boosting_type='gbdt',\n",
              "              class_weight=None, colsample_bytree=1.0, feature_fraction=0.9,\n",
              "              importance_type='split', learning_rate=0.005, max_bin=512,\n",
              "              max_depth=8, metric=['l2', 'auc'], min_child_samples=20,\n",
              "              min_child_weight=0.001, min_split_gain=0.0, n_estimators=1000,\n",
              "              n_jobs=-1, num_iterations=100000, num_leaves=128,\n",
              "              objective='regression', random_state=None, reg_alpha=0.0,\n",
              "              reg_lambda=0.0, silent=True, subsample=1.0,\n",
              "              subsample_for_bin=200000, subsample_freq=0, task='train',\n",
              "              verbose=0)"
            ]
          },
          "metadata": {
            "tags": []
          },
          "execution_count": 29
        }
      ]
    },
    {
      "cell_type": "markdown",
      "metadata": {
        "id": "sOLF3ZCN6Ab8",
        "colab_type": "text"
      },
      "source": [
        "### (6) 모델 평가\n",
        "- 모델을 평가한다. (RMSE)"
      ]
    },
    {
      "cell_type": "code",
      "metadata": {
        "id": "FzJ03Gx96DP4",
        "colab_type": "code",
        "colab": {
          "base_uri": "https://localhost:8080/",
          "height": 35
        },
        "outputId": "dab3caf2-05ff-4713-81b7-8bad329d87f6"
      },
      "source": [
        "y_pred = gbm.predict(X_train, num_iteration=gbm.best_iteration_)\n",
        "print('The rmse of prediction is:', round(mean_squared_log_error(y_pred, y_train) ** 0.5, 5))"
      ],
      "execution_count": 31,
      "outputs": [
        {
          "output_type": "stream",
          "text": [
            "The rmse of prediction is: 0.02951\n"
          ],
          "name": "stdout"
        }
      ]
    },
    {
      "cell_type": "markdown",
      "metadata": {
        "id": "xN80HcPK6LWe",
        "colab_type": "text"
      },
      "source": [
        "### (7) 결과 제출\n",
        "- 이제 결과를 제출한다. "
      ]
    },
    {
      "cell_type": "code",
      "metadata": {
        "id": "x1jhZtLjmLGg",
        "colab_type": "code",
        "colab": {}
      },
      "source": [
        "from google.colab import drive\n",
        "drive.mount('/content/drive')"
      ],
      "execution_count": null,
      "outputs": []
    },
    {
      "cell_type": "code",
      "metadata": {
        "id": "Okw62fjJ6QJM",
        "colab_type": "code",
        "colab": {}
      },
      "source": [
        "test_pred = np.expm1(gbm.predict(df_test, num_iteration=gbm.best_iteration_))\n",
        "df_test[\"SalePrice\"] = test_pred\n",
        "df_test.to_csv(\"results.csv\", columns=[\"Id\", \"SalePrice\"], index=False)"
      ],
      "execution_count": 32,
      "outputs": []
    }
  ]
}