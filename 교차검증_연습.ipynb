{
  "nbformat": 4,
  "nbformat_minor": 0,
  "metadata": {
    "colab": {
      "name": "교차검증 연습.ipynb",
      "provenance": [],
      "collapsed_sections": [],
      "authorship_tag": "ABX9TyOZadsQBykK81near/vPYvS",
      "include_colab_link": true
    },
    "kernelspec": {
      "name": "python3",
      "display_name": "Python 3"
    }
  },
  "cells": [
    {
      "cell_type": "markdown",
      "metadata": {
        "id": "view-in-github",
        "colab_type": "text"
      },
      "source": [
        "<a href=\"https://colab.research.google.com/github/soobin2121/ML_EDU/blob/master/%EA%B5%90%EC%B0%A8%EA%B2%80%EC%A6%9D_%EC%97%B0%EC%8A%B5.ipynb\" target=\"_parent\"><img src=\"https://colab.research.google.com/assets/colab-badge.svg\" alt=\"Open In Colab\"/></a>"
      ]
    },
    {
      "cell_type": "markdown",
      "metadata": {
        "id": "YRfqgmK3pnDy",
        "colab_type": "text"
      },
      "source": [
        "## 교차 검증\n",
        "- 교차 검증의 의미\n",
        "\n",
        "- 실습"
      ]
    },
    {
      "cell_type": "markdown",
      "metadata": {
        "id": "vzD4IYRepxSI",
        "colab_type": "text"
      },
      "source": [
        "### 방법 1. 홀드아웃\n",
        "- 데이터: 훈련데이터와 테스트데이터\n",
        "\n",
        "  + 훈련데이터 : 훈련데이터 + 검증데이터 --> 테스트데이터"
      ]
    },
    {
      "cell_type": "markdown",
      "metadata": {
        "id": "dIlBI1zrqPMw",
        "colab_type": "text"
      },
      "source": [
        "### 방법 2. K홀드 교차검증\n",
        "- 모형이 안정성을 갖춤\n",
        "\n",
        "- 데이터의 수가 적을 때 사용\n",
        " \n",
        "  why? Default 연산량 X k개 만큼"
      ]
    },
    {
      "cell_type": "code",
      "metadata": {
        "id": "Il6HozmWpkKe",
        "colab_type": "code",
        "colab": {
          "base_uri": "https://localhost:8080/",
          "height": 53
        },
        "outputId": "2cb2e5d7-9341-4662-ee9f-709e29b59156"
      },
      "source": [
        "import numpy as np\n",
        "import matplotlib.pyplot as plt\n",
        "import pandas as pd\n",
        "import seaborn as sns\n",
        "from scipy import stats\n",
        "from sklearn.datasets import load_boston\n"
      ],
      "execution_count": 4,
      "outputs": [
        {
          "output_type": "stream",
          "text": [
            "/usr/local/lib/python3.6/dist-packages/statsmodels/tools/_testing.py:19: FutureWarning: pandas.util.testing is deprecated. Use the functions in the public API at pandas.testing instead.\n",
            "  import pandas.util.testing as tm\n"
          ],
          "name": "stderr"
        }
      ]
    },
    {
      "cell_type": "code",
      "metadata": {
        "id": "1wminddqwYnU",
        "colab_type": "code",
        "colab": {
          "base_uri": "https://localhost:8080/",
          "height": 35
        },
        "outputId": "c07712ae-4b81-480d-bc9a-f2478898c392"
      },
      "source": [
        "%matplotlib inline\n",
        "boston = load_boston()\n",
        "\n",
        "bostonDF = pd.DataFrame(boston.data, columns=boston.feature_names)\n",
        "bostonDF['PRICE']=boston.target\n",
        "\n",
        "print('Size of Dataset:', bostonDF.shape)"
      ],
      "execution_count": 5,
      "outputs": [
        {
          "output_type": "stream",
          "text": [
            "Size of Dataset: (506, 14)\n"
          ],
          "name": "stdout"
        }
      ]
    },
    {
      "cell_type": "code",
      "metadata": {
        "id": "Z0-EzKl1xjhy",
        "colab_type": "code",
        "colab": {
          "base_uri": "https://localhost:8080/",
          "height": 204
        },
        "outputId": "f679e357-bf26-4048-e809-2b4e49ebc821"
      },
      "source": [
        "bostonDF.head()"
      ],
      "execution_count": 24,
      "outputs": [
        {
          "output_type": "execute_result",
          "data": {
            "text/html": [
              "<div>\n",
              "<style scoped>\n",
              "    .dataframe tbody tr th:only-of-type {\n",
              "        vertical-align: middle;\n",
              "    }\n",
              "\n",
              "    .dataframe tbody tr th {\n",
              "        vertical-align: top;\n",
              "    }\n",
              "\n",
              "    .dataframe thead th {\n",
              "        text-align: right;\n",
              "    }\n",
              "</style>\n",
              "<table border=\"1\" class=\"dataframe\">\n",
              "  <thead>\n",
              "    <tr style=\"text-align: right;\">\n",
              "      <th></th>\n",
              "      <th>CRIM</th>\n",
              "      <th>ZN</th>\n",
              "      <th>INDUS</th>\n",
              "      <th>CHAS</th>\n",
              "      <th>NOX</th>\n",
              "      <th>RM</th>\n",
              "      <th>AGE</th>\n",
              "      <th>DIS</th>\n",
              "      <th>RAD</th>\n",
              "      <th>TAX</th>\n",
              "      <th>PTRATIO</th>\n",
              "      <th>B</th>\n",
              "      <th>LSTAT</th>\n",
              "      <th>PRICE</th>\n",
              "    </tr>\n",
              "  </thead>\n",
              "  <tbody>\n",
              "    <tr>\n",
              "      <th>0</th>\n",
              "      <td>0.00632</td>\n",
              "      <td>18.0</td>\n",
              "      <td>2.31</td>\n",
              "      <td>0.0</td>\n",
              "      <td>0.538</td>\n",
              "      <td>6.575</td>\n",
              "      <td>65.2</td>\n",
              "      <td>4.0900</td>\n",
              "      <td>1.0</td>\n",
              "      <td>296.0</td>\n",
              "      <td>15.3</td>\n",
              "      <td>396.90</td>\n",
              "      <td>4.98</td>\n",
              "      <td>24.0</td>\n",
              "    </tr>\n",
              "    <tr>\n",
              "      <th>1</th>\n",
              "      <td>0.02731</td>\n",
              "      <td>0.0</td>\n",
              "      <td>7.07</td>\n",
              "      <td>0.0</td>\n",
              "      <td>0.469</td>\n",
              "      <td>6.421</td>\n",
              "      <td>78.9</td>\n",
              "      <td>4.9671</td>\n",
              "      <td>2.0</td>\n",
              "      <td>242.0</td>\n",
              "      <td>17.8</td>\n",
              "      <td>396.90</td>\n",
              "      <td>9.14</td>\n",
              "      <td>21.6</td>\n",
              "    </tr>\n",
              "    <tr>\n",
              "      <th>2</th>\n",
              "      <td>0.02729</td>\n",
              "      <td>0.0</td>\n",
              "      <td>7.07</td>\n",
              "      <td>0.0</td>\n",
              "      <td>0.469</td>\n",
              "      <td>7.185</td>\n",
              "      <td>61.1</td>\n",
              "      <td>4.9671</td>\n",
              "      <td>2.0</td>\n",
              "      <td>242.0</td>\n",
              "      <td>17.8</td>\n",
              "      <td>392.83</td>\n",
              "      <td>4.03</td>\n",
              "      <td>34.7</td>\n",
              "    </tr>\n",
              "    <tr>\n",
              "      <th>3</th>\n",
              "      <td>0.03237</td>\n",
              "      <td>0.0</td>\n",
              "      <td>2.18</td>\n",
              "      <td>0.0</td>\n",
              "      <td>0.458</td>\n",
              "      <td>6.998</td>\n",
              "      <td>45.8</td>\n",
              "      <td>6.0622</td>\n",
              "      <td>3.0</td>\n",
              "      <td>222.0</td>\n",
              "      <td>18.7</td>\n",
              "      <td>394.63</td>\n",
              "      <td>2.94</td>\n",
              "      <td>33.4</td>\n",
              "    </tr>\n",
              "    <tr>\n",
              "      <th>4</th>\n",
              "      <td>0.06905</td>\n",
              "      <td>0.0</td>\n",
              "      <td>2.18</td>\n",
              "      <td>0.0</td>\n",
              "      <td>0.458</td>\n",
              "      <td>7.147</td>\n",
              "      <td>54.2</td>\n",
              "      <td>6.0622</td>\n",
              "      <td>3.0</td>\n",
              "      <td>222.0</td>\n",
              "      <td>18.7</td>\n",
              "      <td>396.90</td>\n",
              "      <td>5.33</td>\n",
              "      <td>36.2</td>\n",
              "    </tr>\n",
              "  </tbody>\n",
              "</table>\n",
              "</div>"
            ],
            "text/plain": [
              "      CRIM    ZN  INDUS  CHAS    NOX  ...    TAX  PTRATIO       B  LSTAT  PRICE\n",
              "0  0.00632  18.0   2.31   0.0  0.538  ...  296.0     15.3  396.90   4.98   24.0\n",
              "1  0.02731   0.0   7.07   0.0  0.469  ...  242.0     17.8  396.90   9.14   21.6\n",
              "2  0.02729   0.0   7.07   0.0  0.469  ...  242.0     17.8  392.83   4.03   34.7\n",
              "3  0.03237   0.0   2.18   0.0  0.458  ...  222.0     18.7  394.63   2.94   33.4\n",
              "4  0.06905   0.0   2.18   0.0  0.458  ...  222.0     18.7  396.90   5.33   36.2\n",
              "\n",
              "[5 rows x 14 columns]"
            ]
          },
          "metadata": {
            "tags": []
          },
          "execution_count": 24
        }
      ]
    },
    {
      "cell_type": "markdown",
      "metadata": {
        "id": "_Etc3hjIxGja",
        "colab_type": "text"
      },
      "source": [
        "### 데이터 탐색\n",
        "- 시각화, 통계 검정\n",
        "\n",
        "- 변수 정의"
      ]
    },
    {
      "cell_type": "markdown",
      "metadata": {
        "id": "U4V78EuuxrnL",
        "colab_type": "text"
      },
      "source": [
        "## 머신러닝 모형 만들기\n",
        "\n",
        "- train set 70%, test set 30%의 비율로 무작위 추출(random sampling, shuffle=True)\n"
      ]
    },
    {
      "cell_type": "code",
      "metadata": {
        "id": "XR31S3RBxEP1",
        "colab_type": "code",
        "colab": {
          "base_uri": "https://localhost:8080/",
          "height": 953
        },
        "outputId": "a350aa42-c4a0-4a0f-afb7-612c7841dcfa"
      },
      "source": [
        "from sklearn.model_selection import train_test_split\n",
        "from sklearn.linear_model import LinearRegression\n",
        "from sklearn.metrics import mean_squared_error, r2_score\n",
        "\n",
        "# 훈련데이터, 테스트 분리\n",
        "\n",
        "y_target = bostonDF['PRICE']\n",
        "x_data = bostonDF.drop(['PRICE'], axis = 1, inplace = False)\n",
        "\n",
        "x_train, x_test, y_train, y_test = train_test_split(x_data, y_target, test_size = 0.3, random_state = 1)       # train : test = 7 : 3\n",
        "\n",
        "x_train, x_test, y_train, y_test\n"
      ],
      "execution_count": 25,
      "outputs": [
        {
          "output_type": "execute_result",
          "data": {
            "text/plain": [
              "(        CRIM    ZN  INDUS  CHAS    NOX  ...   RAD    TAX  PTRATIO       B  LSTAT\n",
              " 13   0.62976   0.0   8.14   0.0  0.538  ...   4.0  307.0     21.0  396.90   8.26\n",
              " 61   0.17171  25.0   5.13   0.0  0.453  ...   8.0  284.0     19.7  378.08  14.44\n",
              " 377  9.82349   0.0  18.10   0.0  0.671  ...  24.0  666.0     20.2  396.90  21.24\n",
              " 39   0.02763  75.0   2.95   0.0  0.428  ...   3.0  252.0     18.3  395.63   4.32\n",
              " 365  4.55587   0.0  18.10   0.0  0.718  ...  24.0  666.0     20.2  354.70   7.12\n",
              " ..       ...   ...    ...   ...    ...  ...   ...    ...      ...     ...    ...\n",
              " 255  0.03548  80.0   3.64   0.0  0.392  ...   1.0  315.0     16.4  395.18   9.25\n",
              " 72   0.09164   0.0  10.81   0.0  0.413  ...   4.0  305.0     19.2  390.91   5.52\n",
              " 396  5.87205   0.0  18.10   0.0  0.693  ...  24.0  666.0     20.2  396.90  19.37\n",
              " 235  0.33045   0.0   6.20   0.0  0.507  ...   8.0  307.0     17.4  376.75  10.88\n",
              " 37   0.08014   0.0   5.96   0.0  0.499  ...   5.0  279.0     19.2  396.90   8.77\n",
              " \n",
              " [354 rows x 13 columns],\n",
              "         CRIM    ZN  INDUS  CHAS    NOX  ...   RAD    TAX  PTRATIO       B  LSTAT\n",
              " 307  0.04932  33.0   2.18   0.0  0.472  ...   7.0  222.0     18.4  396.90   7.53\n",
              " 343  0.02543  55.0   3.78   0.0  0.484  ...   5.0  370.0     17.6  396.90   7.18\n",
              " 47   0.22927   0.0   6.91   0.0  0.448  ...   3.0  233.0     17.9  392.74  18.80\n",
              " 67   0.05789  12.5   6.07   0.0  0.409  ...   4.0  345.0     18.9  396.21   8.10\n",
              " 362  3.67822   0.0  18.10   0.0  0.770  ...  24.0  666.0     20.2  380.79  10.19\n",
              " ..       ...   ...    ...   ...    ...  ...   ...    ...      ...     ...    ...\n",
              " 467  4.42228   0.0  18.10   0.0  0.584  ...  24.0  666.0     20.2  331.29  21.32\n",
              " 95   0.12204   0.0   2.89   0.0  0.445  ...   2.0  276.0     18.0  357.98   6.65\n",
              " 122  0.09299   0.0  25.65   0.0  0.581  ...   2.0  188.0     19.1  378.09  17.93\n",
              " 260  0.54011  20.0   3.97   0.0  0.647  ...   5.0  264.0     13.0  392.80   9.59\n",
              " 23   0.98843   0.0   8.14   0.0  0.538  ...   4.0  307.0     21.0  394.54  19.88\n",
              " \n",
              " [152 rows x 13 columns],\n",
              " 13     20.4\n",
              " 61     16.0\n",
              " 377    13.3\n",
              " 39     30.8\n",
              " 365    27.5\n",
              "        ... \n",
              " 255    20.9\n",
              " 72     22.8\n",
              " 396    12.5\n",
              " 235    24.0\n",
              " 37     21.0\n",
              " Name: PRICE, Length: 354, dtype: float64,\n",
              " 307    28.2\n",
              " 343    23.9\n",
              " 47     16.6\n",
              " 67     22.0\n",
              " 362    20.8\n",
              "        ... \n",
              " 467    19.1\n",
              " 95     28.4\n",
              " 122    20.5\n",
              " 260    33.8\n",
              " 23     14.5\n",
              " Name: PRICE, Length: 152, dtype: float64)"
            ]
          },
          "metadata": {
            "tags": []
          },
          "execution_count": 25
        }
      ]
    },
    {
      "cell_type": "code",
      "metadata": {
        "id": "rPYS1tOqzQc7",
        "colab_type": "code",
        "colab": {
          "base_uri": "https://localhost:8080/",
          "height": 35
        },
        "outputId": "447a7e91-30fb-49da-d1c8-124f3a9d9aec"
      },
      "source": [
        "#모형 만들기 = 선형회귀\n",
        "\n",
        "Ir_model = LinearRegression()\n",
        "Ir_model.fit(x_train, y_train)"
      ],
      "execution_count": 13,
      "outputs": [
        {
          "output_type": "execute_result",
          "data": {
            "text/plain": [
              "LinearRegression(copy_X=True, fit_intercept=True, n_jobs=None, normalize=False)"
            ]
          },
          "metadata": {
            "tags": []
          },
          "execution_count": 13
        }
      ]
    },
    {
      "cell_type": "code",
      "metadata": {
        "id": "Zm5yV1Ivy4sV",
        "colab_type": "code",
        "colab": {
          "base_uri": "https://localhost:8080/",
          "height": 575
        },
        "outputId": "bc6ef235-1ed1-46a0-98c7-e0a2f7fd56a4"
      },
      "source": [
        "# 예측\n",
        "\n",
        "y_preds = Ir_model.predict(x_test)\n",
        "y_preds"
      ],
      "execution_count": 17,
      "outputs": [
        {
          "output_type": "execute_result",
          "data": {
            "text/plain": [
              "array([32.3914647 , 27.94401279, 17.83762764, 21.66941388, 18.93639614,\n",
              "       20.01995795, 32.63414961, 17.86179976, 24.73211676, 26.77346826,\n",
              "       27.26138023, 28.63243014, 21.16103038, 27.15098589, 23.33198614,\n",
              "       21.02894005, 17.11819755, 37.52455938, 30.69864427,  8.46104486,\n",
              "       20.83966032, 16.26732451, 25.05030307, 24.8069032 , 31.6789299 ,\n",
              "       10.98989363, 13.54111562, 16.54697099, 35.86699683, 14.69589266,\n",
              "       21.05655107, 13.90301353, 43.01321262, 17.80335305, 21.68817023,\n",
              "       20.45077825, 17.38095983, 26.81334904, 10.08706217, 19.96174586,\n",
              "       24.1983249 , 21.00202622, 29.38682967, 16.33215467, 19.37439646,\n",
              "       14.45525235, 39.52670798, 18.18535021, 26.38536303, 20.41420863,\n",
              "       25.08511581, 24.40208165, 24.87902769, 26.97887956,  4.93921657,\n",
              "       24.0001365 , 10.66711602, 26.98494775, 16.63507993, 35.31652989,\n",
              "       19.49249915, 27.37577863, 16.53965715, 19.09746715, 11.06765336,\n",
              "       32.03445261, 36.15847648, 21.53547868, 24.96434626, 25.50601154,\n",
              "       23.41203509,  7.20513615, 16.8659937 , 20.06269471, 20.61979368,\n",
              "       21.97238475, 34.25908683, 27.9998298 , 24.95261644, 34.74201458,\n",
              "       18.63786454, 23.95355085, 34.50655345, 13.15979729, 20.53691051,\n",
              "       30.29844955, 16.932953  , 24.29285934, 19.11800155, 16.9848188 ,\n",
              "       26.80165303, 40.90027245, 14.43790215, 23.20589688, 15.39439519,\n",
              "       21.77332361, 22.85660249, 29.45718412, 36.54373379, 20.36577747,\n",
              "       18.01790611, 17.41615519, 25.23381893, 21.98069747,  8.3160445 ,\n",
              "       21.49942727, 16.565317  , 33.22680671, 24.39944797, 24.99055027,\n",
              "       38.37532568, 28.82033178, 14.76287071, 34.72063358, 35.40686066,\n",
              "       32.93299015, 20.95996646, 16.74324182, 34.54769634, 38.9463732 ,\n",
              "       21.47971843, 15.54203787, 27.46719043, 18.62729405, 27.3819011 ,\n",
              "       21.13549164, 26.24403323, 22.22010257, 23.34295812, 28.29923408,\n",
              "       20.53788412, 23.94639233, 29.8421088 , 10.55075792, 27.02280253,\n",
              "       32.41641579, 13.94180705, 13.62057726, 33.00870341, 14.2836798 ,\n",
              "       17.70899424, 16.30194776, 17.14377392, 28.71467061, 34.07548297,\n",
              "       20.31288796, 24.55801246, 17.32995936, 28.3602341 , 20.79422791,\n",
              "       33.6981572 , 13.51882716])"
            ]
          },
          "metadata": {
            "tags": []
          },
          "execution_count": 17
        }
      ]
    },
    {
      "cell_type": "markdown",
      "metadata": {
        "id": "8KJB2ZEDzZSD",
        "colab_type": "text"
      },
      "source": [
        "- mean_squared_error(MSE): 실제값과 예측값의 차이를 제곱 후 평균"
      ]
    },
    {
      "cell_type": "code",
      "metadata": {
        "id": "eJjf_23ZzzSj",
        "colab_type": "code",
        "colab": {
          "base_uri": "https://localhost:8080/",
          "height": 35
        },
        "outputId": "3fea0bce-440a-4428-f8cd-89984a4d4aba"
      },
      "source": [
        "mse = mean_squared_error(y_test, y_preds)\n",
        "mse"
      ],
      "execution_count": 16,
      "outputs": [
        {
          "output_type": "execute_result",
          "data": {
            "text/plain": [
              "19.831323672062922"
            ]
          },
          "metadata": {
            "tags": []
          },
          "execution_count": 16
        }
      ]
    },
    {
      "cell_type": "code",
      "metadata": {
        "id": "C85YPjOmz9mT",
        "colab_type": "code",
        "colab": {
          "base_uri": "https://localhost:8080/",
          "height": 35
        },
        "outputId": "b53cda4d-679d-40c2-e322-2e48e0646fd9"
      },
      "source": [
        "rmse = np.sqrt(mse)\n",
        "rmse"
      ],
      "execution_count": 18,
      "outputs": [
        {
          "output_type": "execute_result",
          "data": {
            "text/plain": [
              "4.4532374371981245"
            ]
          },
          "metadata": {
            "tags": []
          },
          "execution_count": 18
        }
      ]
    },
    {
      "cell_type": "markdown",
      "metadata": {
        "id": "UFGnkX260H10",
        "colab_type": "text"
      },
      "source": [
        "## K 폴드 적용\n",
        "- cross_val_score() 함수 활용해서 RMSE\n",
        "\n",
        "- 설정 : 5번의 폴드값"
      ]
    },
    {
      "cell_type": "code",
      "metadata": {
        "id": "aPnJx5km0NO6",
        "colab_type": "code",
        "colab": {
          "base_uri": "https://localhost:8080/",
          "height": 53
        },
        "outputId": "e324e461-3760-4782-c011-0a36e356eb49"
      },
      "source": [
        "from sklearn.model_selection import cross_val_score\n",
        "neg_mse_scores= cross_val_score(Ir_model, x_data, y_target, scoring='neg_mean_squared_error', cv=5)\n",
        "# 반환되는 숫자가 음수값 \n",
        "\n",
        "neg_mse_scores"
      ],
      "execution_count": 20,
      "outputs": [
        {
          "output_type": "execute_result",
          "data": {
            "text/plain": [
              "array([-12.46030057, -26.04862111, -33.07413798, -80.76237112,\n",
              "       -33.31360656])"
            ]
          },
          "metadata": {
            "tags": []
          },
          "execution_count": 20
        }
      ]
    },
    {
      "cell_type": "code",
      "metadata": {
        "id": "3xmAhDKc1Ad_",
        "colab_type": "code",
        "colab": {
          "base_uri": "https://localhost:8080/",
          "height": 35
        },
        "outputId": "dd54433e-296b-4d0f-c7be-16f7dcfbaee3"
      },
      "source": [
        "# 그래서 양수로 변환\n",
        "\n",
        "rmse_scores = np.sqrt(-1 * neg_mse_scores)\n",
        "rmse_scores"
      ],
      "execution_count": 22,
      "outputs": [
        {
          "output_type": "execute_result",
          "data": {
            "text/plain": [
              "array([3.52991509, 5.10378498, 5.75101191, 8.9867887 , 5.77179405])"
            ]
          },
          "metadata": {
            "tags": []
          },
          "execution_count": 22
        }
      ]
    },
    {
      "cell_type": "code",
      "metadata": {
        "id": "PdN7SBPE1Rj8",
        "colab_type": "code",
        "colab": {
          "base_uri": "https://localhost:8080/",
          "height": 35
        },
        "outputId": "88886d62-1533-4351-b6bf-c42243eeac5b"
      },
      "source": [
        "# 평균값 구하기\n",
        "\n",
        "avg_rmse = np.mean(rmse_scores)\n",
        "avg_rmse"
      ],
      "execution_count": 23,
      "outputs": [
        {
          "output_type": "execute_result",
          "data": {
            "text/plain": [
              "5.828658946215802"
            ]
          },
          "metadata": {
            "tags": []
          },
          "execution_count": 23
        }
      ]
    }
  ]
}